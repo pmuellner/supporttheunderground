{
 "cells": [
  {
   "cell_type": "code",
   "execution_count": 277,
   "metadata": {},
   "outputs": [],
   "source": [
    "import pandas as pd\n",
    "import numpy as np\n",
    "import sqlalchemy\n",
    "import ast\n",
    "from itertools import chain\n",
    "import matplotlib.pyplot as plt\n",
    "import seaborn as sns\n",
    "from matplotlib.ticker import FormatStrFormatter\n",
    "from sklearn.metrics.pairwise import cosine_similarity\n",
    "from itertools import cycle\n",
    "from collections import Counter\n",
    "from scipy.stats import percentileofscore\n",
    "from sklearn.preprocessing import MinMaxScaler\n",
    "import pycountry"
   ]
  },
  {
   "cell_type": "code",
   "execution_count": 255,
   "metadata": {},
   "outputs": [],
   "source": [
    "plt.style.use(\"seaborn-colorblind\")"
   ]
  },
  {
   "cell_type": "markdown",
   "metadata": {},
   "source": [
    "# Data Preparation"
   ]
  },
  {
   "cell_type": "code",
   "execution_count": 3,
   "metadata": {},
   "outputs": [
    {
     "data": {
      "text/html": [
       "<div>\n",
       "<style scoped>\n",
       "    .dataframe tbody tr th:only-of-type {\n",
       "        vertical-align: middle;\n",
       "    }\n",
       "\n",
       "    .dataframe tbody tr th {\n",
       "        vertical-align: top;\n",
       "    }\n",
       "\n",
       "    .dataframe thead th {\n",
       "        text-align: right;\n",
       "    }\n",
       "</style>\n",
       "<table border=\"1\" class=\"dataframe\">\n",
       "  <thead>\n",
       "    <tr style=\"text-align: right;\">\n",
       "      <th></th>\n",
       "      <th>cluster</th>\n",
       "    </tr>\n",
       "    <tr>\n",
       "      <th>track_id</th>\n",
       "      <th></th>\n",
       "    </tr>\n",
       "  </thead>\n",
       "  <tbody>\n",
       "    <tr>\n",
       "      <th>4868</th>\n",
       "      <td>1</td>\n",
       "    </tr>\n",
       "    <tr>\n",
       "      <th>572665</th>\n",
       "      <td>1</td>\n",
       "    </tr>\n",
       "    <tr>\n",
       "      <th>2897</th>\n",
       "      <td>1</td>\n",
       "    </tr>\n",
       "    <tr>\n",
       "      <th>15100</th>\n",
       "      <td>1</td>\n",
       "    </tr>\n",
       "    <tr>\n",
       "      <th>7112</th>\n",
       "      <td>1</td>\n",
       "    </tr>\n",
       "  </tbody>\n",
       "</table>\n",
       "</div>"
      ],
      "text/plain": [
       "          cluster\n",
       "track_id         \n",
       "4868            1\n",
       "572665          1\n",
       "2897            1\n",
       "15100           1\n",
       "7112            1"
      ]
     },
     "execution_count": 3,
     "metadata": {},
     "output_type": "execute_result"
    }
   ],
   "source": [
    "clustering_df = pd.read_csv(\"data/track_clustering.csv\", usecols=[\"track_id\", \"cluster\"]).set_index(\"track_id\")\n",
    "clustering_df = clustering_df[clustering_df[\"cluster\"] != -1]\n",
    "clustering_df.head()"
   ]
  },
  {
   "cell_type": "code",
   "execution_count": 4,
   "metadata": {},
   "outputs": [],
   "source": [
    "beyms = pd.read_csv(\"data/beyms.csv\")[\"user_id\"].tolist()"
   ]
  },
  {
   "cell_type": "code",
   "execution_count": 5,
   "metadata": {},
   "outputs": [],
   "source": [
    "clustered_tracks = clustering_df.index.unique().tolist()"
   ]
  },
  {
   "cell_type": "markdown",
   "metadata": {},
   "source": [
    "# Calculate User-to-Cluster weights"
   ]
  },
  {
   "cell_type": "code",
   "execution_count": 6,
   "metadata": {},
   "outputs": [
    {
     "data": {
      "text/plain": [
       "{'DB_PATH': '@localhost:3306/music_recommender_db',\n",
       " 'DB_USERNAME': 'root',\n",
       " 'DB_PW': '1234'}"
      ]
     },
     "execution_count": 6,
     "metadata": {},
     "output_type": "execute_result"
    }
   ],
   "source": [
    "db_options_df = pd.read_csv(\"db_credentials.txt\", sep=\"=\", header=None)\n",
    "db_options_df.columns = [\"variable\", \"value\"]\n",
    "db_options_df = db_options_df.apply(lambda col: col.str.strip())\n",
    "db_options_df.set_index(\"variable\", inplace=True)\n",
    "db_options = db_options_df[\"value\"].to_dict()\n",
    "db_options"
   ]
  },
  {
   "cell_type": "code",
   "execution_count": 7,
   "metadata": {},
   "outputs": [],
   "source": [
    "connection = sqlalchemy.create_engine('mysql+pymysql://' + db_options[\"DB_USERNAME\"] + \":\" + db_options[\"DB_PW\"] + db_options[\"DB_PATH\"])"
   ]
  },
  {
   "cell_type": "code",
   "execution_count": 8,
   "metadata": {},
   "outputs": [
    {
     "name": "stderr",
     "output_type": "stream",
     "text": [
      "C:\\Users\\pmuellner\\AppData\\Local\\Continuum\\anaconda3\\lib\\site-packages\\pymysql\\cursors.py:170: Warning: (1366, \"Incorrect string value: '\\\\xE4ische...' for column 'VARIABLE_VALUE' at row 1\")\n",
      "  result = self._query(query)\n"
     ]
    },
    {
     "data": {
      "text/html": [
       "<div>\n",
       "<style scoped>\n",
       "    .dataframe tbody tr th:only-of-type {\n",
       "        vertical-align: middle;\n",
       "    }\n",
       "\n",
       "    .dataframe tbody tr th {\n",
       "        vertical-align: top;\n",
       "    }\n",
       "\n",
       "    .dataframe thead th {\n",
       "        text-align: right;\n",
       "    }\n",
       "</style>\n",
       "<table border=\"1\" class=\"dataframe\">\n",
       "  <thead>\n",
       "    <tr style=\"text-align: right;\">\n",
       "      <th></th>\n",
       "      <th>user_id</th>\n",
       "      <th>artist_id</th>\n",
       "      <th>track_id</th>\n",
       "    </tr>\n",
       "  </thead>\n",
       "  <tbody>\n",
       "    <tr>\n",
       "      <th>0</th>\n",
       "      <td>31435741</td>\n",
       "      <td>21</td>\n",
       "      <td>53</td>\n",
       "    </tr>\n",
       "    <tr>\n",
       "      <th>1</th>\n",
       "      <td>31435741</td>\n",
       "      <td>21</td>\n",
       "      <td>53</td>\n",
       "    </tr>\n",
       "    <tr>\n",
       "      <th>2</th>\n",
       "      <td>31435741</td>\n",
       "      <td>21</td>\n",
       "      <td>53</td>\n",
       "    </tr>\n",
       "    <tr>\n",
       "      <th>3</th>\n",
       "      <td>31435741</td>\n",
       "      <td>21</td>\n",
       "      <td>53</td>\n",
       "    </tr>\n",
       "    <tr>\n",
       "      <th>4</th>\n",
       "      <td>31435741</td>\n",
       "      <td>21</td>\n",
       "      <td>53</td>\n",
       "    </tr>\n",
       "  </tbody>\n",
       "</table>\n",
       "</div>"
      ],
      "text/plain": [
       "    user_id  artist_id  track_id\n",
       "0  31435741         21        53\n",
       "1  31435741         21        53\n",
       "2  31435741         21        53\n",
       "3  31435741         21        53\n",
       "4  31435741         21        53"
      ]
     },
     "execution_count": 8,
     "metadata": {},
     "output_type": "execute_result"
    }
   ],
   "source": [
    "events_df = pd.read_sql(con=connection, sql=\"SELECT user_id, artist_id, track_id FROM events WHERE user_id IN \" + str(tuple(beyms)) + \" AND track_id IN \" + str(tuple(clustered_tracks)))\n",
    "events_df.head()"
   ]
  },
  {
   "cell_type": "code",
   "execution_count": 9,
   "metadata": {},
   "outputs": [
    {
     "data": {
      "text/html": [
       "<div>\n",
       "<style scoped>\n",
       "    .dataframe tbody tr th:only-of-type {\n",
       "        vertical-align: middle;\n",
       "    }\n",
       "\n",
       "    .dataframe tbody tr th {\n",
       "        vertical-align: top;\n",
       "    }\n",
       "\n",
       "    .dataframe thead th {\n",
       "        text-align: right;\n",
       "    }\n",
       "</style>\n",
       "<table border=\"1\" class=\"dataframe\">\n",
       "  <thead>\n",
       "    <tr style=\"text-align: right;\">\n",
       "      <th></th>\n",
       "      <th>user_id</th>\n",
       "      <th>artist_id</th>\n",
       "      <th>track_id</th>\n",
       "      <th>cluster</th>\n",
       "    </tr>\n",
       "  </thead>\n",
       "  <tbody>\n",
       "    <tr>\n",
       "      <th>0</th>\n",
       "      <td>31435741</td>\n",
       "      <td>21</td>\n",
       "      <td>53</td>\n",
       "      <td>1</td>\n",
       "    </tr>\n",
       "    <tr>\n",
       "      <th>1</th>\n",
       "      <td>31435741</td>\n",
       "      <td>21</td>\n",
       "      <td>53</td>\n",
       "      <td>1</td>\n",
       "    </tr>\n",
       "    <tr>\n",
       "      <th>2</th>\n",
       "      <td>31435741</td>\n",
       "      <td>21</td>\n",
       "      <td>53</td>\n",
       "      <td>1</td>\n",
       "    </tr>\n",
       "    <tr>\n",
       "      <th>3</th>\n",
       "      <td>31435741</td>\n",
       "      <td>21</td>\n",
       "      <td>53</td>\n",
       "      <td>1</td>\n",
       "    </tr>\n",
       "    <tr>\n",
       "      <th>4</th>\n",
       "      <td>31435741</td>\n",
       "      <td>21</td>\n",
       "      <td>53</td>\n",
       "      <td>1</td>\n",
       "    </tr>\n",
       "  </tbody>\n",
       "</table>\n",
       "</div>"
      ],
      "text/plain": [
       "    user_id  artist_id  track_id  cluster\n",
       "0  31435741         21        53        1\n",
       "1  31435741         21        53        1\n",
       "2  31435741         21        53        1\n",
       "3  31435741         21        53        1\n",
       "4  31435741         21        53        1"
      ]
     },
     "execution_count": 9,
     "metadata": {},
     "output_type": "execute_result"
    }
   ],
   "source": [
    "events_to_cluster_df = events_df.merge(clustering_df, left_on=\"track_id\", right_index=True)\n",
    "events_to_cluster_df.head()"
   ]
  },
  {
   "cell_type": "code",
   "execution_count": 10,
   "metadata": {},
   "outputs": [
    {
     "data": {
      "text/html": [
       "<div>\n",
       "<style scoped>\n",
       "    .dataframe tbody tr th:only-of-type {\n",
       "        vertical-align: middle;\n",
       "    }\n",
       "\n",
       "    .dataframe tbody tr th {\n",
       "        vertical-align: top;\n",
       "    }\n",
       "\n",
       "    .dataframe thead th {\n",
       "        text-align: right;\n",
       "    }\n",
       "</style>\n",
       "<table border=\"1\" class=\"dataframe\">\n",
       "  <thead>\n",
       "    <tr style=\"text-align: right;\">\n",
       "      <th>cluster</th>\n",
       "      <th>0</th>\n",
       "      <th>1</th>\n",
       "      <th>2</th>\n",
       "      <th>3</th>\n",
       "    </tr>\n",
       "    <tr>\n",
       "      <th>user_id</th>\n",
       "      <th></th>\n",
       "      <th></th>\n",
       "      <th></th>\n",
       "      <th></th>\n",
       "    </tr>\n",
       "  </thead>\n",
       "  <tbody>\n",
       "    <tr>\n",
       "      <th>1049656</th>\n",
       "      <td>0.064476</td>\n",
       "      <td>0.295702</td>\n",
       "      <td>0.369318</td>\n",
       "      <td>0.270504</td>\n",
       "    </tr>\n",
       "    <tr>\n",
       "      <th>1055118</th>\n",
       "      <td>0.051454</td>\n",
       "      <td>0.940716</td>\n",
       "      <td>0.001119</td>\n",
       "      <td>0.006711</td>\n",
       "    </tr>\n",
       "    <tr>\n",
       "      <th>1056935</th>\n",
       "      <td>0.105074</td>\n",
       "      <td>0.711047</td>\n",
       "      <td>0.051457</td>\n",
       "      <td>0.132422</td>\n",
       "    </tr>\n",
       "    <tr>\n",
       "      <th>1070023</th>\n",
       "      <td>0.028662</td>\n",
       "      <td>0.816348</td>\n",
       "      <td>0.019108</td>\n",
       "      <td>0.135881</td>\n",
       "    </tr>\n",
       "    <tr>\n",
       "      <th>1072752</th>\n",
       "      <td>0.294695</td>\n",
       "      <td>0.431565</td>\n",
       "      <td>0.105435</td>\n",
       "      <td>0.168304</td>\n",
       "    </tr>\n",
       "  </tbody>\n",
       "</table>\n",
       "</div>"
      ],
      "text/plain": [
       "cluster         0         1         2         3\n",
       "user_id                                        \n",
       "1049656  0.064476  0.295702  0.369318  0.270504\n",
       "1055118  0.051454  0.940716  0.001119  0.006711\n",
       "1056935  0.105074  0.711047  0.051457  0.132422\n",
       "1070023  0.028662  0.816348  0.019108  0.135881\n",
       "1072752  0.294695  0.431565  0.105435  0.168304"
      ]
     },
     "execution_count": 10,
     "metadata": {},
     "output_type": "execute_result"
    }
   ],
   "source": [
    "weights_df = events_to_cluster_df.groupby([\"user_id\", \"cluster\"]).size() / events_to_cluster_df.groupby(\"user_id\").size()\n",
    "weights_df = weights_df.reset_index()\n",
    "weights_df.columns = [\"user_id\", \"cluster\", \"weight\"]\n",
    "weights_df = weights_df.pivot(index=\"user_id\", columns=\"cluster\", values=\"weight\").fillna(0)\n",
    "weights_df.head()"
   ]
  },
  {
   "cell_type": "markdown",
   "metadata": {},
   "source": [
    "# Calculate IDF-score of Track Clusters"
   ]
  },
  {
   "cell_type": "code",
   "execution_count": 11,
   "metadata": {},
   "outputs": [
    {
     "data": {
      "text/plain": [
       "cluster\n",
       "0    1.070692\n",
       "1    0.187658\n",
       "2    1.272729\n",
       "3    0.672623\n",
       "dtype: float64"
      ]
     },
     "execution_count": 11,
     "metadata": {},
     "output_type": "execute_result"
    }
   ],
   "source": [
    "cluster_idf_scores = np.log10(len(clustering_df) / clustering_df.groupby(\"cluster\").size())\n",
    "cluster_idf_scores"
   ]
  },
  {
   "cell_type": "markdown",
   "metadata": {},
   "source": [
    "# Assign Users to Track Clusters"
   ]
  },
  {
   "cell_type": "code",
   "execution_count": 12,
   "metadata": {},
   "outputs": [
    {
     "data": {
      "text/html": [
       "<div>\n",
       "<style scoped>\n",
       "    .dataframe tbody tr th:only-of-type {\n",
       "        vertical-align: middle;\n",
       "    }\n",
       "\n",
       "    .dataframe tbody tr th {\n",
       "        vertical-align: top;\n",
       "    }\n",
       "\n",
       "    .dataframe thead th {\n",
       "        text-align: right;\n",
       "    }\n",
       "</style>\n",
       "<table border=\"1\" class=\"dataframe\">\n",
       "  <thead>\n",
       "    <tr style=\"text-align: right;\">\n",
       "      <th></th>\n",
       "      <th>user group</th>\n",
       "    </tr>\n",
       "    <tr>\n",
       "      <th>user_id</th>\n",
       "      <th></th>\n",
       "    </tr>\n",
       "  </thead>\n",
       "  <tbody>\n",
       "    <tr>\n",
       "      <th>1049656</th>\n",
       "      <td>2</td>\n",
       "    </tr>\n",
       "    <tr>\n",
       "      <th>1055118</th>\n",
       "      <td>1</td>\n",
       "    </tr>\n",
       "    <tr>\n",
       "      <th>1056935</th>\n",
       "      <td>1</td>\n",
       "    </tr>\n",
       "    <tr>\n",
       "      <th>1070023</th>\n",
       "      <td>1</td>\n",
       "    </tr>\n",
       "    <tr>\n",
       "      <th>1072752</th>\n",
       "      <td>0</td>\n",
       "    </tr>\n",
       "  </tbody>\n",
       "</table>\n",
       "</div>"
      ],
      "text/plain": [
       "         user group\n",
       "user_id            \n",
       "1049656           2\n",
       "1055118           1\n",
       "1056935           1\n",
       "1070023           1\n",
       "1072752           0"
      ]
     },
     "execution_count": 12,
     "metadata": {},
     "output_type": "execute_result"
    }
   ],
   "source": [
    "user_groups = []\n",
    "for user_id, weights in weights_df.iterrows():\n",
    "    favorite_track_cluster = (weights * cluster_idf_scores).idxmax()\n",
    "    user_groups.append((user_id, favorite_track_cluster))\n",
    "user_groups_df = pd.DataFrame(user_groups, columns=[\"user_id\", \"user group\"]).set_index(\"user_id\")\n",
    "user_groups_df.head()"
   ]
  },
  {
   "cell_type": "code",
   "execution_count": 13,
   "metadata": {},
   "outputs": [],
   "source": [
    "U1 = user_groups_df[user_groups_df[\"user group\"] == 0].index.tolist()\n",
    "U2 = user_groups_df[user_groups_df[\"user group\"] == 1].index.tolist()\n",
    "U3 = user_groups_df[user_groups_df[\"user group\"] == 2].index.tolist()\n",
    "U4 = user_groups_df[user_groups_df[\"user group\"] == 3].index.tolist()"
   ]
  },
  {
   "cell_type": "markdown",
   "metadata": {},
   "source": [
    "# Basic Statistics of User Groups"
   ]
  },
  {
   "cell_type": "code",
   "execution_count": 14,
   "metadata": {},
   "outputs": [],
   "source": [
    "n_artists_U1 = events_df[events_df[\"user_id\"].isin(U1)][\"artist_id\"].nunique()\n",
    "n_artists_U2 = events_df[events_df[\"user_id\"].isin(U2)][\"artist_id\"].nunique()\n",
    "n_artists_U3 = events_df[events_df[\"user_id\"].isin(U3)][\"artist_id\"].nunique()\n",
    "n_artists_U4 = events_df[events_df[\"user_id\"].isin(U4)][\"artist_id\"].nunique()"
   ]
  },
  {
   "cell_type": "code",
   "execution_count": 15,
   "metadata": {},
   "outputs": [],
   "source": [
    "n_tracks_U1 = events_df[events_df[\"user_id\"].isin(U1)][\"track_id\"].nunique()\n",
    "n_tracks_U2 = events_df[events_df[\"user_id\"].isin(U2)][\"track_id\"].nunique()\n",
    "n_tracks_U3 = events_df[events_df[\"user_id\"].isin(U3)][\"track_id\"].nunique()\n",
    "n_tracks_U4 = events_df[events_df[\"user_id\"].isin(U4)][\"track_id\"].nunique()"
   ]
  },
  {
   "cell_type": "code",
   "execution_count": 16,
   "metadata": {},
   "outputs": [],
   "source": [
    "n_LEs_U1 = len(events_df[events_df[\"user_id\"].isin(U1)])\n",
    "n_LEs_U2 = len(events_df[events_df[\"user_id\"].isin(U2)])\n",
    "n_LEs_U3 = len(events_df[events_df[\"user_id\"].isin(U3)])\n",
    "n_LEs_U4 = len(events_df[events_df[\"user_id\"].isin(U4)])"
   ]
  },
  {
   "cell_type": "code",
   "execution_count": 17,
   "metadata": {},
   "outputs": [],
   "source": [
    "genres_in_clusters_df = pd.read_csv(\"data/genre_annotations.csv\").merge(clustering_df, left_on=\"track_id\", right_index=True)\n",
    "genres_in_clusters_df[\"genres\"] = genres_in_clusters_df[\"genres\"].apply(ast.literal_eval)\n",
    "\n",
    "n_genres_U1 = genres_in_clusters_df.groupby(\"cluster\")[\"genres\"].apply(chain.from_iterable).apply(set).apply(len)[0]\n",
    "n_genres_U2 = genres_in_clusters_df.groupby(\"cluster\")[\"genres\"].apply(chain.from_iterable).apply(set).apply(len)[1]\n",
    "n_genres_U3 = genres_in_clusters_df.groupby(\"cluster\")[\"genres\"].apply(chain.from_iterable).apply(set).apply(len)[2]\n",
    "n_genres_U4 = genres_in_clusters_df.groupby(\"cluster\")[\"genres\"].apply(chain.from_iterable).apply(set).apply(len)[3]"
   ]
  },
  {
   "cell_type": "code",
   "execution_count": 18,
   "metadata": {},
   "outputs": [],
   "source": [
    "avg_LEs_U1 = events_df[events_df[\"user_id\"].isin(U1)].groupby(\"user_id\").size().mean()\n",
    "avg_LEs_U2 = events_df[events_df[\"user_id\"].isin(U2)].groupby(\"user_id\").size().mean()\n",
    "avg_LEs_U3 = events_df[events_df[\"user_id\"].isin(U3)].groupby(\"user_id\").size().mean()\n",
    "avg_LEs_U4 = events_df[events_df[\"user_id\"].isin(U4)].groupby(\"user_id\").size().mean()"
   ]
  },
  {
   "cell_type": "code",
   "execution_count": 19,
   "metadata": {},
   "outputs": [],
   "source": [
    "avg_tracks_U1 = events_df[events_df[\"user_id\"].isin(U1)].groupby(\"user_id\")[\"track_id\"].nunique().mean()\n",
    "avg_tracks_U2 = events_df[events_df[\"user_id\"].isin(U2)].groupby(\"user_id\")[\"track_id\"].nunique().mean()\n",
    "avg_tracks_U3 = events_df[events_df[\"user_id\"].isin(U3)].groupby(\"user_id\")[\"track_id\"].nunique().mean()\n",
    "avg_tracks_U4 = events_df[events_df[\"user_id\"].isin(U4)].groupby(\"user_id\")[\"track_id\"].nunique().mean()"
   ]
  },
  {
   "cell_type": "code",
   "execution_count": 20,
   "metadata": {},
   "outputs": [],
   "source": [
    "users_df = pd.read_csv(\"data/LFM-1b_users.txt\", sep=\"\\t\")\n",
    "users_df = users_df[users_df[\"age\"] != -1]\n",
    "avg_age_U1 = users_df[users_df[\"user_id\"].isin(U1)][\"age\"].mean()\n",
    "avg_age_U2 = users_df[users_df[\"user_id\"].isin(U2)][\"age\"].mean()\n",
    "avg_age_U3 = users_df[users_df[\"user_id\"].isin(U3)][\"age\"].mean()\n",
    "avg_age_U4 = users_df[users_df[\"user_id\"].isin(U4)][\"age\"].mean()\n",
    "sd_age_U1 = users_df[users_df[\"user_id\"].isin(U1)][\"age\"].std()\n",
    "sd_age_U2 = users_df[users_df[\"user_id\"].isin(U2)][\"age\"].std()\n",
    "sd_age_U3 = users_df[users_df[\"user_id\"].isin(U3)][\"age\"].std()\n",
    "sd_age_U4 = users_df[users_df[\"user_id\"].isin(U4)][\"age\"].std()"
   ]
  },
  {
   "cell_type": "code",
   "execution_count": 21,
   "metadata": {},
   "outputs": [
    {
     "name": "stdout",
     "output_type": "stream",
     "text": [
      "[Users] U_folk: 369, U_hard: 919, U_ambi: 143, U_elec: 642\n",
      "[Artists]  U_folk: 9559, U_hard: 11966, U_ambi: 6869, U_elec: 11814\n",
      "[Tracks]  U_folk: 72663, U_hard: 107952, U_ambi: 39649, U_elec: 105907\n",
      "[LEs] U_folk: 702635, U_hard: 2150246, U_ambi: 224327, U_elec: 1416354\n",
      "[Genres] U_folk: 811, U_hard: 1274, U_ambi: 695, U_elec: 1005\n",
      "[Avg. LEs per user] U_folk: 1904.160, U_hard: 2339.767, U_ambi: 1568.720, U_elec: 2206.159\n",
      "[Avg. Tracks per user] U_folk: 549.650, U_hard: 557.470, U_ambi: 473.308, U_elec: 670.402\n",
      "[Avg. Age (Std)] U_folk: 27.599 (10.369), U_hard: 23.867 (8.912), U_ambi: 29.571 (14.138), U_elec: 24.639 (7.886)\n"
     ]
    }
   ],
   "source": [
    "print(\"[Users] U_folk: %d, U_hard: %d, U_ambi: %d, U_elec: %d\" % (len(U1), len(U2), len(U3), len(U4)))\n",
    "print(\"[Artists]  U_folk: %d, U_hard: %d, U_ambi: %d, U_elec: %d\"% (n_artists_U1, n_artists_U2, n_artists_U3, n_artists_U4))\n",
    "print(\"[Tracks]  U_folk: %d, U_hard: %d, U_ambi: %d, U_elec: %d\" % (n_tracks_U1, n_tracks_U2, n_tracks_U3, n_tracks_U4))\n",
    "print(\"[LEs] U_folk: %d, U_hard: %d, U_ambi: %d, U_elec: %d\" % (n_LEs_U1, n_LEs_U2, n_LEs_U3, n_LEs_U4))\n",
    "print(\"[Genres] U_folk: %d, U_hard: %d, U_ambi: %d, U_elec: %d\" % (n_genres_U1, n_genres_U2, n_genres_U3, n_genres_U4))\n",
    "print(\"[Avg. LEs per user] U_folk: %.3f, U_hard: %.3f, U_ambi: %.3f, U_elec: %.3f\" % (avg_LEs_U1, avg_LEs_U2, avg_LEs_U3, avg_LEs_U4))\n",
    "print(\"[Avg. Tracks per user] U_folk: %.3f, U_hard: %.3f, U_ambi: %.3f, U_elec: %.3f\" % (avg_tracks_U1, avg_tracks_U2, avg_tracks_U3, avg_tracks_U4))\n",
    "print(\"[Avg. Age (Std)] U_folk: %.3f (%.3f), U_hard: %.3f (%.3f), U_ambi: %.3f (%.3f), U_elec: %.3f (%.3f)\" % (avg_age_U1, sd_age_U1, avg_age_U2, sd_age_U2, avg_age_U3, sd_age_U3, avg_age_U4, sd_age_U4))"
   ]
  },
  {
   "cell_type": "markdown",
   "metadata": {},
   "source": [
    "# Radar plot of a Track Cluster's contribution"
   ]
  },
  {
   "cell_type": "code",
   "execution_count": 22,
   "metadata": {},
   "outputs": [
    {
     "data": {
      "text/html": [
       "<div>\n",
       "<style scoped>\n",
       "    .dataframe tbody tr th:only-of-type {\n",
       "        vertical-align: middle;\n",
       "    }\n",
       "\n",
       "    .dataframe tbody tr th {\n",
       "        vertical-align: top;\n",
       "    }\n",
       "\n",
       "    .dataframe thead th {\n",
       "        text-align: right;\n",
       "    }\n",
       "</style>\n",
       "<table border=\"1\" class=\"dataframe\">\n",
       "  <thead>\n",
       "    <tr style=\"text-align: right;\">\n",
       "      <th></th>\n",
       "      <th>0</th>\n",
       "      <th>1</th>\n",
       "      <th>2</th>\n",
       "      <th>3</th>\n",
       "    </tr>\n",
       "    <tr>\n",
       "      <th>user_id</th>\n",
       "      <th></th>\n",
       "      <th></th>\n",
       "      <th></th>\n",
       "      <th></th>\n",
       "    </tr>\n",
       "  </thead>\n",
       "  <tbody>\n",
       "    <tr>\n",
       "      <th>1049656</th>\n",
       "      <td>0.069034</td>\n",
       "      <td>0.055491</td>\n",
       "      <td>0.470042</td>\n",
       "      <td>0.181947</td>\n",
       "    </tr>\n",
       "    <tr>\n",
       "      <th>1055118</th>\n",
       "      <td>0.055092</td>\n",
       "      <td>0.176533</td>\n",
       "      <td>0.001424</td>\n",
       "      <td>0.004514</td>\n",
       "    </tr>\n",
       "    <tr>\n",
       "      <th>1056935</th>\n",
       "      <td>0.112502</td>\n",
       "      <td>0.133433</td>\n",
       "      <td>0.065491</td>\n",
       "      <td>0.089070</td>\n",
       "    </tr>\n",
       "    <tr>\n",
       "      <th>1070023</th>\n",
       "      <td>0.030689</td>\n",
       "      <td>0.153194</td>\n",
       "      <td>0.024320</td>\n",
       "      <td>0.091397</td>\n",
       "    </tr>\n",
       "    <tr>\n",
       "      <th>1072752</th>\n",
       "      <td>0.315528</td>\n",
       "      <td>0.080987</td>\n",
       "      <td>0.134191</td>\n",
       "      <td>0.113205</td>\n",
       "    </tr>\n",
       "  </tbody>\n",
       "</table>\n",
       "</div>"
      ],
      "text/plain": [
       "                0         1         2         3\n",
       "user_id                                        \n",
       "1049656  0.069034  0.055491  0.470042  0.181947\n",
       "1055118  0.055092  0.176533  0.001424  0.004514\n",
       "1056935  0.112502  0.133433  0.065491  0.089070\n",
       "1070023  0.030689  0.153194  0.024320  0.091397\n",
       "1072752  0.315528  0.080987  0.134191  0.113205"
      ]
     },
     "execution_count": 22,
     "metadata": {},
     "output_type": "execute_result"
    }
   ],
   "source": [
    "weighted_weights = []\n",
    "for user_id, weights in weights_df.iterrows():\n",
    "    data_dict = (weights * cluster_idf_scores).to_dict()\n",
    "    data_dict[\"user_id\"] = user_id\n",
    "    weighted_weights.append(data_dict)\n",
    "weighted_weights_df = pd.DataFrame.from_dict(weighted_weights, orient=\"columns\").set_index(\"user_id\")\n",
    "weighted_weights_df.head()"
   ]
  },
  {
   "cell_type": "code",
   "execution_count": 23,
   "metadata": {},
   "outputs": [
    {
     "data": {
      "text/html": [
       "<div>\n",
       "<style scoped>\n",
       "    .dataframe tbody tr th:only-of-type {\n",
       "        vertical-align: middle;\n",
       "    }\n",
       "\n",
       "    .dataframe tbody tr th {\n",
       "        vertical-align: top;\n",
       "    }\n",
       "\n",
       "    .dataframe thead th {\n",
       "        text-align: right;\n",
       "    }\n",
       "</style>\n",
       "<table border=\"1\" class=\"dataframe\">\n",
       "  <thead>\n",
       "    <tr style=\"text-align: right;\">\n",
       "      <th></th>\n",
       "      <th>0</th>\n",
       "      <th>1</th>\n",
       "      <th>2</th>\n",
       "      <th>3</th>\n",
       "    </tr>\n",
       "    <tr>\n",
       "      <th>user group</th>\n",
       "      <th></th>\n",
       "      <th></th>\n",
       "      <th></th>\n",
       "      <th></th>\n",
       "    </tr>\n",
       "  </thead>\n",
       "  <tbody>\n",
       "    <tr>\n",
       "      <th>0</th>\n",
       "      <td>0.263447</td>\n",
       "      <td>0.115818</td>\n",
       "      <td>0.064586</td>\n",
       "      <td>0.057860</td>\n",
       "    </tr>\n",
       "    <tr>\n",
       "      <th>1</th>\n",
       "      <td>0.048659</td>\n",
       "      <td>0.160083</td>\n",
       "      <td>0.018255</td>\n",
       "      <td>0.058622</td>\n",
       "    </tr>\n",
       "    <tr>\n",
       "      <th>2</th>\n",
       "      <td>0.107651</td>\n",
       "      <td>0.078281</td>\n",
       "      <td>0.341494</td>\n",
       "      <td>0.143935</td>\n",
       "    </tr>\n",
       "    <tr>\n",
       "      <th>3</th>\n",
       "      <td>0.042252</td>\n",
       "      <td>0.100099</td>\n",
       "      <td>0.070363</td>\n",
       "      <td>0.250107</td>\n",
       "    </tr>\n",
       "  </tbody>\n",
       "</table>\n",
       "</div>"
      ],
      "text/plain": [
       "                   0         1         2         3\n",
       "user group                                        \n",
       "0           0.263447  0.115818  0.064586  0.057860\n",
       "1           0.048659  0.160083  0.018255  0.058622\n",
       "2           0.107651  0.078281  0.341494  0.143935\n",
       "3           0.042252  0.100099  0.070363  0.250107"
      ]
     },
     "execution_count": 23,
     "metadata": {},
     "output_type": "execute_result"
    }
   ],
   "source": [
    "avg_weights_df = weighted_weights_df.merge(user_groups_df, left_index=True, right_index=True).groupby(\"user group\").mean()\n",
    "avg_weights_df"
   ]
  },
  {
   "cell_type": "code",
   "execution_count": 24,
   "metadata": {},
   "outputs": [
    {
     "data": {
      "text/plain": [
       "<matplotlib.legend.Legend at 0x2150ff7cc50>"
      ]
     },
     "execution_count": 24,
     "metadata": {},
     "output_type": "execute_result"
    },
    {
     "data": {
      "image/png": "[encoded data removed]",
      "text/plain": [
       "<Figure size 432x288 with 1 Axes>"
      ]
     },
     "metadata": {},
     "output_type": "display_data"
    }
   ],
   "source": [
    "angles = np.linspace(0, 2*np.pi, 4, endpoint=False)\n",
    "angles = np.concatenate((angles, [angles[0]]))\n",
    "sns.set(font_scale=1.6)\n",
    "fig = plt.figure()\n",
    "ax = fig.add_subplot(111, polar=True)\n",
    "ax.yaxis.set_major_formatter(FormatStrFormatter('%.1f'))\n",
    "colors = [\"#0072B2\", \"#009E73\", \"#D55E00\", \"#CC79A7\"]\n",
    "markers = [\"o\", \"^\", \"s\", \"D\"]\n",
    "listeners = [r\"$U_{folk}$\", r\"$U_{hard}$\", r\"$U_{ambi}$\", r\"$U_{elec}$\"]\n",
    "linestyles = ['-', '--', '-.', ':']\n",
    "iteration_order = [2, 3, 0, 1]\n",
    "for c in iteration_order:\n",
    "    weights = avg_weights_df.loc[c]\n",
    "    means = np.concatenate((weights.values, [weights.values[0]]))\n",
    "    ax.plot(angles, means, 'o-', linewidth=2, label=listeners[c], color=colors[c], marker=markers[c])\n",
    "    ax.set_thetagrids(angles * 180/np.pi, [r\"$C_{folk}$\", r\"$C_{hard}$\", r\"$C_{ambi}$\", r\"$C_{elec}$\"])\n",
    "    ax.grid(True)\n",
    "    ax.tick_params(pad=20)\n",
    "    plt.ylim(0, 0.4)\n",
    "\n",
    "handles, labels = ax.get_legend_handles_labels()\n",
    "resorted = [(labels[iteration_order.index(c)], handles[ iteration_order.index(c)]) for c in range(4)]\n",
    "labels, handles = zip(*resorted)\n",
    "plt.legend(handles, labels)"
   ]
  },
  {
   "cell_type": "markdown",
   "metadata": {},
   "source": [
    "# Correlation of Track Clusters over Listening Events"
   ]
  },
  {
   "cell_type": "code",
   "execution_count": 25,
   "metadata": {},
   "outputs": [
    {
     "data": {
      "text/plain": [
       "(array([0.5, 1.5, 2.5, 3.5]), <a list of 4 Text yticklabel objects>)"
      ]
     },
     "execution_count": 25,
     "metadata": {},
     "output_type": "execute_result"
    },
    {
     "data": {
      "image/png": "[encoded data removed]",
      "text/plain": [
       "<Figure size 432x288 with 2 Axes>"
      ]
     },
     "metadata": {},
     "output_type": "display_data"
    }
   ],
   "source": [
    "ax = sns.heatmap(weights_df.corr(), annot=True, vmax=1, vmin=-1, cmap=\"coolwarm\")\n",
    "plt.xlabel(\"\")\n",
    "plt.ylabel(\"\")\n",
    "ax.set_xticklabels([r\"$C_{folk}$\", r\"$C_{hard}$\", r\"$C_{ambi}$\", r\"$C_{elec}$\"])\n",
    "ax.set_yticklabels([r\"$C_{folk}$\", r\"$C_{hard}$\", r\"$C_{ambi}$\", r\"$C_{elec}$\"])\n",
    "plt.yticks(rotation=0)"
   ]
  },
  {
   "cell_type": "markdown",
   "metadata": {},
   "source": [
    "# Average Pairwise User Similarity"
   ]
  },
  {
   "cell_type": "code",
   "execution_count": 26,
   "metadata": {},
   "outputs": [],
   "source": [
    "ms = pd.read_csv(\"data/ms.csv\", squeeze=True).tolist()"
   ]
  },
  {
   "cell_type": "code",
   "execution_count": 27,
   "metadata": {},
   "outputs": [
    {
     "data": {
      "text/html": [
       "<div>\n",
       "<style scoped>\n",
       "    .dataframe tbody tr th:only-of-type {\n",
       "        vertical-align: middle;\n",
       "    }\n",
       "\n",
       "    .dataframe tbody tr th {\n",
       "        vertical-align: top;\n",
       "    }\n",
       "\n",
       "    .dataframe thead th {\n",
       "        text-align: right;\n",
       "    }\n",
       "</style>\n",
       "<table border=\"1\" class=\"dataframe\">\n",
       "  <thead>\n",
       "    <tr style=\"text-align: right;\">\n",
       "      <th></th>\n",
       "      <th>user_id</th>\n",
       "      <th>artist_id</th>\n",
       "      <th>track_id</th>\n",
       "    </tr>\n",
       "  </thead>\n",
       "  <tbody>\n",
       "    <tr>\n",
       "      <th>0</th>\n",
       "      <td>31435741</td>\n",
       "      <td>21</td>\n",
       "      <td>53</td>\n",
       "    </tr>\n",
       "    <tr>\n",
       "      <th>1</th>\n",
       "      <td>31435741</td>\n",
       "      <td>21</td>\n",
       "      <td>53</td>\n",
       "    </tr>\n",
       "    <tr>\n",
       "      <th>2</th>\n",
       "      <td>31435741</td>\n",
       "      <td>21</td>\n",
       "      <td>53</td>\n",
       "    </tr>\n",
       "    <tr>\n",
       "      <th>3</th>\n",
       "      <td>31435741</td>\n",
       "      <td>21</td>\n",
       "      <td>53</td>\n",
       "    </tr>\n",
       "    <tr>\n",
       "      <th>4</th>\n",
       "      <td>31435741</td>\n",
       "      <td>21</td>\n",
       "      <td>53</td>\n",
       "    </tr>\n",
       "  </tbody>\n",
       "</table>\n",
       "</div>"
      ],
      "text/plain": [
       "    user_id  artist_id  track_id\n",
       "0  31435741         21        53\n",
       "1  31435741         21        53\n",
       "2  31435741         21        53\n",
       "3  31435741         21        53\n",
       "4  31435741         21        53"
      ]
     },
     "execution_count": 27,
     "metadata": {},
     "output_type": "execute_result"
    }
   ],
   "source": [
    "events_df = pd.read_sql(con=connection, sql=\"SELECT user_id, artist_id, track_id FROM events WHERE user_id IN \" + str(tuple(beyms + ms)) + \" AND track_id IN \" + str(tuple(clustered_tracks)))\n",
    "events_df.head()"
   ]
  },
  {
   "cell_type": "code",
   "execution_count": 31,
   "metadata": {},
   "outputs": [
    {
     "data": {
      "text/html": [
       "<div>\n",
       "<style scoped>\n",
       "    .dataframe tbody tr th:only-of-type {\n",
       "        vertical-align: middle;\n",
       "    }\n",
       "\n",
       "    .dataframe tbody tr th {\n",
       "        vertical-align: top;\n",
       "    }\n",
       "\n",
       "    .dataframe thead th {\n",
       "        text-align: right;\n",
       "    }\n",
       "</style>\n",
       "<table border=\"1\" class=\"dataframe\">\n",
       "  <thead>\n",
       "    <tr style=\"text-align: right;\">\n",
       "      <th></th>\n",
       "      <th>genres</th>\n",
       "    </tr>\n",
       "    <tr>\n",
       "      <th>track_id</th>\n",
       "      <th></th>\n",
       "    </tr>\n",
       "  </thead>\n",
       "  <tbody>\n",
       "    <tr>\n",
       "      <th>11393952</th>\n",
       "      <td>['electronic', 'pop', 'indiepop', 'rock', 'sin...</td>\n",
       "    </tr>\n",
       "    <tr>\n",
       "      <th>4868</th>\n",
       "      <td>['soul', 'pop', 'singersongwriter', 'blues', '...</td>\n",
       "    </tr>\n",
       "    <tr>\n",
       "      <th>2900</th>\n",
       "      <td>['electronic', 'indiepop', 'shoegaze', 'dreamp...</td>\n",
       "    </tr>\n",
       "    <tr>\n",
       "      <th>2498</th>\n",
       "      <td>['pop', 'soul', 'indiepop', 'chamberpop', 'tri...</td>\n",
       "    </tr>\n",
       "    <tr>\n",
       "      <th>26142</th>\n",
       "      <td>['pop', 'indiepop', 'rock', 'alternativerock',...</td>\n",
       "    </tr>\n",
       "  </tbody>\n",
       "</table>\n",
       "</div>"
      ],
      "text/plain": [
       "                                                     genres\n",
       "track_id                                                   \n",
       "11393952  ['electronic', 'pop', 'indiepop', 'rock', 'sin...\n",
       "4868      ['soul', 'pop', 'singersongwriter', 'blues', '...\n",
       "2900      ['electronic', 'indiepop', 'shoegaze', 'dreamp...\n",
       "2498      ['pop', 'soul', 'indiepop', 'chamberpop', 'tri...\n",
       "26142     ['pop', 'indiepop', 'rock', 'alternativerock',..."
      ]
     },
     "execution_count": 31,
     "metadata": {},
     "output_type": "execute_result"
    }
   ],
   "source": [
    "genre_annotations_df = pd.read_csv(\"data/genre_annotations.csv\").set_index(\"track_id\")\n",
    "genre_annotations_df.head()"
   ]
  },
  {
   "cell_type": "code",
   "execution_count": 34,
   "metadata": {},
   "outputs": [
    {
     "data": {
      "text/plain": [
       "user_id\n",
       "1003798    {'rock': 4197, 'alternativerock': 2447, 'funk'...\n",
       "1004064    {'alternativerock': 1326, 'rock': 3150, 'hardr...\n",
       "1039205    {'pop': 2176, 'rock': 1939, 'poprock': 1756, '...\n",
       "1048837    {'electronic': 687, 'pop': 625, 'electronica':...\n",
       "1049656    {'rock': 1838, 'indierock': 1664, 'alternative...\n",
       "Name: genres, dtype: object"
      ]
     },
     "execution_count": 34,
     "metadata": {},
     "output_type": "execute_result"
    }
   ],
   "source": [
    "genres_per_event_df = events_df.merge(genre_annotations_df, left_on=\"track_id\", right_on=\"track_id\")\n",
    "genres_per_event_df[\"genres\"] = genres_per_event_df[\"genres\"].apply(ast.literal_eval).apply(Counter)\n",
    "user_genre_LEs = genres_per_event_df.groupby(\"user_id\")[\"genres\"].sum()\n",
    "user_genre_LEs.head()"
   ]
  },
  {
   "cell_type": "code",
   "execution_count": 35,
   "metadata": {},
   "outputs": [
    {
     "data": {
      "text/html": [
       "<div>\n",
       "<style scoped>\n",
       "    .dataframe tbody tr th:only-of-type {\n",
       "        vertical-align: middle;\n",
       "    }\n",
       "\n",
       "    .dataframe tbody tr th {\n",
       "        vertical-align: top;\n",
       "    }\n",
       "\n",
       "    .dataframe thead th {\n",
       "        text-align: right;\n",
       "    }\n",
       "</style>\n",
       "<table border=\"1\" class=\"dataframe\">\n",
       "  <thead>\n",
       "    <tr style=\"text-align: right;\">\n",
       "      <th></th>\n",
       "      <th>abstract</th>\n",
       "      <th>abstractbeats</th>\n",
       "      <th>abstracthiphop</th>\n",
       "      <th>abstractidm</th>\n",
       "      <th>acappella</th>\n",
       "      <th>accordeon</th>\n",
       "      <th>accordion</th>\n",
       "      <th>acidhouse</th>\n",
       "      <th>acididm</th>\n",
       "      <th>acidjazz</th>\n",
       "      <th>...</th>\n",
       "      <th>worship</th>\n",
       "      <th>wrestling</th>\n",
       "      <th>wrock</th>\n",
       "      <th>yachtrock</th>\n",
       "      <th>yeye</th>\n",
       "      <th>zeuhl</th>\n",
       "      <th>zolo</th>\n",
       "      <th>zouglou</th>\n",
       "      <th>zouk</th>\n",
       "      <th>zydeco</th>\n",
       "    </tr>\n",
       "    <tr>\n",
       "      <th>user_id</th>\n",
       "      <th></th>\n",
       "      <th></th>\n",
       "      <th></th>\n",
       "      <th></th>\n",
       "      <th></th>\n",
       "      <th></th>\n",
       "      <th></th>\n",
       "      <th></th>\n",
       "      <th></th>\n",
       "      <th></th>\n",
       "      <th></th>\n",
       "      <th></th>\n",
       "      <th></th>\n",
       "      <th></th>\n",
       "      <th></th>\n",
       "      <th></th>\n",
       "      <th></th>\n",
       "      <th></th>\n",
       "      <th></th>\n",
       "      <th></th>\n",
       "      <th></th>\n",
       "    </tr>\n",
       "  </thead>\n",
       "  <tbody>\n",
       "    <tr>\n",
       "      <th>1003798</th>\n",
       "      <td>16.0</td>\n",
       "      <td>1.0</td>\n",
       "      <td>13.0</td>\n",
       "      <td>0.0</td>\n",
       "      <td>2.0</td>\n",
       "      <td>0.0</td>\n",
       "      <td>12.0</td>\n",
       "      <td>8.0</td>\n",
       "      <td>0.0</td>\n",
       "      <td>78.0</td>\n",
       "      <td>...</td>\n",
       "      <td>3.0</td>\n",
       "      <td>0.0</td>\n",
       "      <td>0.0</td>\n",
       "      <td>84.0</td>\n",
       "      <td>28.0</td>\n",
       "      <td>2.0</td>\n",
       "      <td>0.0</td>\n",
       "      <td>0.0</td>\n",
       "      <td>0.0</td>\n",
       "      <td>0.0</td>\n",
       "    </tr>\n",
       "    <tr>\n",
       "      <th>1004064</th>\n",
       "      <td>0.0</td>\n",
       "      <td>0.0</td>\n",
       "      <td>0.0</td>\n",
       "      <td>0.0</td>\n",
       "      <td>0.0</td>\n",
       "      <td>0.0</td>\n",
       "      <td>0.0</td>\n",
       "      <td>0.0</td>\n",
       "      <td>0.0</td>\n",
       "      <td>45.0</td>\n",
       "      <td>...</td>\n",
       "      <td>1.0</td>\n",
       "      <td>50.0</td>\n",
       "      <td>0.0</td>\n",
       "      <td>0.0</td>\n",
       "      <td>0.0</td>\n",
       "      <td>0.0</td>\n",
       "      <td>0.0</td>\n",
       "      <td>0.0</td>\n",
       "      <td>0.0</td>\n",
       "      <td>0.0</td>\n",
       "    </tr>\n",
       "    <tr>\n",
       "      <th>1039205</th>\n",
       "      <td>2.0</td>\n",
       "      <td>0.0</td>\n",
       "      <td>0.0</td>\n",
       "      <td>0.0</td>\n",
       "      <td>1.0</td>\n",
       "      <td>0.0</td>\n",
       "      <td>8.0</td>\n",
       "      <td>0.0</td>\n",
       "      <td>0.0</td>\n",
       "      <td>46.0</td>\n",
       "      <td>...</td>\n",
       "      <td>0.0</td>\n",
       "      <td>0.0</td>\n",
       "      <td>0.0</td>\n",
       "      <td>0.0</td>\n",
       "      <td>0.0</td>\n",
       "      <td>0.0</td>\n",
       "      <td>0.0</td>\n",
       "      <td>0.0</td>\n",
       "      <td>0.0</td>\n",
       "      <td>0.0</td>\n",
       "    </tr>\n",
       "    <tr>\n",
       "      <th>1048837</th>\n",
       "      <td>31.0</td>\n",
       "      <td>0.0</td>\n",
       "      <td>1.0</td>\n",
       "      <td>0.0</td>\n",
       "      <td>2.0</td>\n",
       "      <td>0.0</td>\n",
       "      <td>3.0</td>\n",
       "      <td>0.0</td>\n",
       "      <td>0.0</td>\n",
       "      <td>41.0</td>\n",
       "      <td>...</td>\n",
       "      <td>4.0</td>\n",
       "      <td>0.0</td>\n",
       "      <td>0.0</td>\n",
       "      <td>4.0</td>\n",
       "      <td>2.0</td>\n",
       "      <td>0.0</td>\n",
       "      <td>0.0</td>\n",
       "      <td>0.0</td>\n",
       "      <td>0.0</td>\n",
       "      <td>0.0</td>\n",
       "    </tr>\n",
       "    <tr>\n",
       "      <th>1049656</th>\n",
       "      <td>79.0</td>\n",
       "      <td>0.0</td>\n",
       "      <td>36.0</td>\n",
       "      <td>0.0</td>\n",
       "      <td>2.0</td>\n",
       "      <td>3.0</td>\n",
       "      <td>22.0</td>\n",
       "      <td>8.0</td>\n",
       "      <td>1.0</td>\n",
       "      <td>77.0</td>\n",
       "      <td>...</td>\n",
       "      <td>5.0</td>\n",
       "      <td>0.0</td>\n",
       "      <td>0.0</td>\n",
       "      <td>8.0</td>\n",
       "      <td>0.0</td>\n",
       "      <td>0.0</td>\n",
       "      <td>0.0</td>\n",
       "      <td>0.0</td>\n",
       "      <td>0.0</td>\n",
       "      <td>0.0</td>\n",
       "    </tr>\n",
       "  </tbody>\n",
       "</table>\n",
       "<p>5 rows × 1406 columns</p>\n",
       "</div>"
      ],
      "text/plain": [
       "         abstract  abstractbeats  abstracthiphop  abstractidm  acappella  \\\n",
       "user_id                                                                    \n",
       "1003798      16.0            1.0            13.0          0.0        2.0   \n",
       "1004064       0.0            0.0             0.0          0.0        0.0   \n",
       "1039205       2.0            0.0             0.0          0.0        1.0   \n",
       "1048837      31.0            0.0             1.0          0.0        2.0   \n",
       "1049656      79.0            0.0            36.0          0.0        2.0   \n",
       "\n",
       "         accordeon  accordion  acidhouse  acididm  acidjazz  ...  worship  \\\n",
       "user_id                                                      ...            \n",
       "1003798        0.0       12.0        8.0      0.0      78.0  ...      3.0   \n",
       "1004064        0.0        0.0        0.0      0.0      45.0  ...      1.0   \n",
       "1039205        0.0        8.0        0.0      0.0      46.0  ...      0.0   \n",
       "1048837        0.0        3.0        0.0      0.0      41.0  ...      4.0   \n",
       "1049656        3.0       22.0        8.0      1.0      77.0  ...      5.0   \n",
       "\n",
       "         wrestling  wrock  yachtrock  yeye  zeuhl  zolo  zouglou  zouk  zydeco  \n",
       "user_id                                                                         \n",
       "1003798        0.0    0.0       84.0  28.0    2.0   0.0      0.0   0.0     0.0  \n",
       "1004064       50.0    0.0        0.0   0.0    0.0   0.0      0.0   0.0     0.0  \n",
       "1039205        0.0    0.0        0.0   0.0    0.0   0.0      0.0   0.0     0.0  \n",
       "1048837        0.0    0.0        4.0   2.0    0.0   0.0      0.0   0.0     0.0  \n",
       "1049656        0.0    0.0        8.0   0.0    0.0   0.0      0.0   0.0     0.0  \n",
       "\n",
       "[5 rows x 1406 columns]"
      ]
     },
     "execution_count": 35,
     "metadata": {},
     "output_type": "execute_result"
    }
   ],
   "source": [
    "genre_representations = []\n",
    "for user_id, genres_counts in user_genre_LEs.iteritems():\n",
    "    data_dict = dict(genres_counts)\n",
    "    data_dict[\"user_id\"] = user_id\n",
    "    \n",
    "    if user_id in beyms:\n",
    "        data_dict[\"user group\"] = user_groups_df.loc[user_id][\"user group\"]\n",
    "    else:\n",
    "        data_dict[\"user group\"] = np.nan\n",
    "        \n",
    "    data_dict[\"ms group\"] = user_id in ms\n",
    "    genre_representations.append(data_dict)\n",
    "genre_representations_df = pd.DataFrame(genre_representations).fillna(0).set_index(\"user_id\")\n",
    "genre_representations_df.head()"
   ]
  },
  {
   "cell_type": "code",
   "execution_count": 36,
   "metadata": {},
   "outputs": [],
   "source": [
    "def compute_sim_and_var(groupby):\n",
    "    var = dict()\n",
    "    sims_df = pd.DataFrame()\n",
    "    for group, data in groupby:\n",
    "        relevant_columns = set(data.columns).difference([\"user group\", \"ms group\"])\n",
    "        \n",
    "        sims = cosine_similarity(data[relevant_columns], data[relevant_columns])\n",
    "        var[group] = np.var(sims)\n",
    "        \n",
    "        avg_sim = np.mean(sims, axis=0)\n",
    "\n",
    "        new_row = pd.DataFrame(data={\"similarity\":avg_sim, \"group\": [group] * len(avg_sim)})\n",
    "        sims_df = sims_df.append(new_row)\n",
    "    return sims_df, var"
   ]
  },
  {
   "cell_type": "code",
   "execution_count": 37,
   "metadata": {},
   "outputs": [],
   "source": [
    "similarity_usergroup_df, variance_usergroup = compute_sim_and_var(genre_representations_df.groupby(\"user group\"))\n",
    "similarity_msgroup_df, variance_msgroup = compute_sim_and_var(genre_representations_df.groupby(\"ms group\"))"
   ]
  },
  {
   "cell_type": "code",
   "execution_count": 38,
   "metadata": {},
   "outputs": [],
   "source": [
    "def zip_longest_cycle(A, B):\n",
    "    zip_list = zip(A, cycle(B)) if len(A) > len(B) else zip(cycle(A), B)\n",
    "    return zip_list"
   ]
  },
  {
   "cell_type": "code",
   "execution_count": 39,
   "metadata": {},
   "outputs": [],
   "source": [
    "colors = [\"#0072B2\", \"#009E73\", \"#D55E00\", \"#CC79A7\", \"#ca9161\", \"#ece133\"]\n",
    "sns.set_palette(sns.color_palette(colors))"
   ]
  },
  {
   "cell_type": "code",
   "execution_count": 40,
   "metadata": {},
   "outputs": [
    {
     "data": {
      "text/plain": [
       "Text(0.5, 0, '')"
      ]
     },
     "execution_count": 40,
     "metadata": {},
     "output_type": "execute_result"
    },
    {
     "data": {
      "image/png": "[encoded data removed]",
      "text/plain": [
       "<Figure size 432x288 with 2 Axes>"
      ]
     },
     "metadata": {},
     "output_type": "display_data"
    }
   ],
   "source": [
    "fig, (ax_groups, ax_all) = plt.subplots(ncols=2, sharey=True, gridspec_kw={\"width_ratios\": (4/6, 2/6)})\n",
    "sns.set_context(font_scale=1)\n",
    "sns.set_context(\"notebook\")\n",
    "\n",
    "g = sns.boxplot(data=similarity_usergroup_df, x=\"group\", y=\"similarity\", ax=ax_groups, orient=\"v\", showfliers=False)\n",
    "g_ = sns.boxplot(data=similarity_msgroup_df, x=\"group\", y=\"similarity\", ax=ax_all, orient=\"v\", showfliers=False, palette=[\"#ca9161\", \"#ece133\"])\n",
    "\n",
    "patterns = [\"//\", \"++\", \"oo\", \"xx\"]\n",
    "for hatch, patch in zip_longest_cycle(patterns, g.artists):\n",
    "    patch.set_hatch(hatch)\n",
    "    \n",
    "patterns = [\"\\\\\", \"O\"]\n",
    "for hatch, patch in zip_longest_cycle(patterns, g_.artists):\n",
    "    patch.set_hatch(hatch)\n",
    "    \n",
    "\n",
    "ax_groups.set_ylabel(\"Average pairwise user similarity\")\n",
    "ax_groups.set_xticklabels([r\"$U_{folk}$\", r\"$U_{hard}$\", r\"$U_{ambi}$\", r\"$U_{elec}$\"])\n",
    "ax_all.set_xticklabels([r\"$BeyMS$\", r\"$MS$\"])\n",
    "ax_all.set_ylabel(\"\")\n",
    "ax_all.set_xlabel(\"\")\n",
    "ax_groups.grid(False)\n",
    "ax_all.grid(False)\n",
    "ax_groups.set_xlabel(\"\")"
   ]
  },
  {
   "cell_type": "code",
   "execution_count": 41,
   "metadata": {},
   "outputs": [
    {
     "name": "stdout",
     "output_type": "stream",
     "text": [
      "[Variances] U1: 0.047, U2: 0.043, U3: 0.038, U4: 0.045\n",
      "[Variances] BeyMS: 0.042, MS: 0.047\n"
     ]
    }
   ],
   "source": [
    "print(\"[Variances] U1: %.3f, U2: %.3f, U3: %.3f, U4: %.3f\" % (variance_usergroup[0], variance_usergroup[1], variance_usergroup[2], variance_usergroup[3]))\n",
    "print(\"[Variances] BeyMS: %.3f, MS: %.3f\" % (variance_msgroup[0], variance_msgroup[1]))"
   ]
  },
  {
   "cell_type": "markdown",
   "metadata": {},
   "source": [
    "# Calculate Top Countries per Group"
   ]
  },
  {
   "cell_type": "code",
   "execution_count": 42,
   "metadata": {},
   "outputs": [
    {
     "data": {
      "text/html": [
       "<div>\n",
       "<style scoped>\n",
       "    .dataframe tbody tr th:only-of-type {\n",
       "        vertical-align: middle;\n",
       "    }\n",
       "\n",
       "    .dataframe tbody tr th {\n",
       "        vertical-align: top;\n",
       "    }\n",
       "\n",
       "    .dataframe thead th {\n",
       "        text-align: right;\n",
       "    }\n",
       "</style>\n",
       "<table border=\"1\" class=\"dataframe\">\n",
       "  <thead>\n",
       "    <tr style=\"text-align: right;\">\n",
       "      <th></th>\n",
       "      <th>country</th>\n",
       "    </tr>\n",
       "    <tr>\n",
       "      <th>user_id</th>\n",
       "      <th></th>\n",
       "    </tr>\n",
       "  </thead>\n",
       "  <tbody>\n",
       "    <tr>\n",
       "      <th>384</th>\n",
       "      <td>UK</td>\n",
       "    </tr>\n",
       "    <tr>\n",
       "      <th>3653</th>\n",
       "      <td>UK</td>\n",
       "    </tr>\n",
       "    <tr>\n",
       "      <th>4813</th>\n",
       "      <td>US</td>\n",
       "    </tr>\n",
       "    <tr>\n",
       "      <th>5069</th>\n",
       "      <td>AT</td>\n",
       "    </tr>\n",
       "    <tr>\n",
       "      <th>5213</th>\n",
       "      <td>UK</td>\n",
       "    </tr>\n",
       "  </tbody>\n",
       "</table>\n",
       "</div>"
      ],
      "text/plain": [
       "        country\n",
       "user_id        \n",
       "384          UK\n",
       "3653         UK\n",
       "4813         US\n",
       "5069         AT\n",
       "5213         UK"
      ]
     },
     "execution_count": 42,
     "metadata": {},
     "output_type": "execute_result"
    }
   ],
   "source": [
    "users_df = pd.read_csv(\"data/LFM-1b_users.txt\", sep=\"\\t\")[[\"user_id\", \"country\"]].dropna().set_index(\"user_id\")\n",
    "users_df.head()"
   ]
  },
  {
   "cell_type": "code",
   "execution_count": 43,
   "metadata": {},
   "outputs": [
    {
     "data": {
      "text/plain": [
       "['US', 'DE', 'BR', 'UK', 'RU', 'PL', 'ES', 'NL', 'FR', 'AU']"
      ]
     },
     "execution_count": 43,
     "metadata": {},
     "output_type": "execute_result"
    }
   ],
   "source": [
    "users_df.loc[U1][\"country\"].value_counts(ascending=False).head(10).index.tolist()"
   ]
  },
  {
   "cell_type": "code",
   "execution_count": 44,
   "metadata": {},
   "outputs": [
    {
     "data": {
      "text/plain": [
       "['US', 'DE', 'BR', 'RU', 'UK', 'PL', 'AU', 'FI', 'ES', 'NL']"
      ]
     },
     "execution_count": 44,
     "metadata": {},
     "output_type": "execute_result"
    }
   ],
   "source": [
    "users_df.loc[U2][\"country\"].value_counts(ascending=False).head(10).index.tolist()"
   ]
  },
  {
   "cell_type": "code",
   "execution_count": 45,
   "metadata": {},
   "outputs": [
    {
     "data": {
      "text/plain": [
       "['US', 'RU', 'UK', 'DE', 'TR', 'PL', 'JP', 'IT', 'NL', 'FR']"
      ]
     },
     "execution_count": 45,
     "metadata": {},
     "output_type": "execute_result"
    }
   ],
   "source": [
    "users_df.loc[U3][\"country\"].value_counts(ascending=False).head(10).index.tolist()"
   ]
  },
  {
   "cell_type": "code",
   "execution_count": 46,
   "metadata": {
    "scrolled": true
   },
   "outputs": [
    {
     "data": {
      "text/plain": [
       "['US', 'RU', 'DE', 'UK', 'PL', 'UA', 'BR', 'CA', 'FI', 'IT']"
      ]
     },
     "execution_count": 46,
     "metadata": {},
     "output_type": "execute_result"
    }
   ],
   "source": [
    "users_df.loc[U4][\"country\"].value_counts(ascending=False).head(10).index.tolist()"
   ]
  },
  {
   "cell_type": "code",
   "execution_count": 47,
   "metadata": {},
   "outputs": [
    {
     "data": {
      "text/plain": [
       "['US', 'RU', 'DE', 'UK', 'BR', 'PL', 'AU', 'FI', 'ES', 'NL']"
      ]
     },
     "execution_count": 47,
     "metadata": {},
     "output_type": "execute_result"
    }
   ],
   "source": [
    "users_df.loc[beyms][\"country\"].value_counts(ascending=False).head(10).index.tolist()"
   ]
  },
  {
   "cell_type": "code",
   "execution_count": 48,
   "metadata": {},
   "outputs": [
    {
     "data": {
      "text/plain": [
       "['US', 'RU', 'UK', 'DE', 'PL', 'BR', 'NL', 'UA', 'FI', 'SE']"
      ]
     },
     "execution_count": 48,
     "metadata": {},
     "output_type": "execute_result"
    }
   ],
   "source": [
    "users_df.loc[ms][\"country\"].value_counts(ascending=False).head(10).index.tolist()"
   ]
  },
  {
   "cell_type": "code",
   "execution_count": 49,
   "metadata": {},
   "outputs": [
    {
     "data": {
      "text/plain": [
       "['US', 'RU', 'DE', 'UK', 'PL', 'BR', 'NL', 'UA', 'FI', 'AU']"
      ]
     },
     "execution_count": 49,
     "metadata": {},
     "output_type": "execute_result"
    }
   ],
   "source": [
    "users_df.loc[beyms+ms][\"country\"].value_counts(ascending=False).head(10).index.tolist()"
   ]
  },
  {
   "cell_type": "code",
   "execution_count": 175,
   "metadata": {},
   "outputs": [
    {
     "data": {
      "image/png": "[encoded data removed]",
      "text/plain": [
       "<Figure size 1080x360 with 1 Axes>"
      ]
     },
     "metadata": {
      "needs_background": "light"
     },
     "output_type": "display_data"
    }
   ],
   "source": [
    "COUNTRY_THRESH = 20\n",
    "country_counts = users_df.loc[beyms+ms][\"country\"].value_counts()\n",
    "plt.figure(figsize=(15, 5))\n",
    "plt.bar(country_counts[country_counts >= COUNTRY_THRESH].index, country_counts[country_counts >= COUNTRY_THRESH])\n",
    "plt.bar(country_counts[country_counts < COUNTRY_THRESH].index, country_counts[country_counts < COUNTRY_THRESH], color=\"grey\")\n",
    "plt.xticks(rotation=\"vertical\");"
   ]
  },
  {
   "cell_type": "code",
   "execution_count": 181,
   "metadata": {},
   "outputs": [
    {
     "name": "stdout",
     "output_type": "stream",
     "text": [
      "Investigating only countries with more than 20 users excludes approx. 34.04% of countries and 0.04% of users\n"
     ]
    }
   ],
   "source": [
    "excluded_countries = percentileofscore(country_counts, score=COUNTRY_THRESH)\n",
    "included_users = users_df.loc[beyms+ms][\"country\"].value_counts()[users_df.loc[beyms+ms][\"country\"].value_counts() >= COUNTRY_THRESH].sum() / (len(beyms) + len(ms))\n",
    "print(\"Investigating only countries with more than %d users excludes approx. %.2f%% of countries and %.2f%% of users\" % (COUNTRY_THRESH, excluded_countries, 1-included_users))"
   ]
  },
  {
   "cell_type": "code",
   "execution_count": 183,
   "metadata": {},
   "outputs": [
    {
     "name": "stdout",
     "output_type": "stream",
     "text": [
      "We finally obtain 31 countries\n"
     ]
    }
   ],
   "source": [
    "relevant_countries = country_counts[country_counts >= 20].index.tolist()\n",
    "print(\"We finally obtain %d countries\" % len(relevant_countries))"
   ]
  },
  {
   "cell_type": "code",
   "execution_count": 119,
   "metadata": {},
   "outputs": [],
   "source": [
    "country_counts_U1 = users_df.loc[U1][users_df.loc[U1][\"country\"].isin(relevant_countries)][\"country\"].value_counts()\n",
    "country_counts_U2 = users_df.loc[U2][users_df.loc[U2][\"country\"].isin(relevant_countries)][\"country\"].value_counts()\n",
    "country_counts_U3 = users_df.loc[U3][users_df.loc[U3][\"country\"].isin(relevant_countries)][\"country\"].value_counts()\n",
    "country_counts_U4 = users_df.loc[U4][users_df.loc[U4][\"country\"].isin(relevant_countries)][\"country\"].value_counts()\n",
    "country_counts_beyms = users_df.loc[beyms][users_df.loc[beyms][\"country\"].isin(relevant_countries)][\"country\"].value_counts()\n",
    "country_counts_ms = users_df.loc[ms][users_df.loc[ms][\"country\"].isin(relevant_countries)][\"country\"].value_counts()\n",
    "country_counts_all = users_df.loc[beyms+ms][users_df.loc[beyms+ms][\"country\"].isin(relevant_countries)][\"country\"].value_counts()"
   ]
  },
  {
   "cell_type": "code",
   "execution_count": 120,
   "metadata": {},
   "outputs": [
    {
     "name": "stdout",
     "output_type": "stream",
     "text": [
      "[Users] U_1: 369, U_2: 919, U_3: 143, U_4: 642, beyms: 2074, ms: 2074, all: 4148\n",
      "[Countries] U_1: 41, U_2: 45, U_3: 27, U_4: 44, beyms: 47, ms: 47, all: 47\n"
     ]
    }
   ],
   "source": [
    "print(\"[Users] U_1: %d, U_2: %d, U_3: %d, U_4: %d, beyms: %d, ms: %d, all: %d\" % (users_df.loc[U1][\"country\"].value_counts().sum(), users_df.loc[U2][\"country\"].value_counts().sum(), users_df.loc[U3][\"country\"].value_counts().sum(), users_df.loc[U4][\"country\"].value_counts().sum(), users_df.loc[beyms][\"country\"].value_counts().sum(), users_df.loc[ms][\"country\"].value_counts().sum(), users_df.loc[beyms+ms][\"country\"].value_counts().sum()))\n",
    "print(\"[Countries] U_1: %d, U_2: %d, U_3: %d, U_4: %d, beyms: %d, ms: %d, all: %d\" % (len(users_df.loc[U1][\"country\"].value_counts()), len(users_df.loc[U2][\"country\"].value_counts()), len(users_df.loc[U3][\"country\"].value_counts()), len(users_df.loc[U4][\"country\"].value_counts()), len(users_df.loc[beyms][\"country\"].value_counts()), len(users_df.loc[ms][\"country\"].value_counts()), len(users_df.loc[beyms+ms][\"country\"].value_counts())))"
   ]
  },
  {
   "cell_type": "code",
   "execution_count": 121,
   "metadata": {},
   "outputs": [
    {
     "name": "stdout",
     "output_type": "stream",
     "text": [
      "[Users in rel. Countries] U_1: 354, U_2: 890, U_3: 136, U_4: 617, beyms: 1998, ms: 1965, all: 3963\n",
      "[rel. Countries] U_1: 31, U_2: 31, U_3: 23, U_4: 31, beyms: 31, ms: 31, all: 31\n"
     ]
    }
   ],
   "source": [
    "print(\"[Users in rel. Countries] U_1: %d, U_2: %d, U_3: %d, U_4: %d, beyms: %d, ms: %d, all: %d\" % (country_counts_U1.sum(), country_counts_U2.sum(), country_counts_U3.sum(), country_counts_U4.sum(), country_counts_beyms.sum(), country_counts_ms.sum(), country_counts_all.sum()))\n",
    "print(\"[rel. Countries] U_1: %d, U_2: %d, U_3: %d, U_4: %d, beyms: %d, ms: %d, all: %d\" % (len(country_counts_U1), len(country_counts_U2), len(country_counts_U3), len(country_counts_U4), len(country_counts_beyms), len(country_counts_ms), len(country_counts_all)))"
   ]
  },
  {
   "cell_type": "code",
   "execution_count": 122,
   "metadata": {},
   "outputs": [
    {
     "data": {
      "text/plain": [
       "['US', 'DE', 'BR', 'RU', 'UK', 'PL', 'AU', 'FI', 'ES', 'JP']"
      ]
     },
     "execution_count": 122,
     "metadata": {},
     "output_type": "execute_result"
    }
   ],
   "source": [
    "country_counts_U2.head(10).index.tolist()"
   ]
  },
  {
   "cell_type": "code",
   "execution_count": 123,
   "metadata": {},
   "outputs": [
    {
     "data": {
      "text/plain": [
       "['US', 'RU', 'UK', 'DE', 'TR', 'PL', 'JP', 'NL', 'IT', 'BE']"
      ]
     },
     "execution_count": 123,
     "metadata": {},
     "output_type": "execute_result"
    }
   ],
   "source": [
    "country_counts_U3.head(10).index.tolist()"
   ]
  },
  {
   "cell_type": "code",
   "execution_count": 124,
   "metadata": {},
   "outputs": [
    {
     "data": {
      "text/plain": [
       "['US', 'RU', 'DE', 'UK', 'PL', 'UA', 'BR', 'CA', 'FI', 'IT']"
      ]
     },
     "execution_count": 124,
     "metadata": {},
     "output_type": "execute_result"
    }
   ],
   "source": [
    "country_counts_U4.head(10).index.tolist()"
   ]
  },
  {
   "cell_type": "code",
   "execution_count": 125,
   "metadata": {},
   "outputs": [
    {
     "data": {
      "text/plain": [
       "['US', 'RU', 'DE', 'UK', 'BR', 'PL', 'AU', 'FI', 'ES', 'NL']"
      ]
     },
     "execution_count": 125,
     "metadata": {},
     "output_type": "execute_result"
    }
   ],
   "source": [
    "country_counts_beyms.head(10).index.tolist()"
   ]
  },
  {
   "cell_type": "code",
   "execution_count": 126,
   "metadata": {},
   "outputs": [
    {
     "data": {
      "text/plain": [
       "['US', 'RU', 'UK', 'DE', 'PL', 'BR', 'NL', 'UA', 'FI', 'SE']"
      ]
     },
     "execution_count": 126,
     "metadata": {},
     "output_type": "execute_result"
    }
   ],
   "source": [
    "country_counts_ms.head(10).index.tolist()"
   ]
  },
  {
   "cell_type": "code",
   "execution_count": 127,
   "metadata": {},
   "outputs": [
    {
     "data": {
      "text/plain": [
       "['US', 'RU', 'DE', 'UK', 'PL', 'BR', 'NL', 'FI', 'UA', 'AU']"
      ]
     },
     "execution_count": 127,
     "metadata": {},
     "output_type": "execute_result"
    }
   ],
   "source": [
    "country_counts_all.head(10).index.tolist()"
   ]
  },
  {
   "cell_type": "code",
   "execution_count": 185,
   "metadata": {},
   "outputs": [
    {
     "data": {
      "text/plain": [
       "['CH', 'TR', 'DK', 'ES', 'NO', 'CZ', 'ID', 'FR', 'BE', 'CA']"
      ]
     },
     "execution_count": 185,
     "metadata": {},
     "output_type": "execute_result"
    }
   ],
   "source": [
    "top_countries_U1 = (country_counts_U1 / country_counts_all).sort_values(ascending=False).head(10).index.tolist()\n",
    "top_countries_U1"
   ]
  },
  {
   "cell_type": "code",
   "execution_count": 186,
   "metadata": {},
   "outputs": [
    {
     "data": {
      "text/plain": [
       "['AU', 'BR', 'CN', 'BY', 'JP', 'DE', 'FI', 'US', 'ID', 'SK']"
      ]
     },
     "execution_count": 186,
     "metadata": {},
     "output_type": "execute_result"
    }
   ],
   "source": [
    "top_countries_U2 = (country_counts_U2 / country_counts_all).sort_values(ascending=False).head(10).index.tolist()\n",
    "top_countries_U2"
   ]
  },
  {
   "cell_type": "code",
   "execution_count": 187,
   "metadata": {},
   "outputs": [
    {
     "data": {
      "text/plain": [
       "['TR', 'CN', 'JP', 'BE', 'RU', 'IT', 'NO', 'ID', 'HU', 'UK']"
      ]
     },
     "execution_count": 187,
     "metadata": {},
     "output_type": "execute_result"
    }
   ],
   "source": [
    "top_countries_U3 = (country_counts_U3 / country_counts_all).sort_values(ascending=False).head(10).index.tolist()\n",
    "top_countries_U3"
   ]
  },
  {
   "cell_type": "code",
   "execution_count": 188,
   "metadata": {},
   "outputs": [
    {
     "data": {
      "text/plain": [
       "['AT', 'SK', 'CN', 'UA', 'CA', 'RU', 'CH', 'BY', 'MX', 'FI']"
      ]
     },
     "execution_count": 188,
     "metadata": {},
     "output_type": "execute_result"
    }
   ],
   "source": [
    "top_countries_U4 = (country_counts_U4 / country_counts_all).sort_values(ascending=False).head(10).index.tolist()\n",
    "top_countries_U4"
   ]
  },
  {
   "cell_type": "code",
   "execution_count": 189,
   "metadata": {},
   "outputs": [
    {
     "data": {
      "text/plain": [
       "['CN', 'CH', 'AT', 'BY', 'DE', 'ES', 'JP', 'FR', 'US', 'TR']"
      ]
     },
     "execution_count": 189,
     "metadata": {},
     "output_type": "execute_result"
    }
   ],
   "source": [
    "top_countries_beyms = (country_counts_beyms / country_counts_all).sort_values(ascending=False).head(10).index.tolist()\n",
    "top_countries_beyms"
   ]
  },
  {
   "cell_type": "code",
   "execution_count": 190,
   "metadata": {},
   "outputs": [
    {
     "data": {
      "text/plain": [
       "['HR', 'DK', 'NO', 'SE', 'NL', 'PL', 'UA', 'BR', 'CZ', 'BE']"
      ]
     },
     "execution_count": 190,
     "metadata": {},
     "output_type": "execute_result"
    }
   ],
   "source": [
    "top_countries_ms = (country_counts_ms / country_counts_all).sort_values(ascending=False).head(10).index.tolist()\n",
    "top_countries_ms"
   ]
  },
  {
   "cell_type": "code",
   "execution_count": 219,
   "metadata": {},
   "outputs": [],
   "source": [
    "U1_in_top_countries = users_df.loc[U1][users_df.loc[U1][\"country\"].isin(top_countries_U1)].index.tolist()\n",
    "U2_in_top_countries = users_df.loc[U2][users_df.loc[U2][\"country\"].isin(top_countries_U2)].index.tolist()\n",
    "U3_in_top_countries = users_df.loc[U3][users_df.loc[U3][\"country\"].isin(top_countries_U3)].index.tolist()\n",
    "U4_in_top_countries = users_df.loc[U4][users_df.loc[U4][\"country\"].isin(top_countries_U4)].index.tolist()\n",
    "beyms_in_top_countries = users_df.loc[beyms][users_df.loc[beyms][\"country\"].isin(top_countries_beyms)].index.tolist()\n",
    "ms_in_top_countries = users_df.loc[ms][users_df.loc[ms][\"country\"].isin(top_countries_ms)].index.tolist()"
   ]
  },
  {
   "cell_type": "code",
   "execution_count": 220,
   "metadata": {},
   "outputs": [
    {
     "name": "stdout",
     "output_type": "stream",
     "text": [
      "[Users in top countries] U_1: 78, U_2: 496, U_3: 69, U_4: 190, beyms: 858, ms: 606\n"
     ]
    }
   ],
   "source": [
    "print(\"[Users in top countries] U_1: %d, U_2: %d, U_3: %d, U_4: %d, beyms: %d, ms: %d\" % (len(U1_in_top_countries), len(U2_in_top_countries), len(U3_in_top_countries), len(U4_in_top_countries), len(beyms_in_top_countries), len(ms_in_top_countries)))"
   ]
  },
  {
   "cell_type": "markdown",
   "metadata": {},
   "source": [
    "# Hofstede's Cultural Dimensions"
   ]
  },
  {
   "cell_type": "code",
   "execution_count": 227,
   "metadata": {},
   "outputs": [
    {
     "name": "stderr",
     "output_type": "stream",
     "text": [
      "C:\\Users\\pmuellner\\AppData\\Local\\Continuum\\anaconda3\\lib\\site-packages\\sklearn\\preprocessing\\data.py:334: DataConversionWarning: Data with input dtype int64, object were all converted to float64 by MinMaxScaler.\n",
      "  return self.partial_fit(X, y)\n"
     ]
    },
    {
     "data": {
      "text/html": [
       "<div>\n",
       "<style scoped>\n",
       "    .dataframe tbody tr th:only-of-type {\n",
       "        vertical-align: middle;\n",
       "    }\n",
       "\n",
       "    .dataframe tbody tr th {\n",
       "        vertical-align: top;\n",
       "    }\n",
       "\n",
       "    .dataframe thead th {\n",
       "        text-align: right;\n",
       "    }\n",
       "</style>\n",
       "<table border=\"1\" class=\"dataframe\">\n",
       "  <thead>\n",
       "    <tr style=\"text-align: right;\">\n",
       "      <th></th>\n",
       "      <th>Power distance</th>\n",
       "      <th>Individualism</th>\n",
       "      <th>Masculinity</th>\n",
       "      <th>Uncertainty avoidance</th>\n",
       "      <th>Long-term orientation</th>\n",
       "      <th>Indulgence</th>\n",
       "    </tr>\n",
       "    <tr>\n",
       "      <th>country</th>\n",
       "      <th></th>\n",
       "      <th></th>\n",
       "      <th></th>\n",
       "      <th></th>\n",
       "      <th></th>\n",
       "      <th></th>\n",
       "    </tr>\n",
       "  </thead>\n",
       "  <tbody>\n",
       "    <tr>\n",
       "      <th>AR</th>\n",
       "      <td>0.408602</td>\n",
       "      <td>0.430380</td>\n",
       "      <td>0.485714</td>\n",
       "      <td>0.707865</td>\n",
       "      <td>0.093333</td>\n",
       "      <td>0.563218</td>\n",
       "    </tr>\n",
       "    <tr>\n",
       "      <th>AT</th>\n",
       "      <td>0.000000</td>\n",
       "      <td>0.544304</td>\n",
       "      <td>0.704762</td>\n",
       "      <td>0.528090</td>\n",
       "      <td>0.626667</td>\n",
       "      <td>0.574713</td>\n",
       "    </tr>\n",
       "    <tr>\n",
       "      <th>AU</th>\n",
       "      <td>0.290323</td>\n",
       "      <td>0.987342</td>\n",
       "      <td>0.533333</td>\n",
       "      <td>0.314607</td>\n",
       "      <td>0.106667</td>\n",
       "      <td>0.666667</td>\n",
       "    </tr>\n",
       "    <tr>\n",
       "      <th>BE</th>\n",
       "      <td>0.580645</td>\n",
       "      <td>0.797468</td>\n",
       "      <td>0.466667</td>\n",
       "      <td>0.797753</td>\n",
       "      <td>0.920000</td>\n",
       "      <td>0.505747</td>\n",
       "    </tr>\n",
       "    <tr>\n",
       "      <th>BG</th>\n",
       "      <td>0.634409</td>\n",
       "      <td>0.227848</td>\n",
       "      <td>0.333333</td>\n",
       "      <td>0.696629</td>\n",
       "      <td>0.746667</td>\n",
       "      <td>0.034483</td>\n",
       "    </tr>\n",
       "  </tbody>\n",
       "</table>\n",
       "</div>"
      ],
      "text/plain": [
       "         Power distance  Individualism  Masculinity  Uncertainty avoidance  \\\n",
       "country                                                                      \n",
       "AR             0.408602       0.430380     0.485714               0.707865   \n",
       "AT             0.000000       0.544304     0.704762               0.528090   \n",
       "AU             0.290323       0.987342     0.533333               0.314607   \n",
       "BE             0.580645       0.797468     0.466667               0.797753   \n",
       "BG             0.634409       0.227848     0.333333               0.696629   \n",
       "\n",
       "         Long-term orientation  Indulgence  \n",
       "country                                     \n",
       "AR                    0.093333    0.563218  \n",
       "AT                    0.626667    0.574713  \n",
       "AU                    0.106667    0.666667  \n",
       "BE                    0.920000    0.505747  \n",
       "BG                    0.746667    0.034483  "
      ]
     },
     "execution_count": 227,
     "metadata": {},
     "output_type": "execute_result"
    }
   ],
   "source": [
    "hofstede_df = pd.read_csv(\"data/hofstede.tsv\", sep=\"\\t\")\n",
    "hofstede_df.drop(columns=[\"no\", \"country\"], axis=1, inplace=True)\n",
    "hofstede_df.columns = [\"country\", \"Power distance\", \"Individualism\", \"Masculinity\", \"Uncertainty avoidance\", \"Long-term orientation\", \"Indulgence\"]\n",
    "hofstede_df.set_index(\"country\", inplace=True)\n",
    "hofstede_df = hofstede_df.replace(\"\\\\N\", np.nan).dropna()\n",
    "hofstede_df = pd.DataFrame(data=MinMaxScaler().fit_transform(hofstede_df), index=hofstede_df.index, columns=hofstede_df.columns)\n",
    "hofstede_df.head()"
   ]
  },
  {
   "cell_type": "code",
   "execution_count": 230,
   "metadata": {},
   "outputs": [],
   "source": [
    "hofstede_beyms_df = users_df.loc[beyms_in_top_countries].merge(hofstede_df, left_on=\"country\", right_index=True)\n",
    "hofstede_ms_df = users_df.loc[ms_in_top_countries].merge(hofstede_df, left_on=\"country\", right_index=True)"
   ]
  },
  {
   "cell_type": "code",
   "execution_count": 256,
   "metadata": {},
   "outputs": [
    {
     "data": {
      "image/png": "[encoded data removed]",
      "text/plain": [
       "<Figure size 432x288 with 1 Axes>"
      ]
     },
     "metadata": {
      "needs_background": "light"
     },
     "output_type": "display_data"
    }
   ],
   "source": [
    "df = hofstede_beyms_df.append(hofstede_ms_df).drop(columns=[\"country\"], axis=1).stack().reset_index().set_index(\"user_id\")\n",
    "df.columns = [\"dimension\", \"value\"]\n",
    "df[\"ms\"] = [uid in ms for uid in df.index]\n",
    "\n",
    "g = sns.boxplot(data=df, x=\"value\", y=\"dimension\", hue=\"ms\", showfliers=False, palette=[\"#ca9161\", \"#ece133\"])\n",
    "patterns = [\"\\\\\", \"O\"]\n",
    "for hatch, patch in zip_longest_cycle(patterns, g.artists):\n",
    "    patch.set_hatch(hatch)\n",
    "\n",
    "g.legend_.set_title(\"\")\n",
    "plt.legend(loc=\"upper left\")\n",
    "new_labels = [r\"$BeyMS$\", r\"$MS$\"]\n",
    "for t, l in zip(g.legend_.texts, new_labels):\n",
    "    t.set_text(l)\n",
    "plt.ylabel(\"\")\n",
    "plt.xlabel(\"\")\n",
    "plt.grid(False)"
   ]
  },
  {
   "cell_type": "markdown",
   "metadata": {},
   "source": [
    "# World Happiness Report"
   ]
  },
  {
   "cell_type": "code",
   "execution_count": 283,
   "metadata": {},
   "outputs": [],
   "source": [
    "def get_country_code(country_name):\n",
    "    country = pycountry.countries.get(name=country_name)#.alpha_2\n",
    "    if country:\n",
    "        return country.alpha_2\n",
    "    else:\n",
    "        return np.nan"
   ]
  },
  {
   "cell_type": "code",
   "execution_count": 284,
   "metadata": {},
   "outputs": [
    {
     "data": {
      "text/html": [
       "<div>\n",
       "<style scoped>\n",
       "    .dataframe tbody tr th:only-of-type {\n",
       "        vertical-align: middle;\n",
       "    }\n",
       "\n",
       "    .dataframe tbody tr th {\n",
       "        vertical-align: top;\n",
       "    }\n",
       "\n",
       "    .dataframe thead th {\n",
       "        text-align: right;\n",
       "    }\n",
       "</style>\n",
       "<table border=\"1\" class=\"dataframe\">\n",
       "  <thead>\n",
       "    <tr style=\"text-align: right;\">\n",
       "      <th></th>\n",
       "      <th>Happiness</th>\n",
       "      <th>GDP</th>\n",
       "      <th>Social Support</th>\n",
       "      <th>Healthy life expectancy</th>\n",
       "      <th>Freedom</th>\n",
       "      <th>Generosity</th>\n",
       "      <th>Perception of corruption</th>\n",
       "    </tr>\n",
       "    <tr>\n",
       "      <th>country</th>\n",
       "      <th></th>\n",
       "      <th></th>\n",
       "      <th></th>\n",
       "      <th></th>\n",
       "      <th></th>\n",
       "      <th></th>\n",
       "      <th></th>\n",
       "    </tr>\n",
       "  </thead>\n",
       "  <tbody>\n",
       "    <tr>\n",
       "      <th>AE</th>\n",
       "      <td>0.865251</td>\n",
       "      <td>0.863462</td>\n",
       "      <td>0.918722</td>\n",
       "      <td>0.742391</td>\n",
       "      <td>0.824074</td>\n",
       "      <td>0.353162</td>\n",
       "      <td>0.246942</td>\n",
       "    </tr>\n",
       "    <tr>\n",
       "      <th>AF</th>\n",
       "      <td>0.000000</td>\n",
       "      <td>0.189817</td>\n",
       "      <td>0.296638</td>\n",
       "      <td>0.262565</td>\n",
       "      <td>0.085926</td>\n",
       "      <td>0.205734</td>\n",
       "      <td>1.000000</td>\n",
       "    </tr>\n",
       "    <tr>\n",
       "      <th>AL</th>\n",
       "      <td>0.385803</td>\n",
       "      <td>0.558040</td>\n",
       "      <td>0.513642</td>\n",
       "      <td>0.787601</td>\n",
       "      <td>0.614227</td>\n",
       "      <td>0.282670</td>\n",
       "      <td>0.901660</td>\n",
       "    </tr>\n",
       "    <tr>\n",
       "      <th>AM</th>\n",
       "      <td>0.317177</td>\n",
       "      <td>0.492806</td>\n",
       "      <td>0.602660</td>\n",
       "      <td>0.664261</td>\n",
       "      <td>0.391650</td>\n",
       "      <td>0.177828</td>\n",
       "      <td>0.887270</td>\n",
       "    </tr>\n",
       "    <tr>\n",
       "      <th>AO</th>\n",
       "      <td>0.221030</td>\n",
       "      <td>0.436473</td>\n",
       "      <td>0.686451</td>\n",
       "      <td>0.266372</td>\n",
       "      <td>0.000000</td>\n",
       "      <td>0.150039</td>\n",
       "      <td>0.848808</td>\n",
       "    </tr>\n",
       "  </tbody>\n",
       "</table>\n",
       "</div>"
      ],
      "text/plain": [
       "         Happiness       GDP  Social Support  Healthy life expectancy  \\\n",
       "country                                                                 \n",
       "AE        0.865251  0.863462        0.918722                 0.742391   \n",
       "AF        0.000000  0.189817        0.296638                 0.262565   \n",
       "AL        0.385803  0.558040        0.513642                 0.787601   \n",
       "AM        0.317177  0.492806        0.602660                 0.664261   \n",
       "AO        0.221030  0.436473        0.686451                 0.266372   \n",
       "\n",
       "          Freedom  Generosity  Perception of corruption  \n",
       "country                                                  \n",
       "AE       0.824074    0.353162                  0.246942  \n",
       "AF       0.085926    0.205734                  1.000000  \n",
       "AL       0.614227    0.282670                  0.901660  \n",
       "AM       0.391650    0.177828                  0.887270  \n",
       "AO       0.000000    0.150039                  0.848808  "
      ]
     },
     "execution_count": 284,
     "metadata": {},
     "output_type": "execute_result"
    }
   ],
   "source": [
    "whr_df = pd.read_csv(\"data/world_happiness_report_2018.tsv\", sep=\"\\t\")\n",
    "whr_df[\"country\"] = whr_df[\"country\"].apply(lambda country: get_country_code(country))\n",
    "whr_df = whr_df[whr_df.columns[:9]].dropna()\n",
    "whr_df.columns = [\"country\", \"year\", \"Happiness\", \"GDP\", \"Social Support\", \"Healthy life expectancy\", \"Freedom\", \"Generosity\", \"Perception of corruption\"]\n",
    "whr_df = whr_df.sort_values(\"year\", ascending=False).groupby(\"country\").head(1).set_index(\"country\").sort_index()\n",
    "whr_df.drop(columns=[\"year\"], axis=1, inplace=True)\n",
    "whr_df = pd.DataFrame(data=MinMaxScaler().fit_transform(whr_df), index=whr_df.index, columns=whr_df.columns)\n",
    "whr_df.head()"
   ]
  },
  {
   "cell_type": "code",
   "execution_count": 289,
   "metadata": {},
   "outputs": [],
   "source": [
    "whr_beyms_df = users_df.loc[beyms_in_top_countries].merge(whr_df, left_on=\"country\", right_index=True)\n",
    "whr_ms_df = users_df.loc[ms_in_top_countries].merge(whr_df, left_on=\"country\", right_index=True)"
   ]
  },
  {
   "cell_type": "code",
   "execution_count": 292,
   "metadata": {},
   "outputs": [
    {
     "data": {
      "image/png": "[encoded data removed]",
      "text/plain": [
       "<Figure size 432x288 with 1 Axes>"
      ]
     },
     "metadata": {
      "needs_background": "light"
     },
     "output_type": "display_data"
    }
   ],
   "source": [
    "df = whr_beyms_df.append(whr_ms_df).drop(columns=[\"country\"], axis=1).stack().reset_index().set_index(\"user_id\")\n",
    "df.columns = [\"dimension\", \"value\"]\n",
    "df[\"ms\"] = [uid in ms for uid in df.index]\n",
    "\n",
    "g = sns.boxplot(data=df, x=\"value\", y=\"dimension\", hue=\"ms\", showfliers=False, palette=[\"#ca9161\", \"#ece133\"])\n",
    "patterns = [\"\\\\\", \"O\"]\n",
    "for hatch, patch in zip_longest_cycle(patterns, g.artists):\n",
    "    patch.set_hatch(hatch)\n",
    "\n",
    "g.legend_.set_title(\"\")\n",
    "plt.legend(loc=\"upper left\")\n",
    "new_labels = [r\"$BeyMS$\", r\"$MS$\"]\n",
    "for t, l in zip(g.legend_.texts, new_labels):\n",
    "    t.set_text(l)\n",
    "plt.ylabel(\"\")\n",
    "plt.xlabel(\"\")\n",
    "plt.grid(False)"
   ]
  },
  {
   "cell_type": "code",
   "execution_count": null,
   "metadata": {},
   "outputs": [],
   "source": []
  }
 ],
 "metadata": {
  "kernelspec": {
   "display_name": "SupportTheUnderground",
   "language": "python",
   "name": "supporttheunderground"
  },
  "language_info": {
   "codemirror_mode": {
    "name": "ipython",
    "version": 3
   },
   "file_extension": ".py",
   "mimetype": "text/x-python",
   "name": "python",
   "nbconvert_exporter": "python",
   "pygments_lexer": "ipython3",
   "version": "3.7.3"
  }
 },
 "nbformat": 4,
 "nbformat_minor": 2
}
