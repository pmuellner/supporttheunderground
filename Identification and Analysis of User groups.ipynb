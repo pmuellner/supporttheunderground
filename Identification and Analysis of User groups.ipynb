{
 "cells": [
  {
   "cell_type": "code",
   "execution_count": 265,
   "metadata": {},
   "outputs": [],
   "source": [
    "import pandas as pd\n",
    "import numpy as np\n",
    "import sqlalchemy\n",
    "import ast\n",
    "from itertools import chain\n",
    "import matplotlib.pyplot as plt\n",
    "import seaborn as sns\n",
    "from matplotlib.ticker import FormatStrFormatter"
   ]
  },
  {
   "cell_type": "code",
   "execution_count": 267,
   "metadata": {},
   "outputs": [],
   "source": [
    "plt.style.use(\"seaborn-colorblind\")"
   ]
  },
  {
   "cell_type": "markdown",
   "metadata": {},
   "source": [
    "# Data Preparation"
   ]
  },
  {
   "cell_type": "code",
   "execution_count": 6,
   "metadata": {},
   "outputs": [
    {
     "data": {
      "text/html": [
       "<div>\n",
       "<style scoped>\n",
       "    .dataframe tbody tr th:only-of-type {\n",
       "        vertical-align: middle;\n",
       "    }\n",
       "\n",
       "    .dataframe tbody tr th {\n",
       "        vertical-align: top;\n",
       "    }\n",
       "\n",
       "    .dataframe thead th {\n",
       "        text-align: right;\n",
       "    }\n",
       "</style>\n",
       "<table border=\"1\" class=\"dataframe\">\n",
       "  <thead>\n",
       "    <tr style=\"text-align: right;\">\n",
       "      <th></th>\n",
       "      <th>cluster</th>\n",
       "    </tr>\n",
       "    <tr>\n",
       "      <th>track_id</th>\n",
       "      <th></th>\n",
       "    </tr>\n",
       "  </thead>\n",
       "  <tbody>\n",
       "    <tr>\n",
       "      <th>4868</th>\n",
       "      <td>1</td>\n",
       "    </tr>\n",
       "    <tr>\n",
       "      <th>572665</th>\n",
       "      <td>1</td>\n",
       "    </tr>\n",
       "    <tr>\n",
       "      <th>2897</th>\n",
       "      <td>1</td>\n",
       "    </tr>\n",
       "    <tr>\n",
       "      <th>15100</th>\n",
       "      <td>1</td>\n",
       "    </tr>\n",
       "    <tr>\n",
       "      <th>7112</th>\n",
       "      <td>1</td>\n",
       "    </tr>\n",
       "  </tbody>\n",
       "</table>\n",
       "</div>"
      ],
      "text/plain": [
       "          cluster\n",
       "track_id         \n",
       "4868            1\n",
       "572665          1\n",
       "2897            1\n",
       "15100           1\n",
       "7112            1"
      ]
     },
     "execution_count": 6,
     "metadata": {},
     "output_type": "execute_result"
    }
   ],
   "source": [
    "clustering_df = pd.read_csv(\"data/track_clustering.csv\", usecols=[\"track_id\", \"cluster\"]).set_index(\"track_id\")\n",
    "clustering_df = clustering_df[clustering_df[\"cluster\"] != -1]\n",
    "clustering_df.head()"
   ]
  },
  {
   "cell_type": "code",
   "execution_count": 10,
   "metadata": {},
   "outputs": [],
   "source": [
    "beyms = pd.read_csv(\"data/beyms.csv\")[\"user_id\"].tolist()"
   ]
  },
  {
   "cell_type": "code",
   "execution_count": 11,
   "metadata": {},
   "outputs": [],
   "source": [
    "clustered_tracks = clustering_df.index.unique().tolist()"
   ]
  },
  {
   "cell_type": "markdown",
   "metadata": {},
   "source": [
    "# Calculate User-to-Cluster weights"
   ]
  },
  {
   "cell_type": "code",
   "execution_count": 7,
   "metadata": {},
   "outputs": [
    {
     "data": {
      "text/plain": [
       "{'DB_PATH': '@localhost:3306/music_recommender_db',\n",
       " 'DB_USERNAME': 'root',\n",
       " 'DB_PW': '1234'}"
      ]
     },
     "execution_count": 7,
     "metadata": {},
     "output_type": "execute_result"
    }
   ],
   "source": [
    "db_options_df = pd.read_csv(\"db_credentials.txt\", sep=\"=\", header=None)\n",
    "db_options_df.columns = [\"variable\", \"value\"]\n",
    "db_options_df = db_options_df.apply(lambda col: col.str.strip())\n",
    "db_options_df.set_index(\"variable\", inplace=True)\n",
    "db_options = db_options_df[\"value\"].to_dict()\n",
    "db_options"
   ]
  },
  {
   "cell_type": "code",
   "execution_count": 9,
   "metadata": {},
   "outputs": [],
   "source": [
    "connection = sqlalchemy.create_engine('mysql+pymysql://' + db_options[\"DB_USERNAME\"] + \":\" + db_options[\"DB_PW\"] + db_options[\"DB_PATH\"])"
   ]
  },
  {
   "cell_type": "code",
   "execution_count": 80,
   "metadata": {},
   "outputs": [
    {
     "data": {
      "text/html": [
       "<div>\n",
       "<style scoped>\n",
       "    .dataframe tbody tr th:only-of-type {\n",
       "        vertical-align: middle;\n",
       "    }\n",
       "\n",
       "    .dataframe tbody tr th {\n",
       "        vertical-align: top;\n",
       "    }\n",
       "\n",
       "    .dataframe thead th {\n",
       "        text-align: right;\n",
       "    }\n",
       "</style>\n",
       "<table border=\"1\" class=\"dataframe\">\n",
       "  <thead>\n",
       "    <tr style=\"text-align: right;\">\n",
       "      <th></th>\n",
       "      <th>user_id</th>\n",
       "      <th>artist_id</th>\n",
       "      <th>track_id</th>\n",
       "    </tr>\n",
       "  </thead>\n",
       "  <tbody>\n",
       "    <tr>\n",
       "      <th>0</th>\n",
       "      <td>31435741</td>\n",
       "      <td>21</td>\n",
       "      <td>53</td>\n",
       "    </tr>\n",
       "    <tr>\n",
       "      <th>1</th>\n",
       "      <td>31435741</td>\n",
       "      <td>21</td>\n",
       "      <td>53</td>\n",
       "    </tr>\n",
       "    <tr>\n",
       "      <th>2</th>\n",
       "      <td>31435741</td>\n",
       "      <td>21</td>\n",
       "      <td>53</td>\n",
       "    </tr>\n",
       "    <tr>\n",
       "      <th>3</th>\n",
       "      <td>31435741</td>\n",
       "      <td>21</td>\n",
       "      <td>53</td>\n",
       "    </tr>\n",
       "    <tr>\n",
       "      <th>4</th>\n",
       "      <td>31435741</td>\n",
       "      <td>21</td>\n",
       "      <td>53</td>\n",
       "    </tr>\n",
       "  </tbody>\n",
       "</table>\n",
       "</div>"
      ],
      "text/plain": [
       "    user_id  artist_id  track_id\n",
       "0  31435741         21        53\n",
       "1  31435741         21        53\n",
       "2  31435741         21        53\n",
       "3  31435741         21        53\n",
       "4  31435741         21        53"
      ]
     },
     "execution_count": 80,
     "metadata": {},
     "output_type": "execute_result"
    }
   ],
   "source": [
    "events_df = pd.read_sql(con=connection, sql=\"SELECT user_id, artist_id, track_id FROM events WHERE user_id IN \" + str(tuple(beyms)) + \" AND track_id IN \" + str(tuple(clustered_tracks)))\n",
    "events_df.head()"
   ]
  },
  {
   "cell_type": "code",
   "execution_count": 87,
   "metadata": {},
   "outputs": [
    {
     "data": {
      "text/html": [
       "<div>\n",
       "<style scoped>\n",
       "    .dataframe tbody tr th:only-of-type {\n",
       "        vertical-align: middle;\n",
       "    }\n",
       "\n",
       "    .dataframe tbody tr th {\n",
       "        vertical-align: top;\n",
       "    }\n",
       "\n",
       "    .dataframe thead th {\n",
       "        text-align: right;\n",
       "    }\n",
       "</style>\n",
       "<table border=\"1\" class=\"dataframe\">\n",
       "  <thead>\n",
       "    <tr style=\"text-align: right;\">\n",
       "      <th></th>\n",
       "      <th>user_id</th>\n",
       "      <th>artist_id</th>\n",
       "      <th>track_id</th>\n",
       "      <th>cluster</th>\n",
       "    </tr>\n",
       "  </thead>\n",
       "  <tbody>\n",
       "    <tr>\n",
       "      <th>0</th>\n",
       "      <td>31435741</td>\n",
       "      <td>21</td>\n",
       "      <td>53</td>\n",
       "      <td>1</td>\n",
       "    </tr>\n",
       "    <tr>\n",
       "      <th>1</th>\n",
       "      <td>31435741</td>\n",
       "      <td>21</td>\n",
       "      <td>53</td>\n",
       "      <td>1</td>\n",
       "    </tr>\n",
       "    <tr>\n",
       "      <th>2</th>\n",
       "      <td>31435741</td>\n",
       "      <td>21</td>\n",
       "      <td>53</td>\n",
       "      <td>1</td>\n",
       "    </tr>\n",
       "    <tr>\n",
       "      <th>3</th>\n",
       "      <td>31435741</td>\n",
       "      <td>21</td>\n",
       "      <td>53</td>\n",
       "      <td>1</td>\n",
       "    </tr>\n",
       "    <tr>\n",
       "      <th>4</th>\n",
       "      <td>31435741</td>\n",
       "      <td>21</td>\n",
       "      <td>53</td>\n",
       "      <td>1</td>\n",
       "    </tr>\n",
       "  </tbody>\n",
       "</table>\n",
       "</div>"
      ],
      "text/plain": [
       "    user_id  artist_id  track_id  cluster\n",
       "0  31435741         21        53        1\n",
       "1  31435741         21        53        1\n",
       "2  31435741         21        53        1\n",
       "3  31435741         21        53        1\n",
       "4  31435741         21        53        1"
      ]
     },
     "execution_count": 87,
     "metadata": {},
     "output_type": "execute_result"
    }
   ],
   "source": [
    "events_to_cluster_df = events_df.merge(clustering_df, left_on=\"track_id\", right_index=True)\n",
    "events_to_cluster_df.head()"
   ]
  },
  {
   "cell_type": "code",
   "execution_count": 88,
   "metadata": {},
   "outputs": [
    {
     "data": {
      "text/html": [
       "<div>\n",
       "<style scoped>\n",
       "    .dataframe tbody tr th:only-of-type {\n",
       "        vertical-align: middle;\n",
       "    }\n",
       "\n",
       "    .dataframe tbody tr th {\n",
       "        vertical-align: top;\n",
       "    }\n",
       "\n",
       "    .dataframe thead th {\n",
       "        text-align: right;\n",
       "    }\n",
       "</style>\n",
       "<table border=\"1\" class=\"dataframe\">\n",
       "  <thead>\n",
       "    <tr style=\"text-align: right;\">\n",
       "      <th>cluster</th>\n",
       "      <th>0</th>\n",
       "      <th>1</th>\n",
       "      <th>2</th>\n",
       "      <th>3</th>\n",
       "    </tr>\n",
       "    <tr>\n",
       "      <th>user_id</th>\n",
       "      <th></th>\n",
       "      <th></th>\n",
       "      <th></th>\n",
       "      <th></th>\n",
       "    </tr>\n",
       "  </thead>\n",
       "  <tbody>\n",
       "    <tr>\n",
       "      <th>1049656</th>\n",
       "      <td>0.064476</td>\n",
       "      <td>0.295702</td>\n",
       "      <td>0.369318</td>\n",
       "      <td>0.270504</td>\n",
       "    </tr>\n",
       "    <tr>\n",
       "      <th>1055118</th>\n",
       "      <td>0.051454</td>\n",
       "      <td>0.940716</td>\n",
       "      <td>0.001119</td>\n",
       "      <td>0.006711</td>\n",
       "    </tr>\n",
       "    <tr>\n",
       "      <th>1056935</th>\n",
       "      <td>0.105074</td>\n",
       "      <td>0.711047</td>\n",
       "      <td>0.051457</td>\n",
       "      <td>0.132422</td>\n",
       "    </tr>\n",
       "    <tr>\n",
       "      <th>1070023</th>\n",
       "      <td>0.028662</td>\n",
       "      <td>0.816348</td>\n",
       "      <td>0.019108</td>\n",
       "      <td>0.135881</td>\n",
       "    </tr>\n",
       "    <tr>\n",
       "      <th>1072752</th>\n",
       "      <td>0.294695</td>\n",
       "      <td>0.431565</td>\n",
       "      <td>0.105435</td>\n",
       "      <td>0.168304</td>\n",
       "    </tr>\n",
       "  </tbody>\n",
       "</table>\n",
       "</div>"
      ],
      "text/plain": [
       "cluster         0         1         2         3\n",
       "user_id                                        \n",
       "1049656  0.064476  0.295702  0.369318  0.270504\n",
       "1055118  0.051454  0.940716  0.001119  0.006711\n",
       "1056935  0.105074  0.711047  0.051457  0.132422\n",
       "1070023  0.028662  0.816348  0.019108  0.135881\n",
       "1072752  0.294695  0.431565  0.105435  0.168304"
      ]
     },
     "execution_count": 88,
     "metadata": {},
     "output_type": "execute_result"
    }
   ],
   "source": [
    "weights_df = events_to_cluster_df.groupby([\"user_id\", \"cluster\"]).size() / events_to_cluster_df.groupby(\"user_id\").size()\n",
    "weights_df = weights_df.reset_index()\n",
    "weights_df.columns = [\"user_id\", \"cluster\", \"weight\"]\n",
    "weights_df = weights_df.pivot(index=\"user_id\", columns=\"cluster\", values=\"weight\").fillna(0)\n",
    "weights_df.head()"
   ]
  },
  {
   "cell_type": "markdown",
   "metadata": {},
   "source": [
    "# Calculate IDF-score of Track Clusters"
   ]
  },
  {
   "cell_type": "code",
   "execution_count": 217,
   "metadata": {},
   "outputs": [
    {
     "data": {
      "text/plain": [
       "cluster\n",
       "0    1.070692\n",
       "1    0.187658\n",
       "2    1.272729\n",
       "3    0.672623\n",
       "dtype: float64"
      ]
     },
     "execution_count": 217,
     "metadata": {},
     "output_type": "execute_result"
    }
   ],
   "source": [
    "cluster_idf_scores = np.log10(len(clustering_df) / clustering_df.groupby(\"cluster\").size())\n",
    "cluster_idf_scores"
   ]
  },
  {
   "cell_type": "markdown",
   "metadata": {},
   "source": [
    "# Assign Users to Track Clusters"
   ]
  },
  {
   "cell_type": "code",
   "execution_count": 218,
   "metadata": {},
   "outputs": [
    {
     "data": {
      "text/html": [
       "<div>\n",
       "<style scoped>\n",
       "    .dataframe tbody tr th:only-of-type {\n",
       "        vertical-align: middle;\n",
       "    }\n",
       "\n",
       "    .dataframe tbody tr th {\n",
       "        vertical-align: top;\n",
       "    }\n",
       "\n",
       "    .dataframe thead th {\n",
       "        text-align: right;\n",
       "    }\n",
       "</style>\n",
       "<table border=\"1\" class=\"dataframe\">\n",
       "  <thead>\n",
       "    <tr style=\"text-align: right;\">\n",
       "      <th></th>\n",
       "      <th>user group</th>\n",
       "    </tr>\n",
       "    <tr>\n",
       "      <th>user_id</th>\n",
       "      <th></th>\n",
       "    </tr>\n",
       "  </thead>\n",
       "  <tbody>\n",
       "    <tr>\n",
       "      <th>1049656</th>\n",
       "      <td>2</td>\n",
       "    </tr>\n",
       "    <tr>\n",
       "      <th>1055118</th>\n",
       "      <td>1</td>\n",
       "    </tr>\n",
       "    <tr>\n",
       "      <th>1056935</th>\n",
       "      <td>1</td>\n",
       "    </tr>\n",
       "    <tr>\n",
       "      <th>1070023</th>\n",
       "      <td>1</td>\n",
       "    </tr>\n",
       "    <tr>\n",
       "      <th>1072752</th>\n",
       "      <td>0</td>\n",
       "    </tr>\n",
       "  </tbody>\n",
       "</table>\n",
       "</div>"
      ],
      "text/plain": [
       "         user group\n",
       "user_id            \n",
       "1049656           2\n",
       "1055118           1\n",
       "1056935           1\n",
       "1070023           1\n",
       "1072752           0"
      ]
     },
     "execution_count": 218,
     "metadata": {},
     "output_type": "execute_result"
    }
   ],
   "source": [
    "user_groups = []\n",
    "for user_id, weights in weights_df.iterrows():\n",
    "    favorite_track_cluster = (weights * cluster_idf_scores).idxmax()\n",
    "    user_groups.append((user_id, favorite_track_cluster))\n",
    "user_groups_df = pd.DataFrame(user_groups, columns=[\"user_id\", \"user group\"]).set_index(\"user_id\")\n",
    "user_groups_df.head()"
   ]
  },
  {
   "cell_type": "code",
   "execution_count": 219,
   "metadata": {},
   "outputs": [],
   "source": [
    "U1 = user_groups_df[user_groups_df[\"user group\"] == 0].index.tolist()\n",
    "U2 = user_groups_df[user_groups_df[\"user group\"] == 1].index.tolist()\n",
    "U3 = user_groups_df[user_groups_df[\"user group\"] == 2].index.tolist()\n",
    "U4 = user_groups_df[user_groups_df[\"user group\"] == 3].index.tolist()"
   ]
  },
  {
   "cell_type": "markdown",
   "metadata": {},
   "source": [
    "# Basic Statistics of User Groups"
   ]
  },
  {
   "cell_type": "code",
   "execution_count": 220,
   "metadata": {},
   "outputs": [],
   "source": [
    "n_artists_U1 = events_df[events_df[\"user_id\"].isin(U1)][\"artist_id\"].nunique()\n",
    "n_artists_U2 = events_df[events_df[\"user_id\"].isin(U2)][\"artist_id\"].nunique()\n",
    "n_artists_U3 = events_df[events_df[\"user_id\"].isin(U3)][\"artist_id\"].nunique()\n",
    "n_artists_U4 = events_df[events_df[\"user_id\"].isin(U4)][\"artist_id\"].nunique()"
   ]
  },
  {
   "cell_type": "code",
   "execution_count": 221,
   "metadata": {},
   "outputs": [],
   "source": [
    "n_tracks_U1 = events_df[events_df[\"user_id\"].isin(U1)][\"track_id\"].nunique()\n",
    "n_tracks_U2 = events_df[events_df[\"user_id\"].isin(U2)][\"track_id\"].nunique()\n",
    "n_tracks_U3 = events_df[events_df[\"user_id\"].isin(U3)][\"track_id\"].nunique()\n",
    "n_tracks_U4 = events_df[events_df[\"user_id\"].isin(U4)][\"track_id\"].nunique()"
   ]
  },
  {
   "cell_type": "code",
   "execution_count": 222,
   "metadata": {},
   "outputs": [],
   "source": [
    "n_LEs_U1 = len(events_df[events_df[\"user_id\"].isin(U1)])\n",
    "n_LEs_U2 = len(events_df[events_df[\"user_id\"].isin(U2)])\n",
    "n_LEs_U3 = len(events_df[events_df[\"user_id\"].isin(U3)])\n",
    "n_LEs_U4 = len(events_df[events_df[\"user_id\"].isin(U4)])"
   ]
  },
  {
   "cell_type": "code",
   "execution_count": 223,
   "metadata": {},
   "outputs": [],
   "source": [
    "genres_in_clusters_df = pd.read_csv(\"data/genre_annotations.csv\").merge(clustering_df, left_on=\"track_id\", right_index=True)\n",
    "genres_in_clusters_df[\"genres\"] = genres_in_clusters_df[\"genres\"].apply(ast.literal_eval)\n",
    "\n",
    "n_genres_U1 = genres_in_clusters_df.groupby(\"cluster\")[\"genres\"].apply(chain.from_iterable).apply(set).apply(len)[0]\n",
    "n_genres_U2 = genres_in_clusters_df.groupby(\"cluster\")[\"genres\"].apply(chain.from_iterable).apply(set).apply(len)[1]\n",
    "n_genres_U3 = genres_in_clusters_df.groupby(\"cluster\")[\"genres\"].apply(chain.from_iterable).apply(set).apply(len)[2]\n",
    "n_genres_U4 = genres_in_clusters_df.groupby(\"cluster\")[\"genres\"].apply(chain.from_iterable).apply(set).apply(len)[3]"
   ]
  },
  {
   "cell_type": "code",
   "execution_count": 224,
   "metadata": {},
   "outputs": [],
   "source": [
    "avg_LEs_U1 = events_df[events_df[\"user_id\"].isin(U1)].groupby(\"user_id\").size().mean()\n",
    "avg_LEs_U2 = events_df[events_df[\"user_id\"].isin(U2)].groupby(\"user_id\").size().mean()\n",
    "avg_LEs_U3 = events_df[events_df[\"user_id\"].isin(U3)].groupby(\"user_id\").size().mean()\n",
    "avg_LEs_U4 = events_df[events_df[\"user_id\"].isin(U4)].groupby(\"user_id\").size().mean()"
   ]
  },
  {
   "cell_type": "code",
   "execution_count": 225,
   "metadata": {},
   "outputs": [],
   "source": [
    "avg_tracks_U1 = events_df[events_df[\"user_id\"].isin(U1)].groupby(\"user_id\")[\"track_id\"].nunique().mean()\n",
    "avg_tracks_U2 = events_df[events_df[\"user_id\"].isin(U2)].groupby(\"user_id\")[\"track_id\"].nunique().mean()\n",
    "avg_tracks_U3 = events_df[events_df[\"user_id\"].isin(U3)].groupby(\"user_id\")[\"track_id\"].nunique().mean()\n",
    "avg_tracks_U4 = events_df[events_df[\"user_id\"].isin(U4)].groupby(\"user_id\")[\"track_id\"].nunique().mean()"
   ]
  },
  {
   "cell_type": "code",
   "execution_count": 226,
   "metadata": {},
   "outputs": [],
   "source": [
    "users_df = pd.read_csv(\"data/LFM-1b_users.txt\", sep=\"\\t\")\n",
    "users_df = users_df[users_df[\"age\"] != -1]\n",
    "avg_age_U1 = users_df[users_df[\"user_id\"].isin(U1)][\"age\"].mean()\n",
    "avg_age_U2 = users_df[users_df[\"user_id\"].isin(U2)][\"age\"].mean()\n",
    "avg_age_U3 = users_df[users_df[\"user_id\"].isin(U3)][\"age\"].mean()\n",
    "avg_age_U4 = users_df[users_df[\"user_id\"].isin(U4)][\"age\"].mean()\n",
    "sd_age_U1 = users_df[users_df[\"user_id\"].isin(U1)][\"age\"].std()\n",
    "sd_age_U2 = users_df[users_df[\"user_id\"].isin(U2)][\"age\"].std()\n",
    "sd_age_U3 = users_df[users_df[\"user_id\"].isin(U3)][\"age\"].std()\n",
    "sd_age_U4 = users_df[users_df[\"user_id\"].isin(U4)][\"age\"].std()"
   ]
  },
  {
   "cell_type": "code",
   "execution_count": 227,
   "metadata": {},
   "outputs": [
    {
     "name": "stdout",
     "output_type": "stream",
     "text": [
      "[Users] U_folk: 369, U_hard: 919, U_ambi: 143, U_elec: 642\n",
      "[Artists]  U_folk: 9559, U_hard: 11966, U_ambi: 6869, U_elec: 11814\n",
      "[Tracks]  U_folk: 72663, U_hard: 107952, U_ambi: 39649, U_elec: 105907\n",
      "[LEs] U_folk: 702635, U_hard: 2150246, U_ambi: 224327, U_elec: 1416354\n",
      "[Genres] U_folk: 811, U_hard: 1274, U_ambi: 695, U_elec: 1005\n",
      "[Avg. LEs per user] U_folk: 1904.160, U_hard: 2339.767, U_ambi: 1568.720, U_elec: 2206.159\n",
      "[Avg. Tracks per user] U_folk: 549.650, U_hard: 557.470, U_ambi: 473.308, U_elec: 670.402\n",
      "[Avg. Age (Std)] U_folk: 27.599 (10.369), U_hard: 23.867 (8.912), U_ambi: 29.571 (14.138), U_elec: 24.639 (7.886)\n"
     ]
    }
   ],
   "source": [
    "print(\"[Users] U_folk: %d, U_hard: %d, U_ambi: %d, U_elec: %d\" % (len(U1), len(U2), len(U3), len(U4)))\n",
    "print(\"[Artists]  U_folk: %d, U_hard: %d, U_ambi: %d, U_elec: %d\"% (n_artists_U1, n_artists_U2, n_artists_U3, n_artists_U4))\n",
    "print(\"[Tracks]  U_folk: %d, U_hard: %d, U_ambi: %d, U_elec: %d\" % (n_tracks_U1, n_tracks_U2, n_tracks_U3, n_tracks_U4))\n",
    "print(\"[LEs] U_folk: %d, U_hard: %d, U_ambi: %d, U_elec: %d\" % (n_LEs_U1, n_LEs_U2, n_LEs_U3, n_LEs_U4))\n",
    "print(\"[Genres] U_folk: %d, U_hard: %d, U_ambi: %d, U_elec: %d\" % (n_genres_U1, n_genres_U2, n_genres_U3, n_genres_U4))\n",
    "print(\"[Avg. LEs per user] U_folk: %.3f, U_hard: %.3f, U_ambi: %.3f, U_elec: %.3f\" % (avg_LEs_U1, avg_LEs_U2, avg_LEs_U3, avg_LEs_U4))\n",
    "print(\"[Avg. Tracks per user] U_folk: %.3f, U_hard: %.3f, U_ambi: %.3f, U_elec: %.3f\" % (avg_tracks_U1, avg_tracks_U2, avg_tracks_U3, avg_tracks_U4))\n",
    "print(\"[Avg. Age (Std)] U_folk: %.3f (%.3f), U_hard: %.3f (%.3f), U_ambi: %.3f (%.3f), U_elec: %.3f (%.3f)\" % (avg_age_U1, sd_age_U1, avg_age_U2, sd_age_U2, avg_age_U3, sd_age_U3, avg_age_U4, sd_age_U4))"
   ]
  },
  {
   "cell_type": "markdown",
   "metadata": {},
   "source": [
    "# Radar plot of a Track Cluster's contribution"
   ]
  },
  {
   "cell_type": "code",
   "execution_count": 228,
   "metadata": {},
   "outputs": [
    {
     "data": {
      "text/html": [
       "<div>\n",
       "<style scoped>\n",
       "    .dataframe tbody tr th:only-of-type {\n",
       "        vertical-align: middle;\n",
       "    }\n",
       "\n",
       "    .dataframe tbody tr th {\n",
       "        vertical-align: top;\n",
       "    }\n",
       "\n",
       "    .dataframe thead th {\n",
       "        text-align: right;\n",
       "    }\n",
       "</style>\n",
       "<table border=\"1\" class=\"dataframe\">\n",
       "  <thead>\n",
       "    <tr style=\"text-align: right;\">\n",
       "      <th></th>\n",
       "      <th>0</th>\n",
       "      <th>1</th>\n",
       "      <th>2</th>\n",
       "      <th>3</th>\n",
       "    </tr>\n",
       "    <tr>\n",
       "      <th>user_id</th>\n",
       "      <th></th>\n",
       "      <th></th>\n",
       "      <th></th>\n",
       "      <th></th>\n",
       "    </tr>\n",
       "  </thead>\n",
       "  <tbody>\n",
       "    <tr>\n",
       "      <th>1049656</th>\n",
       "      <td>0.069034</td>\n",
       "      <td>0.055491</td>\n",
       "      <td>0.470042</td>\n",
       "      <td>0.181947</td>\n",
       "    </tr>\n",
       "    <tr>\n",
       "      <th>1055118</th>\n",
       "      <td>0.055092</td>\n",
       "      <td>0.176533</td>\n",
       "      <td>0.001424</td>\n",
       "      <td>0.004514</td>\n",
       "    </tr>\n",
       "    <tr>\n",
       "      <th>1056935</th>\n",
       "      <td>0.112502</td>\n",
       "      <td>0.133433</td>\n",
       "      <td>0.065491</td>\n",
       "      <td>0.089070</td>\n",
       "    </tr>\n",
       "    <tr>\n",
       "      <th>1070023</th>\n",
       "      <td>0.030689</td>\n",
       "      <td>0.153194</td>\n",
       "      <td>0.024320</td>\n",
       "      <td>0.091397</td>\n",
       "    </tr>\n",
       "    <tr>\n",
       "      <th>1072752</th>\n",
       "      <td>0.315528</td>\n",
       "      <td>0.080987</td>\n",
       "      <td>0.134191</td>\n",
       "      <td>0.113205</td>\n",
       "    </tr>\n",
       "  </tbody>\n",
       "</table>\n",
       "</div>"
      ],
      "text/plain": [
       "                0         1         2         3\n",
       "user_id                                        \n",
       "1049656  0.069034  0.055491  0.470042  0.181947\n",
       "1055118  0.055092  0.176533  0.001424  0.004514\n",
       "1056935  0.112502  0.133433  0.065491  0.089070\n",
       "1070023  0.030689  0.153194  0.024320  0.091397\n",
       "1072752  0.315528  0.080987  0.134191  0.113205"
      ]
     },
     "execution_count": 228,
     "metadata": {},
     "output_type": "execute_result"
    }
   ],
   "source": [
    "weighted_weights = []\n",
    "for user_id, weights in weights_df.iterrows():\n",
    "    data_dict = (weights * cluster_idf_scores).to_dict()\n",
    "    data_dict[\"user_id\"] = user_id\n",
    "    weighted_weights.append(data_dict)\n",
    "weighted_weights_df = pd.DataFrame.from_dict(weighted_weights, orient=\"columns\").set_index(\"user_id\")\n",
    "weighted_weights_df.head()"
   ]
  },
  {
   "cell_type": "code",
   "execution_count": 236,
   "metadata": {},
   "outputs": [
    {
     "data": {
      "text/html": [
       "<div>\n",
       "<style scoped>\n",
       "    .dataframe tbody tr th:only-of-type {\n",
       "        vertical-align: middle;\n",
       "    }\n",
       "\n",
       "    .dataframe tbody tr th {\n",
       "        vertical-align: top;\n",
       "    }\n",
       "\n",
       "    .dataframe thead th {\n",
       "        text-align: right;\n",
       "    }\n",
       "</style>\n",
       "<table border=\"1\" class=\"dataframe\">\n",
       "  <thead>\n",
       "    <tr style=\"text-align: right;\">\n",
       "      <th></th>\n",
       "      <th>0</th>\n",
       "      <th>1</th>\n",
       "      <th>2</th>\n",
       "      <th>3</th>\n",
       "    </tr>\n",
       "    <tr>\n",
       "      <th>user group</th>\n",
       "      <th></th>\n",
       "      <th></th>\n",
       "      <th></th>\n",
       "      <th></th>\n",
       "    </tr>\n",
       "  </thead>\n",
       "  <tbody>\n",
       "    <tr>\n",
       "      <th>0</th>\n",
       "      <td>0.263447</td>\n",
       "      <td>0.115818</td>\n",
       "      <td>0.064586</td>\n",
       "      <td>0.057860</td>\n",
       "    </tr>\n",
       "    <tr>\n",
       "      <th>1</th>\n",
       "      <td>0.048659</td>\n",
       "      <td>0.160083</td>\n",
       "      <td>0.018255</td>\n",
       "      <td>0.058622</td>\n",
       "    </tr>\n",
       "    <tr>\n",
       "      <th>2</th>\n",
       "      <td>0.107651</td>\n",
       "      <td>0.078281</td>\n",
       "      <td>0.341494</td>\n",
       "      <td>0.143935</td>\n",
       "    </tr>\n",
       "    <tr>\n",
       "      <th>3</th>\n",
       "      <td>0.042252</td>\n",
       "      <td>0.100099</td>\n",
       "      <td>0.070363</td>\n",
       "      <td>0.250107</td>\n",
       "    </tr>\n",
       "  </tbody>\n",
       "</table>\n",
       "</div>"
      ],
      "text/plain": [
       "                   0         1         2         3\n",
       "user group                                        \n",
       "0           0.263447  0.115818  0.064586  0.057860\n",
       "1           0.048659  0.160083  0.018255  0.058622\n",
       "2           0.107651  0.078281  0.341494  0.143935\n",
       "3           0.042252  0.100099  0.070363  0.250107"
      ]
     },
     "execution_count": 236,
     "metadata": {},
     "output_type": "execute_result"
    }
   ],
   "source": [
    "avg_weights_df = weighted_weights_df.merge(user_groups_df, left_index=True, right_index=True).groupby(\"user group\").mean()\n",
    "avg_weights_df"
   ]
  },
  {
   "cell_type": "code",
   "execution_count": 284,
   "metadata": {},
   "outputs": [
    {
     "data": {
      "text/plain": [
       "<matplotlib.legend.Legend at 0x14365a9d240>"
      ]
     },
     "execution_count": 284,
     "metadata": {},
     "output_type": "execute_result"
    }
   ],
   "source": [
    "angles = np.linspace(0, 2*np.pi, 4, endpoint=False)\n",
    "angles = np.concatenate((angles, [angles[0]]))\n",
    "sns.set(font_scale=1.6)\n",
    "fig = plt.figure()\n",
    "ax = fig.add_subplot(111, polar=True)\n",
    "ax.yaxis.set_major_formatter(FormatStrFormatter('%.1f'))\n",
    "colors = [\"#0072B2\", \"#009E73\", \"#D55E00\", \"#CC79A7\"]\n",
    "markers = [\"o\", \"^\", \"s\", \"D\"]\n",
    "listeners = [r\"$U_{folk}$\", r\"$U_{hard}$\", r\"$U_{ambi}$\", r\"$U_{elec}$\"]\n",
    "linestyles = ['-', '--', '-.', ':']\n",
    "iteration_order = [2, 3, 0, 1]\n",
    "for c in iteration_order:\n",
    "    weights = avg_weights_df.loc[c]\n",
    "    means = np.concatenate((weights.values, [weights.values[0]]))\n",
    "    ax.plot(angles, means, 'o-', linewidth=2, label=listeners[c], color=colors[c], marker=markers[c])\n",
    "    ax.set_thetagrids(angles * 180/np.pi, [r\"$C_{folk}$\", r\"$C_{hard}$\", r\"$C_{ambi}$\", r\"$C_{elec}$\"])\n",
    "    ax.grid(True)\n",
    "    ax.tick_params(pad=20)\n",
    "    plt.ylim(0, 0.4)\n",
    "\n",
    "handles, labels = ax.get_legend_handles_labels()\n",
    "resorted = [(labels[iteration_order.index(c)], handles[ iteration_order.index(c)]) for c in range(4)]\n",
    "labels, handles = zip(*resorted)\n",
    "plt.legend(handles, labels)"
   ]
  },
  {
   "cell_type": "code",
   "execution_count": null,
   "metadata": {},
   "outputs": [],
   "source": []
  }
 ],
 "metadata": {
  "kernelspec": {
   "display_name": "SupportTheUnderground",
   "language": "python",
   "name": "supporttheunderground"
  },
  "language_info": {
   "codemirror_mode": {
    "name": "ipython",
    "version": 3
   },
   "file_extension": ".py",
   "mimetype": "text/x-python",
   "name": "python",
   "nbconvert_exporter": "python",
   "pygments_lexer": "ipython3",
   "version": "3.7.3"
  }
 },
 "nbformat": 4,
 "nbformat_minor": 2
}
