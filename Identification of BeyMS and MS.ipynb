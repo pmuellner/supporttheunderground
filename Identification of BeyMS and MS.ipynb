{
 "cells": [
  {
   "cell_type": "code",
   "execution_count": null,
   "metadata": {},
   "outputs": [],
   "source": [
    "import numpy as np\n",
    "import matplotlib.pyplot as plt\n",
    "import pandas as pd\n",
    "import sqlalchemy\n",
    "import seaborn as sns\n",
    "import ast\n",
    "from collections import Counter"
   ]
  },
  {
   "cell_type": "markdown",
   "metadata": {},
   "source": [
    "# Prepare User Data"
   ]
  },
  {
   "cell_type": "code",
   "execution_count": null,
   "metadata": {},
   "outputs": [],
   "source": [
    "user_data_df = pd.read_csv(\"data/LFM-1b_users.txt\", sep=\"\\t\")[[\"user_id\", \"country\", \"age\", \"gender\"]].set_index(\"user_id\")\n",
    "user_data_df.head()"
   ]
  },
  {
   "cell_type": "code",
   "execution_count": null,
   "metadata": {},
   "outputs": [],
   "source": [
    "user_data_add_df = pd.read_csv(\"data/LFM-1b_users_additional.txt\", sep=\"\\t\").set_index(\"user-id\")\n",
    "user_data_add_df = user_data_add_df[[\"cnt_listeningevents\"]]\n",
    "user_data_add_df.head()"
   ]
  },
  {
   "cell_type": "code",
   "execution_count": null,
   "metadata": {},
   "outputs": [],
   "source": [
    "user_mainstreaminess_df = pd.read_csv(\"data/user_mainstreaminess.txt\", sep=\"\\t\").set_index(\"user_id\")\n",
    "user_mainstreaminess_df = user_mainstreaminess_df[[\"M_global_R_APC\"]]\n",
    "user_mainstreaminess_df.head()"
   ]
  },
  {
   "cell_type": "code",
   "execution_count": null,
   "metadata": {},
   "outputs": [],
   "source": [
    "data_df = user_data_df.merge(user_data_add_df, left_index=True, right_index=True).merge(user_mainstreaminess_df, left_index=True, right_index=True)\n",
    "data_df.dropna(inplace=True)\n",
    "data_df.head()"
   ]
  },
  {
   "cell_type": "markdown",
   "metadata": {},
   "source": [
    "# Listening Event Kernel Density Estimation"
   ]
  },
  {
   "cell_type": "code",
   "execution_count": null,
   "metadata": {},
   "outputs": [],
   "source": [
    "listening_events = data_df[data_df['cnt_listeningevents'] <= 25000]['cnt_listeningevents']\n",
    "LE_kde = sns.distplot(listening_events).get_lines()[0].get_data()\n",
    "plt.xlabel('Listening Events', fontsize=20)\n",
    "plt.ylabel('Density', fontsize=20)"
   ]
  },
  {
   "cell_type": "code",
   "execution_count": null,
   "metadata": {},
   "outputs": [],
   "source": [
    "LE_kde_df = pd.DataFrame(LE_kde).T\n",
    "LE_kde_df.columns = [\"x\", \"y\"]\n",
    "LE_kde_df.head()"
   ]
  },
  {
   "cell_type": "markdown",
   "metadata": {},
   "source": [
    "# Listening Events Threshold"
   ]
  },
  {
   "cell_type": "code",
   "execution_count": null,
   "metadata": {},
   "outputs": [],
   "source": [
    "LE_gradient = np.gradient(LE_kde_df[\"y\"])"
   ]
  },
  {
   "cell_type": "code",
   "execution_count": null,
   "metadata": {},
   "outputs": [],
   "source": [
    "indices = np.where(np.abs(LE_gradient) < 0.000001)[0]\n",
    "longest_seq, current_seq = [], []\n",
    "for v in indices:\n",
    "    if len(current_seq) == 0:\n",
    "        current_seq.append(v)\n",
    "    else:\n",
    "        if current_seq[-1] == v-1:\n",
    "            current_seq.append(v)\n",
    "        elif len(longest_seq) < len(current_seq):\n",
    "            longest_seq = current_seq\n",
    "            current_seq = [v]\n",
    "\n",
    "print(\"The longest consecutive sequence of points with a gradient < 0.000001 goes from %d to %d\" % (LE_kde_df.iloc[longest_seq[0]][\"x\"], LE_kde_df.iloc[longest_seq[-1]][\"x\"]))"
   ]
  },
  {
   "cell_type": "code",
   "execution_count": null,
   "metadata": {},
   "outputs": [],
   "source": [
    "fig, axes = plt.subplots(2, 1, sharex=True)\n",
    "axes[0].plot(LE_kde_df[\"x\"], LE_kde_df[\"y\"], label=\"\")\n",
    "axes[0].axhline(y=0, linestyle=\"--\", color=\"grey\", linewidth=1)\n",
    "axes[0].axvline(x=4688, linestyle=\"--\", c=\"black\", label=\"Lower bound (4,688)\")\n",
    "axes[0].axvline(x=14787, linestyle=\"dotted\", c=\"black\", label=\"Upper bound (14,787)\")\n",
    "axes[0].legend(loc=\"upper right\")\n",
    "axes[0].set_ylabel(\"Density\")\n",
    "axes[0].grid(False)\n",
    "\n",
    "axes[1].plot(LE_kde_df[\"x\"], LE_gradient, label=\"\")\n",
    "axes[1].axhline(y=0, linestyle=\"--\", color=\"grey\", linewidth=1)\n",
    "axes[1].axvline(x=4688, linestyle=\"--\", c=\"black\", label=\"Lower bound (4,688)\")\n",
    "axes[1].axvline(x=14787, linestyle=\"dotted\", c=\"black\", label=\"Upper bound (14,787)\")\n",
    "axes[1].set_ylabel(\"Gradient\")\n",
    "axes[1].grid(False)\n",
    "axes[1].legend(loc=\"upper right\")\n",
    "\n",
    "plt.xlabel(\"No. of listening events per user\")"
   ]
  },
  {
   "cell_type": "markdown",
   "metadata": {},
   "source": [
    "# Mainstreaminess Kernel Density Estimation"
   ]
  },
  {
   "cell_type": "code",
   "execution_count": null,
   "metadata": {},
   "outputs": [],
   "source": [
    "within_LE_thresh_df = data_df[(data_df[\"cnt_listeningevents\"] >= 4688) & (data_df[\"cnt_listeningevents\"] <= 14787)]['M_global_R_APC']\n",
    "M_kde = sns.distplot(within_LE_thresh_df, kde=True).get_lines()[0].get_data()\n",
    "plt.xlabel('Mainstreaminess', fontsize=20)\n",
    "plt.ylabel('Density', fontsize=20)"
   ]
  },
  {
   "cell_type": "code",
   "execution_count": null,
   "metadata": {},
   "outputs": [],
   "source": [
    "M_kde_df = pd.DataFrame(M_kde).T\n",
    "M_kde_df.columns = [\"x\", \"y\"]\n",
    "M_kde_df.head()"
   ]
  },
  {
   "cell_type": "markdown",
   "metadata": {},
   "source": [
    "# Mainstreaminess Threshold"
   ]
  },
  {
   "cell_type": "code",
   "execution_count": null,
   "metadata": {},
   "outputs": [],
   "source": [
    "M_gradient = np.gradient(M_kde_df[\"y\"])\n",
    "max_gradient = M_kde_df.iloc[np.argmax(M_gradient)][\"x\"]\n",
    "print(\"The point with the maximal gradient is %f\" % max_gradient)"
   ]
  },
  {
   "cell_type": "code",
   "execution_count": null,
   "metadata": {},
   "outputs": [],
   "source": [
    "fig, axes = plt.subplots(2, 1, sharex=True)\n",
    "axes[0].plot(M_kde_df[\"x\"], M_kde_df[\"y\"] / len(M_kde_df), label=\"\", linewidth=1)\n",
    "axes[0].axvline(x=0.097732, linestyle=\"--\", c=\"black\", label=\"Lower bound (0.097732)\", linewidth=1)\n",
    "axes[0].set_ylabel(\"Density\")\n",
    "axes[0].grid(False)\n",
    "axes[0].legend(loc=\"upper right\")\n",
    "\n",
    "axes[1].plot(M_kde_df[\"x\"], M_gradient, linewidth=1)\n",
    "axes[1].axhline(y=0, linestyle=\"-\", c=\"grey\", linewidth=1)\n",
    "axes[1].axvline(x=0.097732, linestyle=\"--\", c=\"black\", label=\"Lower bound (0.097732)\", linewidth=1)\n",
    "axes[1].set_ylabel(\"Gradient\")\n",
    "axes[1].grid(False)\n",
    "plt.xlabel(\"Mainstreaminess\")\n",
    "plt.legend(loc=\"upper right\")"
   ]
  },
  {
   "cell_type": "markdown",
   "metadata": {},
   "source": [
    "# Construction of BeyMS and MS"
   ]
  },
  {
   "cell_type": "code",
   "execution_count": null,
   "metadata": {},
   "outputs": [],
   "source": [
    "within_LE_thresh_df = data_df[(data_df[\"cnt_listeningevents\"] >= 4688) & (data_df[\"cnt_listeningevents\"] <= 14787)]\n",
    "beyms = within_LE_thresh_df[within_LE_thresh_df[\"M_global_R_APC\"] < 0.097732].index.tolist()\n",
    "ms = np.random.choice(within_LE_thresh_df[within_LE_thresh_df[\"M_global_R_APC\"] >= 0.097732].index.tolist(), size=len(beyms), replace=False).tolist()"
   ]
  },
  {
   "cell_type": "markdown",
   "metadata": {},
   "source": [
    "# Identification of too-general Genres"
   ]
  },
  {
   "cell_type": "code",
   "execution_count": null,
   "metadata": {},
   "outputs": [],
   "source": [
    "acoustic_features_df = pd.read_csv(\"data/acoustic_features_lfm_id.tsv\", sep=\"\\t\").set_index(\"track_id\")\n",
    "acoustic_features_df = acoustic_features_df[[\"danceability\", \"energy\", \"speechiness\", \"acousticness\", \"instrumentalness\", \"tempo\", \"valence\", \"liveness\"]]\n",
    "acoustic_features_df.dropna(inplace=True)\n",
    "af_annotations = acoustic_features_df.index.tolist()"
   ]
  },
  {
   "cell_type": "code",
   "execution_count": null,
   "metadata": {},
   "outputs": [],
   "source": [
    "db_options_df = pd.read_csv(\"db_credentials.txt\", sep=\"=\", header=None)\n",
    "db_options_df.columns = [\"variable\", \"value\"]\n",
    "db_options_df = db_options_df.apply(lambda col: col.str.strip())\n",
    "db_options_df.set_index(\"variable\", inplace=True)\n",
    "db_options = db_options_df[\"value\"].to_dict()\n",
    "db_options"
   ]
  },
  {
   "cell_type": "code",
   "execution_count": null,
   "metadata": {},
   "outputs": [],
   "source": [
    "connection = sqlalchemy.create_engine('mysql+pymysql://' + db_options[\"DB_USERNAME\"] + \":\" + db_options[\"DB_PW\"] + db_options[\"DB_PATH\"])"
   ]
  },
  {
   "cell_type": "code",
   "execution_count": null,
   "metadata": {},
   "outputs": [],
   "source": [
    "tracks = pd.read_sql(con=connection, sql=\"SELECT DISTINCT(track_id) FROM events WHERE user_id IN \" + str(tuple(beyms)))[\"track_id\"].tolist()"
   ]
  },
  {
   "cell_type": "code",
   "execution_count": null,
   "metadata": {},
   "outputs": [],
   "source": [
    "genre_annotations_df = pd.read_csv(\"data/genre_annotations.csv\")\n",
    "genre_annotations_df.columns = [\"track_id\", \"genres\"]\n",
    "genre_annotations_df.set_index(\"track_id\", inplace=True)\n",
    "genre_annotations_df[\"genres\"] = genre_annotations_df[\"genres\"].apply(ast.literal_eval)\n",
    "genre_annotations_df = genre_annotations_df[genre_annotations_df[\"genres\"].apply(len) != 0]"
   ]
  },
  {
   "cell_type": "code",
   "execution_count": null,
   "metadata": {},
   "outputs": [],
   "source": [
    "#\n",
    "# TODO remove this\n",
    "# \n",
    "# genre_annotations_df[\"genres\"] = genre_annotations_df[\"genres\"].apply(lambda l: l[:-1])"
   ]
  },
  {
   "cell_type": "code",
   "execution_count": null,
   "metadata": {},
   "outputs": [],
   "source": [
    "len(genre_annotations_df)"
   ]
  },
  {
   "cell_type": "code",
   "execution_count": null,
   "metadata": {},
   "outputs": [],
   "source": [
    "relevant_tracks = set(tracks).intersection(genre_annotations_df.index).intersection(af_annotations)\n",
    "beyms_genre_annotations_df = genre_annotations_df[genre_annotations_df.index.isin(relevant_tracks)].copy()"
   ]
  },
  {
   "cell_type": "code",
   "execution_count": null,
   "metadata": {},
   "outputs": [],
   "source": [
    "n_documents = len(relevant_tracks)\n",
    "n_documents"
   ]
  },
  {
   "cell_type": "code",
   "execution_count": null,
   "metadata": {},
   "outputs": [],
   "source": [
    "unique_genres = set()\n",
    "for genres in beyms_genre_annotations_df[\"genres\"]:\n",
    "    unique_genres = unique_genres.union(genres)\n",
    "len(unique_genres)"
   ]
  },
  {
   "cell_type": "code",
   "execution_count": null,
   "metadata": {},
   "outputs": [],
   "source": [
    "beyms_genre_annotations_df[\"genres\"] = beyms_genre_annotations_df[\"genres\"].apply(lambda r: Counter(set(r)))\n",
    "n_rel_docs = Counter(dict.fromkeys(unique_genres, 0))\n",
    "for _, counts in beyms_genre_annotations_df.iterrows():\n",
    "    n_rel_docs = Counter(n_rel_docs + counts.values[0])\n",
    "n_rel_docs"
   ]
  },
  {
   "cell_type": "code",
   "execution_count": null,
   "metadata": {},
   "outputs": [],
   "source": [
    "idf_scores = {genre: np.log10(n_documents / n_rel) for genre, n_rel in dict(n_rel_docs).items()}\n",
    "idf_scores_df = pd.DataFrame.from_dict(idf_scores, orient=\"index\", columns=[\"idf\"]).sort_values(by=\"idf\", ascending=True)\n",
    "idf_scores_df.head(16)"
   ]
  },
  {
   "cell_type": "code",
   "execution_count": null,
   "metadata": {},
   "outputs": [],
   "source": [
    "plt.plot(list(range(0, 100)), idf_scores_df.iloc[:100], \"-o\")\n",
    "plt.xlabel(\"Top-100 genres\")\n",
    "plt.ylabel(\"Genre IDF-score\")\n",
    "plt.axhline(y=0.9, linestyle=\"--\", color=\"black\", label=\"Lower bound (0.90)\")\n",
    "plt.legend()\n",
    "plt.grid(False)\n",
    "plt.show()"
   ]
  },
  {
   "cell_type": "markdown",
   "metadata": {},
   "source": [
    "# Basic statistics of BeyMS"
   ]
  },
  {
   "cell_type": "code",
   "execution_count": null,
   "metadata": {},
   "outputs": [],
   "source": [
    "too_general_genres = idf_scores_df[idf_scores_df[\"idf\"] < 0.9].index.unique().tolist()\n",
    "too_general_genres"
   ]
  },
  {
   "cell_type": "code",
   "execution_count": null,
   "metadata": {},
   "outputs": [],
   "source": [
    "df = beyms_genre_annotations_df.copy()\n",
    "df[\"genres\"] = df[\"genres\"].apply(lambda genres: [g for g in genres if g not in too_general_genres])\n",
    "more_specific_tracks_df = df[df[\"genres\"].apply(len) != 0]"
   ]
  },
  {
   "cell_type": "code",
   "execution_count": null,
   "metadata": {},
   "outputs": [],
   "source": [
    "beyms_tracks = more_specific_tracks_df.index.unique().tolist()"
   ]
  },
  {
   "cell_type": "code",
   "execution_count": null,
   "metadata": {},
   "outputs": [],
   "source": [
    "len(beyms_tracks)"
   ]
  },
  {
   "cell_type": "code",
   "execution_count": null,
   "metadata": {},
   "outputs": [],
   "source": [
    "beyms_events_df = pd.read_sql(con=connection, sql=\"SELECT * FROM events WHERE user_id IN \" + str(tuple(beyms)) + \" AND track_id IN \" + str(tuple(beyms_tracks)))\n",
    "beyms_events_df.head()"
   ]
  },
  {
   "cell_type": "code",
   "execution_count": null,
   "metadata": {},
   "outputs": [],
   "source": [
    "n_users = len(beyms)\n",
    "n_tracks = len(beyms_tracks)\n",
    "n_artists = beyms_events_df[\"artist_id\"].nunique()\n",
    "n_LEs = len(beyms_events_df)"
   ]
  },
  {
   "cell_type": "code",
   "execution_count": null,
   "metadata": {},
   "outputs": [],
   "source": [
    "groupby_beyms = beyms_events_df.groupby(\"user_id\")\n",
    "min_LEs_per_user = groupby_beyms.size().describe().loc[\"min\"]\n",
    "q1_LEs_per_user = groupby_beyms.size().describe().loc[\"25%\"]\n",
    "median_LEs_per_user = groupby_beyms.size().describe().loc[\"50%\"]\n",
    "q3_LEs_per_user = groupby_beyms.size().describe().loc[\"75%\"]\n",
    "max_LEs_per_user = groupby_beyms.size().describe().loc[\"max\"]\n",
    "mean_LEs_per_user = groupby_beyms.size().describe().loc[\"mean\"]\n",
    "std_LEs_per_user = groupby_beyms.size().describe().loc[\"std\"]"
   ]
  },
  {
   "cell_type": "code",
   "execution_count": null,
   "metadata": {},
   "outputs": [],
   "source": [
    "beyms_countries_df = pd.read_csv(\"data/LFM-1b_users.txt\", sep=\"\\t\")[[\"user_id\", \"country\"]].set_index(\"user_id\").dropna().loc[beyms]\n",
    "beyms_countries_df.head()"
   ]
  },
  {
   "cell_type": "code",
   "execution_count": null,
   "metadata": {},
   "outputs": [],
   "source": [
    "mean_users_per_country = beyms_countries_df[\"country\"].value_counts().mean()\n",
    "std_users_per_country = beyms_countries_df[\"country\"].value_counts().std()"
   ]
  },
  {
   "cell_type": "code",
   "execution_count": null,
   "metadata": {},
   "outputs": [],
   "source": [
    "print(\"Users: %d\" % n_users)\n",
    "print(\"Tracks: %d\" % n_tracks)\n",
    "print(\"Artists: %d\" % n_artists)\n",
    "print(\"Listening Events (LEs): %d\" % n_LEs)\n",
    "print(\"Min. LEs per user: %d\" % min_LEs_per_user)\n",
    "print(\"Q1 LEs per user: %d\" % q1_LEs_per_user)\n",
    "print(\"Median LEs per user: %d\" % median_LEs_per_user)\n",
    "print(\"Q3 LEs per user: %d\" % q3_LEs_per_user)\n",
    "print(\"Max. LEs per user: %d\" % max_LEs_per_user)\n",
    "print(\"Mean (Std) LEs per user: %f (%f)\" % (mean_LEs_per_user, std_LEs_per_user))\n",
    "print(\"Mean (Std) Users per country: %f (%f)\" % (mean_users_per_country, std_users_per_country))"
   ]
  },
  {
   "cell_type": "markdown",
   "metadata": {},
   "source": [
    "# Save dataset for BeyMS and MS"
   ]
  },
  {
   "cell_type": "code",
   "execution_count": null,
   "metadata": {},
   "outputs": [],
   "source": [
    "# The dataset comprises tracks that have been listened by at least one user in BeyMS.\n",
    "# Each track is annotated with more-specific genres and its representation by acoustic features can be obtained."
   ]
  },
  {
   "cell_type": "code",
   "execution_count": null,
   "metadata": {},
   "outputs": [],
   "source": [
    "more_specific_tracks_df.to_csv(\"data/beyms_more_specific_tracks.csv\")"
   ]
  },
  {
   "cell_type": "code",
   "execution_count": null,
   "metadata": {},
   "outputs": [],
   "source": [
    "idf_scores_df.reset_index().rename(columns={\"index\": \"genre\"}).to_csv(\"data/genre_idf_scores.csv\", index=False)"
   ]
  },
  {
   "cell_type": "code",
   "execution_count": null,
   "metadata": {},
   "outputs": [],
   "source": [
    "beyms_df = pd.DataFrame(beyms)\n",
    "beyms_df.columns = [\"user_id\"]\n",
    "beyms_df.to_csv(\"data/beyms.csv\", index=False)"
   ]
  },
  {
   "cell_type": "code",
   "execution_count": null,
   "metadata": {},
   "outputs": [],
   "source": [
    "ms_df = pd.DataFrame(ms)\n",
    "ms_df.columns = [\"user_id\"]\n",
    "ms_df.to_csv(\"data/ms.csv\", index=False)"
   ]
  },
  {
   "cell_type": "code",
   "execution_count": null,
   "metadata": {},
   "outputs": [],
   "source": []
  }
 ],
 "metadata": {
  "kernelspec": {
   "display_name": "SupportTheUnderground",
   "language": "python",
   "name": "supporttheunderground"
  },
  "language_info": {
   "codemirror_mode": {
    "name": "ipython",
    "version": 3
   },
   "file_extension": ".py",
   "mimetype": "text/x-python",
   "name": "python",
   "nbconvert_exporter": "python",
   "pygments_lexer": "ipython3",
   "version": "3.7.3"
  }
 },
 "nbformat": 4,
 "nbformat_minor": 2
}
