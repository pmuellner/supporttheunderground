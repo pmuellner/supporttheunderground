{
 "cells": [
  {
   "cell_type": "code",
   "execution_count": 2,
   "metadata": {},
   "outputs": [],
   "source": [
    "import pandas as pd\n",
    "import numpy as np\n",
    "from sklearn.preprocessing import MinMaxScaler\n",
    "import umap\n",
    "import matplotlib as mpl\n",
    "import matplotlib.pyplot as plt\n",
    "import hdbscan\n",
    "import seaborn as sns\n",
    "from itertools import zip_longest, cycle\n",
    "import matplotlib.patches as mpatches\n",
    "from collections import Counter\n",
    "import ast\n",
    "import sqlalchemy\n",
    "from sklearn.metrics import pairwise_distances"
   ]
  },
  {
   "cell_type": "code",
   "execution_count": 3,
   "metadata": {},
   "outputs": [],
   "source": [
    "plt.style.use(\"seaborn-colorblind\")"
   ]
  },
  {
   "cell_type": "markdown",
   "metadata": {},
   "source": [
    "# Prepare Track Data"
   ]
  },
  {
   "cell_type": "code",
   "execution_count": 4,
   "metadata": {},
   "outputs": [
    {
     "data": {
      "text/html": [
       "<div>\n",
       "<style scoped>\n",
       "    .dataframe tbody tr th:only-of-type {\n",
       "        vertical-align: middle;\n",
       "    }\n",
       "\n",
       "    .dataframe tbody tr th {\n",
       "        vertical-align: top;\n",
       "    }\n",
       "\n",
       "    .dataframe thead th {\n",
       "        text-align: right;\n",
       "    }\n",
       "</style>\n",
       "<table border=\"1\" class=\"dataframe\">\n",
       "  <thead>\n",
       "    <tr style=\"text-align: right;\">\n",
       "      <th></th>\n",
       "      <th>genres</th>\n",
       "    </tr>\n",
       "    <tr>\n",
       "      <th>track_id</th>\n",
       "      <th></th>\n",
       "    </tr>\n",
       "  </thead>\n",
       "  <tbody>\n",
       "    <tr>\n",
       "      <th>4868</th>\n",
       "      <td>['neosoul', 'blues', 'pianorock', 'rb', 'jazz'...</td>\n",
       "    </tr>\n",
       "    <tr>\n",
       "      <th>2900</th>\n",
       "      <td>['indiepop', 'shoegaze', 'electronica', 'downt...</td>\n",
       "    </tr>\n",
       "    <tr>\n",
       "      <th>572665</th>\n",
       "      <td>['drama', 'blues', 'singersongwriter', 'soul']</td>\n",
       "    </tr>\n",
       "    <tr>\n",
       "      <th>2897</th>\n",
       "      <td>['chillgroove', 'lounge', 'dreampop', 'experim...</td>\n",
       "    </tr>\n",
       "    <tr>\n",
       "      <th>15100</th>\n",
       "      <td>['contemporaryfolk', 'indiepop', 'indiefolk', ...</td>\n",
       "    </tr>\n",
       "  </tbody>\n",
       "</table>\n",
       "</div>"
      ],
      "text/plain": [
       "                                                     genres\n",
       "track_id                                                   \n",
       "4868      ['neosoul', 'blues', 'pianorock', 'rb', 'jazz'...\n",
       "2900      ['indiepop', 'shoegaze', 'electronica', 'downt...\n",
       "572665       ['drama', 'blues', 'singersongwriter', 'soul']\n",
       "2897      ['chillgroove', 'lounge', 'dreampop', 'experim...\n",
       "15100     ['contemporaryfolk', 'indiepop', 'indiefolk', ..."
      ]
     },
     "execution_count": 4,
     "metadata": {},
     "output_type": "execute_result"
    }
   ],
   "source": [
    "tracks_df = pd.read_csv(\"data/beyms_more_specific_tracks.csv\", index_col=\"track_id\")\n",
    "tracks_df.head()"
   ]
  },
  {
   "cell_type": "code",
   "execution_count": 5,
   "metadata": {},
   "outputs": [
    {
     "name": "stderr",
     "output_type": "stream",
     "text": [
      "C:\\Users\\pmuellner\\AppData\\Local\\Continuum\\anaconda3\\lib\\site-packages\\numpy\\lib\\arraysetops.py:569: FutureWarning: elementwise comparison failed; returning scalar instead, but in the future will perform elementwise comparison\n",
      "  mask |= (ar1 == a)\n"
     ]
    },
    {
     "data": {
      "text/html": [
       "<div>\n",
       "<style scoped>\n",
       "    .dataframe tbody tr th:only-of-type {\n",
       "        vertical-align: middle;\n",
       "    }\n",
       "\n",
       "    .dataframe tbody tr th {\n",
       "        vertical-align: top;\n",
       "    }\n",
       "\n",
       "    .dataframe thead th {\n",
       "        text-align: right;\n",
       "    }\n",
       "</style>\n",
       "<table border=\"1\" class=\"dataframe\">\n",
       "  <thead>\n",
       "    <tr style=\"text-align: right;\">\n",
       "      <th></th>\n",
       "      <th>danceability</th>\n",
       "      <th>energy</th>\n",
       "      <th>speechiness</th>\n",
       "      <th>acousticness</th>\n",
       "      <th>instrumentalness</th>\n",
       "      <th>tempo</th>\n",
       "      <th>valence</th>\n",
       "      <th>liveness</th>\n",
       "    </tr>\n",
       "    <tr>\n",
       "      <th>track_id</th>\n",
       "      <th></th>\n",
       "      <th></th>\n",
       "      <th></th>\n",
       "      <th></th>\n",
       "      <th></th>\n",
       "      <th></th>\n",
       "      <th></th>\n",
       "      <th></th>\n",
       "    </tr>\n",
       "  </thead>\n",
       "  <tbody>\n",
       "    <tr>\n",
       "      <th>4868</th>\n",
       "      <td>0.730731</td>\n",
       "      <td>0.769997</td>\n",
       "      <td>0.008760</td>\n",
       "      <td>0.138554</td>\n",
       "      <td>0.000000</td>\n",
       "      <td>0.419792</td>\n",
       "      <td>0.521995</td>\n",
       "      <td>0.045372</td>\n",
       "    </tr>\n",
       "    <tr>\n",
       "      <th>2900</th>\n",
       "      <td>0.607608</td>\n",
       "      <td>0.788997</td>\n",
       "      <td>0.006649</td>\n",
       "      <td>0.461847</td>\n",
       "      <td>0.907000</td>\n",
       "      <td>0.401404</td>\n",
       "      <td>0.157992</td>\n",
       "      <td>0.126235</td>\n",
       "    </tr>\n",
       "    <tr>\n",
       "      <th>572665</th>\n",
       "      <td>0.603604</td>\n",
       "      <td>0.669996</td>\n",
       "      <td>0.003588</td>\n",
       "      <td>0.004096</td>\n",
       "      <td>0.000002</td>\n",
       "      <td>0.431980</td>\n",
       "      <td>0.450995</td>\n",
       "      <td>0.110203</td>\n",
       "    </tr>\n",
       "    <tr>\n",
       "      <th>2897</th>\n",
       "      <td>0.863864</td>\n",
       "      <td>0.473993</td>\n",
       "      <td>0.052454</td>\n",
       "      <td>0.752008</td>\n",
       "      <td>0.183000</td>\n",
       "      <td>0.496152</td>\n",
       "      <td>0.674997</td>\n",
       "      <td>0.145273</td>\n",
       "    </tr>\n",
       "    <tr>\n",
       "      <th>15100</th>\n",
       "      <td>0.517518</td>\n",
       "      <td>0.491993</td>\n",
       "      <td>0.006016</td>\n",
       "      <td>0.027610</td>\n",
       "      <td>0.000032</td>\n",
       "      <td>0.554316</td>\n",
       "      <td>0.445994</td>\n",
       "      <td>0.085453</td>\n",
       "    </tr>\n",
       "  </tbody>\n",
       "</table>\n",
       "</div>"
      ],
      "text/plain": [
       "          danceability    energy  speechiness  acousticness  instrumentalness  \\\n",
       "track_id                                                                        \n",
       "4868          0.730731  0.769997     0.008760      0.138554          0.000000   \n",
       "2900          0.607608  0.788997     0.006649      0.461847          0.907000   \n",
       "572665        0.603604  0.669996     0.003588      0.004096          0.000002   \n",
       "2897          0.863864  0.473993     0.052454      0.752008          0.183000   \n",
       "15100         0.517518  0.491993     0.006016      0.027610          0.000032   \n",
       "\n",
       "             tempo   valence  liveness  \n",
       "track_id                                \n",
       "4868      0.419792  0.521995  0.045372  \n",
       "2900      0.401404  0.157992  0.126235  \n",
       "572665    0.431980  0.450995  0.110203  \n",
       "2897      0.496152  0.674997  0.145273  \n",
       "15100     0.554316  0.445994  0.085453  "
      ]
     },
     "execution_count": 5,
     "metadata": {},
     "output_type": "execute_result"
    }
   ],
   "source": [
    "acoustic_features_df = pd.read_csv(\"data/acoustic_features_lfm_id.tsv\", sep=\"\\t\", index_col=\"track_id\")\n",
    "acoustic_features_df = acoustic_features_df[[\"danceability\", \"energy\", \"speechiness\", \"acousticness\", \"instrumentalness\", \"tempo\", \"valence\", \"liveness\"]]\n",
    "acoustic_features_df = pd.DataFrame(index=acoustic_features_df.index, columns=acoustic_features_df.columns, data=MinMaxScaler().fit_transform(acoustic_features_df))\n",
    "acoustic_features_df = acoustic_features_df.loc[tracks_df.index]\n",
    "acoustic_features_df.head()"
   ]
  },
  {
   "cell_type": "markdown",
   "metadata": {},
   "source": [
    "# Dimensionality Reduction with UMAP"
   ]
  },
  {
   "cell_type": "code",
   "execution_count": 7,
   "metadata": {},
   "outputs": [
    {
     "data": {
      "text/html": [
       "<div>\n",
       "<style scoped>\n",
       "    .dataframe tbody tr th:only-of-type {\n",
       "        vertical-align: middle;\n",
       "    }\n",
       "\n",
       "    .dataframe tbody tr th {\n",
       "        vertical-align: top;\n",
       "    }\n",
       "\n",
       "    .dataframe thead th {\n",
       "        text-align: right;\n",
       "    }\n",
       "</style>\n",
       "<table border=\"1\" class=\"dataframe\">\n",
       "  <thead>\n",
       "    <tr style=\"text-align: right;\">\n",
       "      <th></th>\n",
       "      <th>0</th>\n",
       "      <th>1</th>\n",
       "    </tr>\n",
       "    <tr>\n",
       "      <th>track_id</th>\n",
       "      <th></th>\n",
       "      <th></th>\n",
       "    </tr>\n",
       "  </thead>\n",
       "  <tbody>\n",
       "    <tr>\n",
       "      <th>4868</th>\n",
       "      <td>-3.581914</td>\n",
       "      <td>-1.859798</td>\n",
       "    </tr>\n",
       "    <tr>\n",
       "      <th>2900</th>\n",
       "      <td>6.813811</td>\n",
       "      <td>0.071526</td>\n",
       "    </tr>\n",
       "    <tr>\n",
       "      <th>572665</th>\n",
       "      <td>-2.469605</td>\n",
       "      <td>-1.049000</td>\n",
       "    </tr>\n",
       "    <tr>\n",
       "      <th>2897</th>\n",
       "      <td>-0.842564</td>\n",
       "      <td>-6.144903</td>\n",
       "    </tr>\n",
       "    <tr>\n",
       "      <th>15100</th>\n",
       "      <td>-1.141784</td>\n",
       "      <td>-1.332417</td>\n",
       "    </tr>\n",
       "  </tbody>\n",
       "</table>\n",
       "</div>"
      ],
      "text/plain": [
       "                 0         1\n",
       "track_id                    \n",
       "4868     -3.581914 -1.859798\n",
       "2900      6.813811  0.071526\n",
       "572665   -2.469605 -1.049000\n",
       "2897     -0.842564 -6.144903\n",
       "15100    -1.141784 -1.332417"
      ]
     },
     "execution_count": 7,
     "metadata": {},
     "output_type": "execute_result"
    }
   ],
   "source": [
    "latent_dimensions_df = pd.DataFrame(index=acoustic_features_df.index, data=umap.UMAP(random_state=42).fit_transform(acoustic_features_df))\n",
    "latent_dimensions_df.head()"
   ]
  },
  {
   "cell_type": "code",
   "execution_count": 8,
   "metadata": {},
   "outputs": [
    {
     "data": {
      "text/plain": [
       "<matplotlib.collections.PathCollection at 0x21f2793e5c0>"
      ]
     },
     "execution_count": 8,
     "metadata": {},
     "output_type": "execute_result"
    }
   ],
   "source": [
    "plt.scatter(latent_dimensions_df[0], latent_dimensions_df[1], alpha=0.1, s=1)"
   ]
  },
  {
   "cell_type": "code",
   "execution_count": 9,
   "metadata": {},
   "outputs": [
    {
     "data": {
      "text/plain": [
       "<matplotlib.image.AxesImage at 0x21f27f25a58>"
      ]
     },
     "execution_count": 9,
     "metadata": {},
     "output_type": "execute_result"
    }
   ],
   "source": [
    "heatmap, _, _ = np.histogram2d(latent_dimensions_df[0], latent_dimensions_df[1], bins=100)\n",
    "plt.imshow(heatmap.T, origin='lower')"
   ]
  },
  {
   "cell_type": "markdown",
   "metadata": {},
   "source": [
    "# Clustering with HDBSCAN"
   ]
  },
  {
   "cell_type": "code",
   "execution_count": 10,
   "metadata": {},
   "outputs": [],
   "source": [
    "def visualize_clustering(data, model):\n",
    "    n_clusters = len(set(model.labels_))\n",
    "    predictions = model.labels_\n",
    "    \n",
    "    patches = []\n",
    "    mpl.rcParams[\"hatch.linewidth\"] = 0.3\n",
    "    colors = [\"#0072B2\", \"#009E73\", \"#D55E00\", \"#CC79A7\"]\n",
    "    plt.figure(frameon=False)\n",
    "    for c in set(model.labels_):\n",
    "        if c != -1:\n",
    "            cluster = data[predictions == c]\n",
    "            xs = cluster[cluster.columns[0]]\n",
    "            ys = cluster[cluster.columns[1]]\n",
    "            \n",
    "            patterns = [\"//\", \"++\", \"oo\", \"xx\"]\n",
    "            patch = mpatches.Patch(label=r\"$C_\" + str(c+1) + \"$\", hatch=patterns[c], color=colors[c])\n",
    "            patch.set_hatch(hatch=patterns[c])\n",
    "            patches.append(patch)\n",
    "            plt.scatter(xs, ys, alpha=0.7, edgecolors=\"None\", s=20, hatch=patterns[c])\n",
    "        \n",
    "    plt.legend(handles=patches, loc=\"lower right\")\n",
    "    plt.xlabel(r\"Latent feature $x$\")\n",
    "    plt.ylabel(r\"Latent feature $y$\")\n",
    "    plt.tight_layout()\n",
    "    plt.show()"
   ]
  },
  {
   "cell_type": "code",
   "execution_count": null,
   "metadata": {},
   "outputs": [],
   "source": [
    "interesting_models = []\n",
    "for s_min in range(1000, 1500, 25):\n",
    "    model = hdbscan.HDBSCAN(min_cluster_size=s_min)\n",
    "    predictions = model.fit_predict(latent_dimensions_df)\n",
    "    \n",
    "    if len(set(predictions))-1 == 4:\n",
    "        interesting_models.append(model)\n",
    "        \n",
    "    print(\"min_cluster_size: %d, n clusters: %d\" % (s_min, len(set(predictions))-1))"
   ]
  },
  {
   "cell_type": "code",
   "execution_count": null,
   "metadata": {},
   "outputs": [],
   "source": [
    "# Please note that the parameters could vary slightly, since the dimensionality reduction comprises stochastic components"
   ]
  },
  {
   "cell_type": "code",
   "execution_count": null,
   "metadata": {},
   "outputs": [],
   "source": [
    "def intra_cluster_variance(data_df, model):\n",
    "    predictions = model.labels_\n",
    "    sses = []\n",
    "    for c in set(predictions):\n",
    "        mean = data_df[predictions == c].mean()\n",
    "        sse = np.sum(np.power(data_df[predictions == c] - mean, 2))\n",
    "        sses.append(sse)\n",
    "    \n",
    "    return np.sum(sses), np.mean(sses)"
   ]
  },
  {
   "cell_type": "code",
   "execution_count": null,
   "metadata": {},
   "outputs": [],
   "source": [
    "for model in interesting_models:\n",
    "    visualize_clustering(latent_dimensions_df, model)\n",
    "    intra_cluster_variance(latent_dimensions_df, model)"
   ]
  },
  {
   "cell_type": "code",
   "execution_count": 13,
   "metadata": {},
   "outputs": [
    {
     "data": {
      "text/html": [
       "<div>\n",
       "<style scoped>\n",
       "    .dataframe tbody tr th:only-of-type {\n",
       "        vertical-align: middle;\n",
       "    }\n",
       "\n",
       "    .dataframe tbody tr th {\n",
       "        vertical-align: top;\n",
       "    }\n",
       "\n",
       "    .dataframe thead th {\n",
       "        text-align: right;\n",
       "    }\n",
       "</style>\n",
       "<table border=\"1\" class=\"dataframe\">\n",
       "  <thead>\n",
       "    <tr style=\"text-align: right;\">\n",
       "      <th></th>\n",
       "      <th>0</th>\n",
       "      <th>1</th>\n",
       "      <th>cluster</th>\n",
       "    </tr>\n",
       "    <tr>\n",
       "      <th>track_id</th>\n",
       "      <th></th>\n",
       "      <th></th>\n",
       "      <th></th>\n",
       "    </tr>\n",
       "  </thead>\n",
       "  <tbody>\n",
       "    <tr>\n",
       "      <th>4868</th>\n",
       "      <td>-3.581914</td>\n",
       "      <td>-1.859798</td>\n",
       "      <td>1</td>\n",
       "    </tr>\n",
       "    <tr>\n",
       "      <th>2900</th>\n",
       "      <td>6.813811</td>\n",
       "      <td>0.071526</td>\n",
       "      <td>-1</td>\n",
       "    </tr>\n",
       "    <tr>\n",
       "      <th>572665</th>\n",
       "      <td>-2.469605</td>\n",
       "      <td>-1.049000</td>\n",
       "      <td>1</td>\n",
       "    </tr>\n",
       "    <tr>\n",
       "      <th>2897</th>\n",
       "      <td>-0.842564</td>\n",
       "      <td>-6.144903</td>\n",
       "      <td>1</td>\n",
       "    </tr>\n",
       "    <tr>\n",
       "      <th>15100</th>\n",
       "      <td>-1.141784</td>\n",
       "      <td>-1.332417</td>\n",
       "      <td>1</td>\n",
       "    </tr>\n",
       "  </tbody>\n",
       "</table>\n",
       "</div>"
      ],
      "text/plain": [
       "                 0         1  cluster\n",
       "track_id                             \n",
       "4868     -3.581914 -1.859798        1\n",
       "2900      6.813811  0.071526       -1\n",
       "572665   -2.469605 -1.049000        1\n",
       "2897     -0.842564 -6.144903        1\n",
       "15100    -1.141784 -1.332417        1"
      ]
     },
     "execution_count": 13,
     "metadata": {},
     "output_type": "execute_result"
    }
   ],
   "source": [
    "clustering_df = latent_dimensions_df.copy()\n",
    "clustering_df[\"cluster\"] = model.labels_\n",
    "clustering_df.head()"
   ]
  },
  {
   "cell_type": "code",
   "execution_count": 14,
   "metadata": {},
   "outputs": [
    {
     "name": "stdout",
     "output_type": "stream",
     "text": [
      "n Tracks C_1: 12148\n",
      "n Tracks C_2: 92798\n",
      "n Tracks C_3: 7629\n",
      "n Tracks C_4: 30379\n",
      "14490 Tracks couldn't be classified and lie in between clusters\n"
     ]
    }
   ],
   "source": [
    "n_tracks_per_cluster = clustering_df.groupby(\"cluster\").size()\n",
    "print(\"n Tracks C_1: %d\" % n_tracks_per_cluster[0])\n",
    "print(\"n Tracks C_2: %d\" % n_tracks_per_cluster[1])\n",
    "print(\"n Tracks C_3: %d\" % n_tracks_per_cluster[2])\n",
    "print(\"n Tracks C_4: %d\" % n_tracks_per_cluster[3])\n",
    "print(\"%d Tracks couldn't be classified and lie in between clusters\" % n_tracks_per_cluster[-1])"
   ]
  },
  {
   "cell_type": "markdown",
   "metadata": {},
   "source": [
    "# Visualize Distribution of Acoustic Features"
   ]
  },
  {
   "cell_type": "code",
   "execution_count": null,
   "metadata": {},
   "outputs": [],
   "source": [
    "def zip_longest_cycle(A, B):\n",
    "    zip_list = zip(A, cycle(B)) if len(A) > len(B) else zip(cycle(A), B)\n",
    "    return zip_list"
   ]
  },
  {
   "cell_type": "code",
   "execution_count": null,
   "metadata": {},
   "outputs": [],
   "source": [
    "df = acoustic_features_df.copy()\n",
    "df.columns = [feature.capitalize() for feature in df.columns]\n",
    "df = df.stack().reset_index()\n",
    "df.columns = [\"track_id\", \"feature\", \"value\"]\n",
    "df = df.merge(clustering_df, left_on=\"track_id\", right_index=True)\n",
    "g = sns.boxplot(data=df[df[\"cluster\"] != -1], x=\"value\", y=\"feature\", hue=\"cluster\", showfliers=False)\n",
    "g.legend_.set_title(\"\")\n",
    "\n",
    "patterns = [\"//\", \"++\", \"oo\", \"xx\"]\n",
    "for hatch, patch in zip_longest_cycle(patterns, g.artists):\n",
    "    patch.set_hatch(hatch)\n",
    "    \n",
    "for hatch, bar in zip_longest_cycle(patterns, g.patches):\n",
    "    bar.set_hatch(hatch)\n",
    "\n",
    "plt.legend(loc=\"lower right\")\n",
    "labels = [r\"$C_1$\", r\"$C_2$\", r\"$C_3$\", r\"$C_4$\"]\n",
    "for t, l in zip(g.legend_.texts, labels):\n",
    "    t.set_text(l)\n",
    "plt.ylabel(\"\")\n",
    "plt.xlabel(\"\")\n",
    "plt.grid(False)"
   ]
  },
  {
   "cell_type": "markdown",
   "metadata": {},
   "source": [
    "# Visualize Distribution of Genres"
   ]
  },
  {
   "cell_type": "code",
   "execution_count": 15,
   "metadata": {},
   "outputs": [
    {
     "data": {
      "text/html": [
       "<div>\n",
       "<style scoped>\n",
       "    .dataframe tbody tr th:only-of-type {\n",
       "        vertical-align: middle;\n",
       "    }\n",
       "\n",
       "    .dataframe tbody tr th {\n",
       "        vertical-align: top;\n",
       "    }\n",
       "\n",
       "    .dataframe thead th {\n",
       "        text-align: right;\n",
       "    }\n",
       "</style>\n",
       "<table border=\"1\" class=\"dataframe\">\n",
       "  <thead>\n",
       "    <tr style=\"text-align: right;\">\n",
       "      <th></th>\n",
       "      <th>genres</th>\n",
       "    </tr>\n",
       "    <tr>\n",
       "      <th>track_id</th>\n",
       "      <th></th>\n",
       "    </tr>\n",
       "  </thead>\n",
       "  <tbody>\n",
       "    <tr>\n",
       "      <th>4868</th>\n",
       "      <td>[neosoul, blues, pianorock, rb, jazz, singerso...</td>\n",
       "    </tr>\n",
       "    <tr>\n",
       "      <th>2900</th>\n",
       "      <td>[indiepop, shoegaze, electronica, downtempo, a...</td>\n",
       "    </tr>\n",
       "    <tr>\n",
       "      <th>572665</th>\n",
       "      <td>[drama, blues, singersongwriter, soul]</td>\n",
       "    </tr>\n",
       "    <tr>\n",
       "      <th>2897</th>\n",
       "      <td>[chillgroove, lounge, dreampop, experimental, ...</td>\n",
       "    </tr>\n",
       "    <tr>\n",
       "      <th>15100</th>\n",
       "      <td>[contemporaryfolk, indiepop, indiefolk, bluegr...</td>\n",
       "    </tr>\n",
       "  </tbody>\n",
       "</table>\n",
       "</div>"
      ],
      "text/plain": [
       "                                                     genres\n",
       "track_id                                                   \n",
       "4868      [neosoul, blues, pianorock, rb, jazz, singerso...\n",
       "2900      [indiepop, shoegaze, electronica, downtempo, a...\n",
       "572665               [drama, blues, singersongwriter, soul]\n",
       "2897      [chillgroove, lounge, dreampop, experimental, ...\n",
       "15100     [contemporaryfolk, indiepop, indiefolk, bluegr..."
      ]
     },
     "execution_count": 15,
     "metadata": {},
     "output_type": "execute_result"
    }
   ],
   "source": [
    "genre_annotations_df = pd.read_csv(\"data/beyms_more_specific_tracks.csv\", index_col=\"track_id\")\n",
    "genre_annotations_df[\"genres\"] = genre_annotations_df[\"genres\"].apply(ast.literal_eval)\n",
    "genre_annotations_df.head()"
   ]
  },
  {
   "cell_type": "code",
   "execution_count": 16,
   "metadata": {},
   "outputs": [
    {
     "data": {
      "text/html": [
       "<div>\n",
       "<style scoped>\n",
       "    .dataframe tbody tr th:only-of-type {\n",
       "        vertical-align: middle;\n",
       "    }\n",
       "\n",
       "    .dataframe tbody tr th {\n",
       "        vertical-align: top;\n",
       "    }\n",
       "\n",
       "    .dataframe thead th {\n",
       "        text-align: right;\n",
       "    }\n",
       "</style>\n",
       "<table border=\"1\" class=\"dataframe\">\n",
       "  <thead>\n",
       "    <tr style=\"text-align: right;\">\n",
       "      <th></th>\n",
       "      <th>idf</th>\n",
       "    </tr>\n",
       "    <tr>\n",
       "      <th>genre</th>\n",
       "      <th></th>\n",
       "    </tr>\n",
       "  </thead>\n",
       "  <tbody>\n",
       "    <tr>\n",
       "      <th>rock</th>\n",
       "      <td>0.404844</td>\n",
       "    </tr>\n",
       "    <tr>\n",
       "      <th>pop</th>\n",
       "      <td>0.674384</td>\n",
       "    </tr>\n",
       "    <tr>\n",
       "      <th>metal</th>\n",
       "      <td>0.719958</td>\n",
       "    </tr>\n",
       "    <tr>\n",
       "      <th>electronic</th>\n",
       "      <td>0.740530</td>\n",
       "    </tr>\n",
       "    <tr>\n",
       "      <th>alternativerock</th>\n",
       "      <td>0.755070</td>\n",
       "    </tr>\n",
       "  </tbody>\n",
       "</table>\n",
       "</div>"
      ],
      "text/plain": [
       "                      idf\n",
       "genre                    \n",
       "rock             0.404844\n",
       "pop              0.674384\n",
       "metal            0.719958\n",
       "electronic       0.740530\n",
       "alternativerock  0.755070"
      ]
     },
     "execution_count": 16,
     "metadata": {},
     "output_type": "execute_result"
    }
   ],
   "source": [
    "idf_scores_df = pd.read_csv(\"data/genre_idf_scores.csv\", index_col=\"genre\")\n",
    "idf_scores_df.head()"
   ]
  },
  {
   "cell_type": "code",
   "execution_count": 17,
   "metadata": {},
   "outputs": [
    {
     "data": {
      "text/plain": [
       "['rock', 'pop', 'metal', 'electronic', 'alternativerock', 'indierock']"
      ]
     },
     "execution_count": 17,
     "metadata": {},
     "output_type": "execute_result"
    }
   ],
   "source": [
    "too_general_genres = idf_scores_df.head(6).index.tolist()\n",
    "too_general_genres"
   ]
  },
  {
   "cell_type": "code",
   "execution_count": 18,
   "metadata": {},
   "outputs": [],
   "source": [
    "tf_idf_scores_df = pd.DataFrame()\n",
    "for cluster, data in genre_annotations_df.merge(clustering_df[[\"cluster\"]], left_index=True, right_index=True).groupby(\"cluster\"):\n",
    "    if cluster != -1:\n",
    "        term_frequencies = Counter(dict.fromkeys(idf_scores_df.index, 0))\n",
    "        for _, counts in data.iterrows():\n",
    "            term_frequencies = Counter(term_frequencies + Counter(counts.values[0]))\n",
    "        tf_idf = Counter({genre: idf_scores_df.loc[genre].values[0] * term_frequencies[genre] for genre in idf_scores_df.index})\n",
    "        tf_idf_df = pd.DataFrame.from_dict(tf_idf, orient=\"index\", columns=[\"tf-idf\"]).sort_values(by=\"tf-idf\", ascending=False)\n",
    "        tf_idf_df.index.name = \"genre\"\n",
    "        tf_idf_df[\"cluster\"] = cluster\n",
    "        tf_idf_scores_df = tf_idf_scores_df.append(tf_idf_df)"
   ]
  },
  {
   "cell_type": "code",
   "execution_count": 19,
   "metadata": {},
   "outputs": [],
   "source": [
    "tf_idf_scores_df = tf_idf_scores_df[~tf_idf_scores_df.index.isin(too_general_genres)]"
   ]
  },
  {
   "cell_type": "code",
   "execution_count": 20,
   "metadata": {},
   "outputs": [
    {
     "data": {
      "text/plain": [
       "Text(0.5, 0, 'Aggregated genre IDF-scores')"
      ]
     },
     "execution_count": 20,
     "metadata": {},
     "output_type": "execute_result"
    }
   ],
   "source": [
    "top10_df = tf_idf_scores_df[tf_idf_scores_df[\"cluster\"] == 0].sort_values(by=\"tf-idf\", ascending=False).head(10)\n",
    "plt.barh(top10_df.index, top10_df[\"tf-idf\"])\n",
    "plt.xlabel(\"Aggregated genre IDF-scores\")"
   ]
  },
  {
   "cell_type": "code",
   "execution_count": 21,
   "metadata": {},
   "outputs": [
    {
     "data": {
      "text/plain": [
       "Text(0.5, 0, 'Aggregated genre IDF-scores')"
      ]
     },
     "execution_count": 21,
     "metadata": {},
     "output_type": "execute_result"
    }
   ],
   "source": [
    "top10_df = tf_idf_scores_df[tf_idf_scores_df[\"cluster\"] == 1].sort_values(by=\"tf-idf\", ascending=False).head(10)\n",
    "plt.barh(top10_df.index, top10_df[\"tf-idf\"])\n",
    "plt.xlabel(\"Aggregated genre IDF-scores\")"
   ]
  },
  {
   "cell_type": "code",
   "execution_count": 22,
   "metadata": {},
   "outputs": [
    {
     "data": {
      "text/plain": [
       "Text(0.5, 0, 'Aggregated genre IDF-scores')"
      ]
     },
     "execution_count": 22,
     "metadata": {},
     "output_type": "execute_result"
    }
   ],
   "source": [
    "top10_df = tf_idf_scores_df[tf_idf_scores_df[\"cluster\"] == 2].sort_values(by=\"tf-idf\", ascending=False).head(10)\n",
    "plt.barh(top10_df.index, top10_df[\"tf-idf\"])\n",
    "plt.xlabel(\"Aggregated genre IDF-scores\")"
   ]
  },
  {
   "cell_type": "code",
   "execution_count": 23,
   "metadata": {},
   "outputs": [
    {
     "data": {
      "text/plain": [
       "Text(0.5, 0, 'Aggregated genre IDF-scores')"
      ]
     },
     "execution_count": 23,
     "metadata": {},
     "output_type": "execute_result"
    }
   ],
   "source": [
    "top10_df = tf_idf_scores_df[tf_idf_scores_df[\"cluster\"] == 3].sort_values(by=\"tf-idf\", ascending=False).head(10)\n",
    "plt.barh(top10_df.index, top10_df[\"tf-idf\"])\n",
    "plt.xlabel(\"Aggregated genre IDF-scores\")"
   ]
  },
  {
   "cell_type": "markdown",
   "metadata": {},
   "source": [
    "# Visualize Relative Genre Frequency"
   ]
  },
  {
   "cell_type": "code",
   "execution_count": null,
   "metadata": {},
   "outputs": [],
   "source": [
    "beyms = pd.read_csv(\"data/beyms.csv\")[\"user_id\"].tolist()"
   ]
  },
  {
   "cell_type": "code",
   "execution_count": null,
   "metadata": {},
   "outputs": [],
   "source": [
    "events_df = pd.read_csv(\"data/more_specific_events.csv\")"
   ]
  },
  {
   "cell_type": "code",
   "execution_count": null,
   "metadata": {},
   "outputs": [],
   "source": [
    "events_with_genres_df = events_df.merge(clustering_df[[\"cluster\"]], left_on=\"track_id\", right_on=\"track_id\").merge(genre_annotations_df, left_on=\"track_id\", right_index=True)\n",
    "events_with_genres_df.head()"
   ]
  },
  {
   "cell_type": "code",
   "execution_count": null,
   "metadata": {},
   "outputs": [],
   "source": [
    "events_with_genres_df[\"genres\"] = events_with_genres_df[\"genres\"].apply(Counter)"
   ]
  },
  {
   "cell_type": "code",
   "execution_count": null,
   "metadata": {},
   "outputs": [],
   "source": [
    "genres_per_cluster_df = events_with_genres_df.groupby(\"cluster\")[\"genres\"].sum().to_frame()\n",
    "genres_per_cluster_df.head()"
   ]
  },
  {
   "cell_type": "code",
   "execution_count": null,
   "metadata": {},
   "outputs": [],
   "source": [
    "n_events_per_cluster_df = events_with_genres_df.groupby(\"cluster\").size().to_frame()\n",
    "n_events_per_cluster_df"
   ]
  },
  {
   "cell_type": "code",
   "execution_count": null,
   "metadata": {},
   "outputs": [],
   "source": [
    "markers = [\"o\", \"^\", \"s\", \"D\"]\n",
    "colors = [\"#0072B2\", \"#009E73\", \"#D55E00\", \"#CC79A7\"]\n",
    "names = [r\"$C_{folk}$\", r\"$C_{hard}$\", r\"$C_{ambi}$\", r\"$C_{elec}$\"]\n",
    "\n",
    "max_genres = 0\n",
    "for c, data in genres_per_cluster_df.iterrows():\n",
    "    if c != -1:\n",
    "        sorted_occs = sorted(dict(data[\"genres\"]).items(), key=lambda tup: tup[1])[::-1]\n",
    "        ys = list(zip(*sorted_occs))[1]\n",
    "        ys = np.array(ys) / n_events_per_cluster_df.loc[c].values[0]\n",
    "        ys = ys[np.where(ys >= 0.1)]\n",
    "        plt.plot(range(len(ys)), ys, \"-o\", label=names[c], marker=markers[c], color=colors[c])\n",
    "        if len(ys) > max_genres:\n",
    "            max_genres = len(ys)\n",
    "            plt.xticks(list(range(len(ys))), np.array(list(range(len(ys)))) + 1)\n",
    "    \n",
    "plt.legend()\n",
    "plt.ylabel(\"Relative genre frequency\")\n",
    "plt.xlabel(r\"Genres with a relative frequency of $\\geq$ 0.1\")\n",
    "plt.grid(False)\n",
    "plt.show()"
   ]
  },
  {
   "cell_type": "markdown",
   "metadata": {},
   "source": [
    "# Save Clustering Data"
   ]
  },
  {
   "cell_type": "code",
   "execution_count": null,
   "metadata": {},
   "outputs": [],
   "source": [
    "clustering_df.to_csv(\"data/track_clustering.csv\", index=True)"
   ]
  },
  {
   "cell_type": "code",
   "execution_count": null,
   "metadata": {},
   "outputs": [],
   "source": []
  }
 ],
 "metadata": {
  "kernelspec": {
   "display_name": "SupportTheUnderground",
   "language": "python",
   "name": "supporttheunderground"
  },
  "language_info": {
   "codemirror_mode": {
    "name": "ipython",
    "version": 3
   },
   "file_extension": ".py",
   "mimetype": "text/x-python",
   "name": "python",
   "nbconvert_exporter": "python",
   "pygments_lexer": "ipython3",
   "version": "3.7.3"
  }
 },
 "nbformat": 4,
 "nbformat_minor": 2
}
