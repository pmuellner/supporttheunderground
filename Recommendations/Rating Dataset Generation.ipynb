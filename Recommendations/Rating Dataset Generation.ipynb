{
 "cells": [
  {
   "cell_type": "code",
   "execution_count": 1,
   "metadata": {},
   "outputs": [],
   "source": [
    "import pandas as pd\n",
    "import numpy as np\n",
    "import sqlalchemy\n",
    "from sklearn.preprocessing import MinMaxScaler"
   ]
  },
  {
   "cell_type": "markdown",
   "metadata": {},
   "source": [
    "# Generation of Rating Dataset"
   ]
  },
  {
   "cell_type": "code",
   "execution_count": 2,
   "metadata": {},
   "outputs": [],
   "source": [
    "beyms = pd.read_csv(\"../data/beyms.csv\")[\"user_id\"].tolist()\n",
    "ms = pd.read_csv(\"../data/ms.csv\")[\"user_id\"].tolist()"
   ]
  },
  {
   "cell_type": "code",
   "execution_count": 20,
   "metadata": {},
   "outputs": [
    {
     "data": {
      "text/html": [
       "<div>\n",
       "<style scoped>\n",
       "    .dataframe tbody tr th:only-of-type {\n",
       "        vertical-align: middle;\n",
       "    }\n",
       "\n",
       "    .dataframe tbody tr th {\n",
       "        vertical-align: top;\n",
       "    }\n",
       "\n",
       "    .dataframe thead th {\n",
       "        text-align: right;\n",
       "    }\n",
       "</style>\n",
       "<table border=\"1\" class=\"dataframe\">\n",
       "  <thead>\n",
       "    <tr style=\"text-align: right;\">\n",
       "      <th></th>\n",
       "      <th>user_id</th>\n",
       "      <th>track_id</th>\n",
       "      <th>playcount</th>\n",
       "    </tr>\n",
       "  </thead>\n",
       "  <tbody>\n",
       "    <tr>\n",
       "      <th>0</th>\n",
       "      <td>1002693</td>\n",
       "      <td>542</td>\n",
       "      <td>1</td>\n",
       "    </tr>\n",
       "    <tr>\n",
       "      <th>1</th>\n",
       "      <td>1002693</td>\n",
       "      <td>580</td>\n",
       "      <td>2</td>\n",
       "    </tr>\n",
       "    <tr>\n",
       "      <th>2</th>\n",
       "      <td>1002693</td>\n",
       "      <td>2553</td>\n",
       "      <td>1</td>\n",
       "    </tr>\n",
       "    <tr>\n",
       "      <th>3</th>\n",
       "      <td>1002693</td>\n",
       "      <td>6399</td>\n",
       "      <td>1</td>\n",
       "    </tr>\n",
       "    <tr>\n",
       "      <th>4</th>\n",
       "      <td>1002693</td>\n",
       "      <td>7462</td>\n",
       "      <td>1</td>\n",
       "    </tr>\n",
       "  </tbody>\n",
       "</table>\n",
       "</div>"
      ],
      "text/plain": [
       "   user_id  track_id  playcount\n",
       "0  1002693       542          1\n",
       "1  1002693       580          2\n",
       "2  1002693      2553          1\n",
       "3  1002693      6399          1\n",
       "4  1002693      7462          1"
      ]
     },
     "execution_count": 20,
     "metadata": {},
     "output_type": "execute_result"
    }
   ],
   "source": [
    "events_df = pd.read_csv(\"../data/events.csv\")\n",
    "playcounts_df = events_df.groupby([\"user_id\", \"track_id\"]).size().reset_index()\n",
    "playcounts_df.columns = [\"user_id\", \"track_id\", \"playcount\"]\n",
    "playcounts_df.head()"
   ]
  },
  {
   "cell_type": "code",
   "execution_count": 4,
   "metadata": {},
   "outputs": [
    {
     "data": {
      "text/html": [
       "<div>\n",
       "<style scoped>\n",
       "    .dataframe tbody tr th:only-of-type {\n",
       "        vertical-align: middle;\n",
       "    }\n",
       "\n",
       "    .dataframe tbody tr th {\n",
       "        vertical-align: top;\n",
       "    }\n",
       "\n",
       "    .dataframe thead th {\n",
       "        text-align: right;\n",
       "    }\n",
       "</style>\n",
       "<table border=\"1\" class=\"dataframe\">\n",
       "  <thead>\n",
       "    <tr style=\"text-align: right;\">\n",
       "      <th></th>\n",
       "      <th>user_id</th>\n",
       "      <th>item_id</th>\n",
       "      <th>rating</th>\n",
       "    </tr>\n",
       "  </thead>\n",
       "  <tbody>\n",
       "    <tr>\n",
       "      <th>0</th>\n",
       "      <td>1002693</td>\n",
       "      <td>542</td>\n",
       "      <td>1.0</td>\n",
       "    </tr>\n",
       "    <tr>\n",
       "      <th>1</th>\n",
       "      <td>1002693</td>\n",
       "      <td>580</td>\n",
       "      <td>67.6</td>\n",
       "    </tr>\n",
       "    <tr>\n",
       "      <th>2</th>\n",
       "      <td>1002693</td>\n",
       "      <td>2553</td>\n",
       "      <td>1.0</td>\n",
       "    </tr>\n",
       "    <tr>\n",
       "      <th>3</th>\n",
       "      <td>1002693</td>\n",
       "      <td>6399</td>\n",
       "      <td>1.0</td>\n",
       "    </tr>\n",
       "    <tr>\n",
       "      <th>4</th>\n",
       "      <td>1002693</td>\n",
       "      <td>7462</td>\n",
       "      <td>1.0</td>\n",
       "    </tr>\n",
       "  </tbody>\n",
       "</table>\n",
       "</div>"
      ],
      "text/plain": [
       "   user_id  item_id  rating\n",
       "0  1002693      542     1.0\n",
       "1  1002693      580    67.6\n",
       "2  1002693     2553     1.0\n",
       "3  1002693     6399     1.0\n",
       "4  1002693     7462     1.0"
      ]
     },
     "execution_count": 4,
     "metadata": {},
     "output_type": "execute_result"
    }
   ],
   "source": [
    "ratings_df = pd.DataFrame()\n",
    "for user_id, data in playcounts_df.groupby(\"user_id\"):\n",
    "    ratings = MinMaxScaler(feature_range=(1, 1000)).fit_transform(data[\"playcount\"].values.reshape(-1, 1).astype(float))\n",
    "    new_rows = data[[\"user_id\", \"track_id\"]].copy()\n",
    "    new_rows[\"rating\"] = ratings\n",
    "    ratings_df = ratings_df.append(new_rows)\n",
    "ratings_df.columns = [\"user_id\", \"item_id\", \"rating\"]\n",
    "ratings_df.head()"
   ]
  },
  {
   "cell_type": "code",
   "execution_count": 25,
   "metadata": {},
   "outputs": [],
   "source": [
    "ratings_df.to_csv(\"../data/ratings.csv\", index=False)"
   ]
  },
  {
   "cell_type": "markdown",
   "metadata": {},
   "source": [
    "# Basic Statistics of Rating Data"
   ]
  },
  {
   "cell_type": "code",
   "execution_count": 27,
   "metadata": {},
   "outputs": [],
   "source": [
    "user_groups_df = pd.read_csv(\"../data/user_groups.csv\")\n",
    "U1 = user_groups_df[user_groups_df[\"user group\"] == 0][\"user_id\"].tolist()\n",
    "U2 = user_groups_df[user_groups_df[\"user group\"] == 1][\"user_id\"].tolist()\n",
    "U3 = user_groups_df[user_groups_df[\"user group\"] == 2][\"user_id\"].tolist()\n",
    "U4 = user_groups_df[user_groups_df[\"user group\"] == 3][\"user_id\"].tolist()"
   ]
  },
  {
   "cell_type": "code",
   "execution_count": 28,
   "metadata": {},
   "outputs": [],
   "source": [
    "ratings_U1_df = ratings_df[ratings_df[\"user_id\"].isin(U1)]\n",
    "ratings_U2_df = ratings_df[ratings_df[\"user_id\"].isin(U2)]\n",
    "ratings_U3_df = ratings_df[ratings_df[\"user_id\"].isin(U3)]\n",
    "ratings_U4_df = ratings_df[ratings_df[\"user_id\"].isin(U4)]\n",
    "ratings_beyms_df = ratings_df[ratings_df[\"user_id\"].isin(beyms)]\n",
    "ratings_ms_df = ratings_df[ratings_df[\"user_id\"].isin(ms)]"
   ]
  },
  {
   "cell_type": "code",
   "execution_count": 29,
   "metadata": {},
   "outputs": [],
   "source": [
    "sparsity_U1 = 1 - len(ratings_U1_df) / (ratings_U1_df[\"user_id\"].nunique() * ratings_U1_df[\"item_id\"].nunique())\n",
    "sparsity_U2 = 1 - len(ratings_U2_df) / (ratings_U2_df[\"user_id\"].nunique() * ratings_U2_df[\"item_id\"].nunique())\n",
    "sparsity_U3 = 1 - len(ratings_U3_df) / (ratings_U3_df[\"user_id\"].nunique() * ratings_U3_df[\"item_id\"].nunique())\n",
    "sparsity_U4 = 1 - len(ratings_U4_df) / (ratings_U4_df[\"user_id\"].nunique() * ratings_U4_df[\"item_id\"].nunique())\n",
    "sparsity_beyms = 1 - len(ratings_beyms_df) / (ratings_beyms_df[\"user_id\"].nunique() * ratings_beyms_df[\"item_id\"].nunique())\n",
    "sparsity_ms = 1 - len(ratings_ms_df) / (ratings_ms_df[\"user_id\"].nunique() * ratings_ms_df[\"item_id\"].nunique())\n",
    "sparsity_all = 1 - len(ratings_df) / (ratings_df[\"user_id\"].nunique() * ratings_df[\"item_id\"].nunique())"
   ]
  },
  {
   "cell_type": "code",
   "execution_count": 30,
   "metadata": {},
   "outputs": [
    {
     "name": "stdout",
     "output_type": "stream",
     "text": [
      "[Users] U_1: 369, U_2: 919, U_3: 143, U_4: 642, beyms: 2074, ms: 2074, all: 4148\n",
      "[Tracks] U_1: 257013, U_2: 396557, U_3: 119524, U_4: 377768, beyms: 799659, ms: 707005, all: 1084922\n",
      "[Ratings] U_1: 433060, U_2: 935411, U_3: 164203, U_4: 848247, beyms: 2380922, ms: 2948512, all: 5329434\n",
      "[Sparsity] U_1: 0.995434, U_2: 0.997433, U_3: 0.990393, U_4: 0.996502, beyms: 0.998564, ms: 0.997989, all: 0.998816\n"
     ]
    }
   ],
   "source": [
    "print(\"[Users] U_1: %d, U_2: %d, U_3: %d, U_4: %d, beyms: %d, ms: %d, all: %d\" % (ratings_U1_df[\"user_id\"].nunique(), ratings_U2_df[\"user_id\"].nunique(), ratings_U3_df[\"user_id\"].nunique(), ratings_U4_df[\"user_id\"].nunique(), ratings_beyms_df[\"user_id\"].nunique(), ratings_ms_df[\"user_id\"].nunique(), ratings_df[\"user_id\"].nunique()))\n",
    "print(\"[Tracks] U_1: %d, U_2: %d, U_3: %d, U_4: %d, beyms: %d, ms: %d, all: %d\" % (ratings_U1_df[\"item_id\"].nunique(), ratings_U2_df[\"item_id\"].nunique(), ratings_U3_df[\"item_id\"].nunique(), ratings_U4_df[\"item_id\"].nunique(), ratings_beyms_df[\"item_id\"].nunique(), ratings_ms_df[\"item_id\"].nunique(), ratings_df[\"item_id\"].nunique()))\n",
    "print(\"[Ratings] U_1: %d, U_2: %d, U_3: %d, U_4: %d, beyms: %d, ms: %d, all: %d\" % (len(ratings_U1_df), len(ratings_U2_df), len(ratings_U3_df), len(ratings_U4_df), len(ratings_beyms_df), len(ratings_ms_df), len(ratings_df)))\n",
    "print(\"[Sparsity] U_1: %f, U_2: %f, U_3: %f, U_4: %f, beyms: %f, ms: %f, all: %f\" % (sparsity_U1, sparsity_U2, sparsity_U3, sparsity_U4, sparsity_beyms, sparsity_ms, sparsity_all))"
   ]
  },
  {
   "cell_type": "code",
   "execution_count": null,
   "metadata": {},
   "outputs": [],
   "source": []
  },
  {
   "cell_type": "code",
   "execution_count": 29,
   "metadata": {},
   "outputs": [
    {
     "name": "stdout",
     "output_type": "stream",
     "text": [
      "=== BeyMS ===\n",
      "Users: 2074\n",
      "Tracks: 799659\n",
      "Artists: 83467\n",
      "Listening Events (LEs): 7941793\n",
      "Min. LEs per user: 9\n",
      "Q1 LEs per user: 2398\n",
      "Median LEs per user: 3558\n",
      "Q3 LEs per user: 5067\n",
      "Max. LEs per user: 11177\n",
      "Mean (Std) LEs per user: 3829.215526 (1940.383957)\n",
      "Mean (Std) Users per country: 44.127660 (77.669483)\n"
     ]
    }
   ],
   "source": [
    "n_artists = events_df[events_df[\"user_id\"].isin(beyms)][\"artist_id\"].nunique()\n",
    "n_tracks = events_df[events_df[\"user_id\"].isin(beyms)][\"track_id\"].nunique()\n",
    "\n",
    "beyms_countries_df = pd.read_csv(\"../data/LFM-1b_users.txt\", sep=\"\\t\")[[\"user_id\", \"country\"]].set_index(\"user_id\").dropna().loc[beyms]\n",
    "mean_users_per_country = beyms_countries_df[\"country\"].value_counts().mean()\n",
    "std_users_per_country = beyms_countries_df[\"country\"].value_counts().std()\n",
    "\n",
    "events_beyms_df = events_df[events_df[\"user_id\"].isin(beyms)]\n",
    "n_LEs = len(events_beyms_df)\n",
    "groupby_beyms = events_beyms_df.groupby(\"user_id\")\n",
    "min_LEs_per_user = groupby_beyms.size().describe().loc[\"min\"]\n",
    "q1_LEs_per_user = groupby_beyms.size().describe().loc[\"25%\"]\n",
    "median_LEs_per_user = groupby_beyms.size().describe().loc[\"50%\"]\n",
    "q3_LEs_per_user = groupby_beyms.size().describe().loc[\"75%\"]\n",
    "max_LEs_per_user = groupby_beyms.size().describe().loc[\"max\"]\n",
    "mean_LEs_per_user = groupby_beyms.size().describe().loc[\"mean\"]\n",
    "std_LEs_per_user = groupby_beyms.size().describe().loc[\"std\"]\n",
    "\n",
    "print(\"=== BeyMS ===\")\n",
    "print(\"Users: %d\" % len(beyms))\n",
    "print(\"Tracks: %d\" % n_tracks)\n",
    "print(\"Artists: %d\" % n_artists)\n",
    "print(\"Listening Events (LEs): %d\" % n_LEs)\n",
    "print(\"Min. LEs per user: %d\" % min_LEs_per_user)\n",
    "print(\"Q1 LEs per user: %d\" % q1_LEs_per_user)\n",
    "print(\"Median LEs per user: %d\" % median_LEs_per_user)\n",
    "print(\"Q3 LEs per user: %d\" % q3_LEs_per_user)\n",
    "print(\"Max. LEs per user: %d\" % max_LEs_per_user)\n",
    "print(\"Mean (Std) LEs per user: %f (%f)\" % (mean_LEs_per_user, std_LEs_per_user))\n",
    "print(\"Mean (Std) Users per country: %f (%f)\" % (mean_users_per_country, std_users_per_country))"
   ]
  },
  {
   "cell_type": "code",
   "execution_count": 30,
   "metadata": {},
   "outputs": [
    {
     "name": "stdout",
     "output_type": "stream",
     "text": [
      "=== MS ===\n",
      "Users: 2074\n",
      "Tracks: 707005\n",
      "Artists: 75514\n",
      "Listening Events (LEs): 8745570\n",
      "Min. LEs per user: 137\n",
      "Q1 LEs per user: 2835\n",
      "Median LEs per user: 4018\n",
      "Q3 LEs per user: 5407\n",
      "Max. LEs per user: 10781\n",
      "Mean (Std) LEs per user: 4216.764706 (1834.878873)\n",
      "Mean (Std) Users per country: 44.127660 (73.199138)\n"
     ]
    }
   ],
   "source": [
    "n_artists = events_df[events_df[\"user_id\"].isin(ms)][\"artist_id\"].nunique()\n",
    "n_tracks = events_df[events_df[\"user_id\"].isin(ms)][\"track_id\"].nunique()\n",
    "\n",
    "ms_countries_df = pd.read_csv(\"../data/LFM-1b_users.txt\", sep=\"\\t\")[[\"user_id\", \"country\"]].set_index(\"user_id\").dropna().loc[ms]\n",
    "mean_users_per_country = ms_countries_df[\"country\"].value_counts().mean()\n",
    "std_users_per_country = ms_countries_df[\"country\"].value_counts().std()\n",
    "\n",
    "events_ms_df = events_df[events_df[\"user_id\"].isin(ms)]\n",
    "n_LEs = len(events_ms_df)\n",
    "groupby_ms = events_ms_df.groupby(\"user_id\")\n",
    "min_LEs_per_user = groupby_ms.size().describe().loc[\"min\"]\n",
    "q1_LEs_per_user = groupby_ms.size().describe().loc[\"25%\"]\n",
    "median_LEs_per_user = groupby_ms.size().describe().loc[\"50%\"]\n",
    "q3_LEs_per_user = groupby_ms.size().describe().loc[\"75%\"]\n",
    "max_LEs_per_user = groupby_ms.size().describe().loc[\"max\"]\n",
    "mean_LEs_per_user = groupby_ms.size().describe().loc[\"mean\"]\n",
    "std_LEs_per_user = groupby_ms.size().describe().loc[\"std\"]\n",
    "\n",
    "print(\"=== MS ===\")\n",
    "print(\"Users: %d\" % len(ms))\n",
    "print(\"Tracks: %d\" % n_tracks)\n",
    "print(\"Artists: %d\" % n_artists)\n",
    "print(\"Listening Events (LEs): %d\" % n_LEs)\n",
    "print(\"Min. LEs per user: %d\" % min_LEs_per_user)\n",
    "print(\"Q1 LEs per user: %d\" % q1_LEs_per_user)\n",
    "print(\"Median LEs per user: %d\" % median_LEs_per_user)\n",
    "print(\"Q3 LEs per user: %d\" % q3_LEs_per_user)\n",
    "print(\"Max. LEs per user: %d\" % max_LEs_per_user)\n",
    "print(\"Mean (Std) LEs per user: %f (%f)\" % (mean_LEs_per_user, std_LEs_per_user))\n",
    "print(\"Mean (Std) Users per country: %f (%f)\" % (mean_users_per_country, std_users_per_country))"
   ]
  },
  {
   "cell_type": "code",
   "execution_count": 33,
   "metadata": {},
   "outputs": [
    {
     "name": "stdout",
     "output_type": "stream",
     "text": [
      "=== Overall ===\n",
      "Users: 4148\n",
      "Tracks: 1084922\n",
      "Artists: 110898\n",
      "Listening Events (LEs): 16687363\n",
      "Min. LEs per user: 9\n",
      "Q1 LEs per user: 2604\n",
      "Median LEs per user: 3766\n",
      "Q3 LEs per user: 5252\n",
      "Max. LEs per user: 11177\n",
      "Mean (Std) LEs per user: 4022.990116 (1898.060313)\n",
      "Mean (Std) Users per country: 88.255319 (150.124074)\n"
     ]
    }
   ],
   "source": [
    "n_artists = events_df[\"artist_id\"].nunique()\n",
    "n_tracks = events_df[\"track_id\"].nunique()\n",
    "\n",
    "all_countries_df = pd.read_csv(\"../data/LFM-1b_users.txt\", sep=\"\\t\")[[\"user_id\", \"country\"]].set_index(\"user_id\").dropna().loc[beyms+ms]\n",
    "mean_users_per_country = all_countries_df[\"country\"].value_counts().mean()\n",
    "std_users_per_country = all_countries_df[\"country\"].value_counts().std()\n",
    "\n",
    "n_LEs = len(events_df)\n",
    "groupby = events_df.groupby(\"user_id\")\n",
    "min_LEs_per_user = groupby.size().describe().loc[\"min\"]\n",
    "q1_LEs_per_user = groupby.size().describe().loc[\"25%\"]\n",
    "median_LEs_per_user = groupby.size().describe().loc[\"50%\"]\n",
    "q3_LEs_per_user = groupby.size().describe().loc[\"75%\"]\n",
    "max_LEs_per_user = groupby.size().describe().loc[\"max\"]\n",
    "mean_LEs_per_user = groupby.size().describe().loc[\"mean\"]\n",
    "std_LEs_per_user = groupby.size().describe().loc[\"std\"]\n",
    "\n",
    "print(\"=== Overall ===\")\n",
    "print(\"Users: %d\" % (len(beyms)+len(ms)))\n",
    "print(\"Tracks: %d\" % n_tracks)\n",
    "print(\"Artists: %d\" % n_artists)\n",
    "print(\"Listening Events (LEs): %d\" % n_LEs)\n",
    "print(\"Min. LEs per user: %d\" % min_LEs_per_user)\n",
    "print(\"Q1 LEs per user: %d\" % q1_LEs_per_user)\n",
    "print(\"Median LEs per user: %d\" % median_LEs_per_user)\n",
    "print(\"Q3 LEs per user: %d\" % q3_LEs_per_user)\n",
    "print(\"Max. LEs per user: %d\" % max_LEs_per_user)\n",
    "print(\"Mean (Std) LEs per user: %f (%f)\" % (mean_LEs_per_user, std_LEs_per_user))\n",
    "print(\"Mean (Std) Users per country: %f (%f)\" % (mean_users_per_country, std_users_per_country))"
   ]
  },
  {
   "cell_type": "code",
   "execution_count": null,
   "metadata": {},
   "outputs": [],
   "source": []
  }
 ],
 "metadata": {
  "kernelspec": {
   "display_name": "SupportTheUnderground",
   "language": "python",
   "name": "supporttheunderground"
  },
  "language_info": {
   "codemirror_mode": {
    "name": "ipython",
    "version": 3
   },
   "file_extension": ".py",
   "mimetype": "text/x-python",
   "name": "python",
   "nbconvert_exporter": "python",
   "pygments_lexer": "ipython3",
   "version": "3.7.3"
  }
 },
 "nbformat": 4,
 "nbformat_minor": 2
}
