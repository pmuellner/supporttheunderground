{
 "cells": [
  {
   "cell_type": "code",
   "execution_count": 1,
   "metadata": {},
   "outputs": [],
   "source": [
    "import pandas as pd\n",
    "import numpy as np\n",
    "import sqlalchemy\n",
    "from sklearn.preprocessing import MinMaxScaler"
   ]
  },
  {
   "cell_type": "markdown",
   "metadata": {},
   "source": [
    "# Generation of Rating Dataset"
   ]
  },
  {
   "cell_type": "code",
   "execution_count": 2,
   "metadata": {},
   "outputs": [],
   "source": [
    "beyms = pd.read_csv(\"data/beyms.csv\")[\"user_id\"].tolist()\n",
    "ms = pd.read_csv(\"data/ms.csv\")[\"user_id\"].tolist()"
   ]
  },
  {
   "cell_type": "code",
   "execution_count": 3,
   "metadata": {},
   "outputs": [],
   "source": [
    "db_options_df = pd.read_csv(\"db_credentials.txt\", sep=\"=\", header=None)\n",
    "db_options_df.columns = [\"variable\", \"value\"]\n",
    "db_options_df = db_options_df.apply(lambda col: col.str.strip())\n",
    "db_options_df.set_index(\"variable\", inplace=True)\n",
    "db_options = db_options_df[\"value\"].to_dict()"
   ]
  },
  {
   "cell_type": "code",
   "execution_count": 4,
   "metadata": {},
   "outputs": [
    {
     "name": "stderr",
     "output_type": "stream",
     "text": [
      "C:\\Users\\pmuellner\\AppData\\Local\\Continuum\\anaconda3\\lib\\site-packages\\pymysql\\cursors.py:170: Warning: (1366, \"Incorrect string value: '\\\\xE4ische...' for column 'VARIABLE_VALUE' at row 1\")\n",
      "  result = self._query(query)\n"
     ]
    }
   ],
   "source": [
    "connection = sqlalchemy.create_engine('mysql+pymysql://' + db_options[\"DB_USERNAME\"] + \":\" + db_options[\"DB_PW\"] + db_options[\"DB_PATH\"])\n",
    "\n",
    "events_df = pd.read_sql(con=connection, sql=\"SELECT user_id, track_id FROM events WHERE user_id IN \" + str(tuple(beyms+ms)))\n",
    "playcounts_df = events_df.groupby([\"user_id\", \"track_id\"]).size().reset_index()\n",
    "playcounts_df.columns = [\"user_id\", \"track_id\", \"playcount\"]"
   ]
  },
  {
   "cell_type": "code",
   "execution_count": 18,
   "metadata": {},
   "outputs": [
    {
     "data": {
      "text/html": [
       "<div>\n",
       "<style scoped>\n",
       "    .dataframe tbody tr th:only-of-type {\n",
       "        vertical-align: middle;\n",
       "    }\n",
       "\n",
       "    .dataframe tbody tr th {\n",
       "        vertical-align: top;\n",
       "    }\n",
       "\n",
       "    .dataframe thead th {\n",
       "        text-align: right;\n",
       "    }\n",
       "</style>\n",
       "<table border=\"1\" class=\"dataframe\">\n",
       "  <thead>\n",
       "    <tr style=\"text-align: right;\">\n",
       "      <th></th>\n",
       "      <th>user_id</th>\n",
       "      <th>item_id</th>\n",
       "      <th>rating</th>\n",
       "    </tr>\n",
       "  </thead>\n",
       "  <tbody>\n",
       "    <tr>\n",
       "      <th>0</th>\n",
       "      <td>1002693</td>\n",
       "      <td>542</td>\n",
       "      <td>1.0</td>\n",
       "    </tr>\n",
       "    <tr>\n",
       "      <th>1</th>\n",
       "      <td>1002693</td>\n",
       "      <td>580</td>\n",
       "      <td>67.6</td>\n",
       "    </tr>\n",
       "    <tr>\n",
       "      <th>2</th>\n",
       "      <td>1002693</td>\n",
       "      <td>2553</td>\n",
       "      <td>1.0</td>\n",
       "    </tr>\n",
       "    <tr>\n",
       "      <th>3</th>\n",
       "      <td>1002693</td>\n",
       "      <td>6399</td>\n",
       "      <td>1.0</td>\n",
       "    </tr>\n",
       "    <tr>\n",
       "      <th>4</th>\n",
       "      <td>1002693</td>\n",
       "      <td>7462</td>\n",
       "      <td>1.0</td>\n",
       "    </tr>\n",
       "  </tbody>\n",
       "</table>\n",
       "</div>"
      ],
      "text/plain": [
       "   user_id  item_id  rating\n",
       "0  1002693      542     1.0\n",
       "1  1002693      580    67.6\n",
       "2  1002693     2553     1.0\n",
       "3  1002693     6399     1.0\n",
       "4  1002693     7462     1.0"
      ]
     },
     "execution_count": 18,
     "metadata": {},
     "output_type": "execute_result"
    }
   ],
   "source": [
    "ratings_df = pd.DataFrame()\n",
    "for user_id, data in playcounts_df.groupby(\"user_id\"):\n",
    "    ratings = MinMaxScaler(feature_range=(1, 1000)).fit_transform(data[\"playcount\"].values.reshape(-1, 1).astype(float))\n",
    "    new_rows = data[[\"user_id\", \"track_id\"]].copy()\n",
    "    new_rows[\"rating\"] = ratings\n",
    "    ratings_df = ratings_df.append(new_rows)\n",
    "ratings_df.columns = [\"user_id\", \"item_id\", \"rating\"]\n",
    "ratings_df.head()"
   ]
  },
  {
   "cell_type": "code",
   "execution_count": 19,
   "metadata": {},
   "outputs": [],
   "source": [
    "ratings_df.to_csv(\"data/ratings.csv\", index=False)"
   ]
  },
  {
   "cell_type": "markdown",
   "metadata": {},
   "source": [
    "# Basic Statistics of Rating Data"
   ]
  },
  {
   "cell_type": "code",
   "execution_count": 6,
   "metadata": {},
   "outputs": [],
   "source": [
    "user_groups_df = pd.read_csv(\"data/user_groups.csv\")\n",
    "U1 = user_groups_df[user_groups_df[\"user group\"] == 0][\"user_id\"].tolist()\n",
    "U2 = user_groups_df[user_groups_df[\"user group\"] == 1][\"user_id\"].tolist()\n",
    "U3 = user_groups_df[user_groups_df[\"user group\"] == 2][\"user_id\"].tolist()\n",
    "U4 = user_groups_df[user_groups_df[\"user group\"] == 3][\"user_id\"].tolist()"
   ]
  },
  {
   "cell_type": "code",
   "execution_count": 9,
   "metadata": {},
   "outputs": [],
   "source": [
    "ratings_U1_df = ratings_df[ratings_df[\"user_id\"].isin(U1)]\n",
    "ratings_U2_df = ratings_df[ratings_df[\"user_id\"].isin(U2)]\n",
    "ratings_U3_df = ratings_df[ratings_df[\"user_id\"].isin(U3)]\n",
    "ratings_U4_df = ratings_df[ratings_df[\"user_id\"].isin(U4)]\n",
    "ratings_beyms_df = ratings_df[ratings_df[\"user_id\"].isin(beyms)]\n",
    "ratings_ms_df = ratings_df[ratings_df[\"user_id\"].isin(ms)]"
   ]
  },
  {
   "cell_type": "code",
   "execution_count": 12,
   "metadata": {},
   "outputs": [],
   "source": [
    "sparsity_U1 = 1 - len(ratings_U1_df) / (ratings_U1_df[\"user_id\"].nunique() * ratings_U1_df[\"item_id\"].nunique())\n",
    "sparsity_U2 = 1 - len(ratings_U2_df) / (ratings_U2_df[\"user_id\"].nunique() * ratings_U2_df[\"item_id\"].nunique())\n",
    "sparsity_U3 = 1 - len(ratings_U3_df) / (ratings_U3_df[\"user_id\"].nunique() * ratings_U3_df[\"item_id\"].nunique())\n",
    "sparsity_U4 = 1 - len(ratings_U4_df) / (ratings_U4_df[\"user_id\"].nunique() * ratings_U4_df[\"item_id\"].nunique())\n",
    "sparsity_beyms = 1 - len(ratings_beyms_df) / (ratings_beyms_df[\"user_id\"].nunique() * ratings_beyms_df[\"item_id\"].nunique())\n",
    "sparsity_ms = 1 - len(ratings_ms_df) / (ratings_ms_df[\"user_id\"].nunique() * ratings_ms_df[\"item_id\"].nunique())\n",
    "sparsity_all = 1 - len(ratings_df) / (ratings_df[\"user_id\"].nunique() * ratings_df[\"item_id\"].nunique())"
   ]
  },
  {
   "cell_type": "code",
   "execution_count": 17,
   "metadata": {},
   "outputs": [
    {
     "name": "stdout",
     "output_type": "stream",
     "text": [
      "[Users] U_1: 369, U_2: 919, U_3: 143, U_4: 642, beyms: 2074, ms: 2074, all: 4148\n",
      "[Tracks] U_1: 257013, U_2: 396557, U_3: 119524, U_4: 377768, beyms: 799659, ms: 710447, all: 1087295\n",
      "[Ratings] U_1: 433060, U_2: 935411, U_3: 164203, U_4: 848247, beyms: 2380922, ms: 3001305, all: 5382227\n",
      "[Sparsity] U_1: 0.995434, U_2: 0.997433, U_3: 0.990393, U_4: 0.996502, beyms: 0.998564, ms: 0.997963, all: 0.998807\n"
     ]
    }
   ],
   "source": [
    "print(\"[Users] U_1: %d, U_2: %d, U_3: %d, U_4: %d, beyms: %d, ms: %d, all: %d\" % (ratings_U1_df[\"user_id\"].nunique(), ratings_U2_df[\"user_id\"].nunique(), ratings_U3_df[\"user_id\"].nunique(), ratings_U4_df[\"user_id\"].nunique(), ratings_beyms_df[\"user_id\"].nunique(), ratings_ms_df[\"user_id\"].nunique(), ratings_df[\"user_id\"].nunique()))\n",
    "print(\"[Tracks] U_1: %d, U_2: %d, U_3: %d, U_4: %d, beyms: %d, ms: %d, all: %d\" % (ratings_U1_df[\"item_id\"].nunique(), ratings_U2_df[\"item_id\"].nunique(), ratings_U3_df[\"item_id\"].nunique(), ratings_U4_df[\"item_id\"].nunique(), ratings_beyms_df[\"item_id\"].nunique(), ratings_ms_df[\"item_id\"].nunique(), ratings_df[\"item_id\"].nunique()))\n",
    "print(\"[Ratings] U_1: %d, U_2: %d, U_3: %d, U_4: %d, beyms: %d, ms: %d, all: %d\" % (len(ratings_U1_df), len(ratings_U2_df), len(ratings_U3_df), len(ratings_U4_df), len(ratings_beyms_df), len(ratings_ms_df), len(ratings_df)))\n",
    "print(\"[Sparsity] U_1: %f, U_2: %f, U_3: %f, U_4: %f, beyms: %f, ms: %f, all: %f\" % (sparsity_U1, sparsity_U2, sparsity_U3, sparsity_U4, sparsity_beyms, sparsity_ms, sparsity_all))"
   ]
  },
  {
   "cell_type": "code",
   "execution_count": null,
   "metadata": {},
   "outputs": [],
   "source": []
  }
 ],
 "metadata": {
  "kernelspec": {
   "display_name": "SupportTheUnderground",
   "language": "python",
   "name": "supporttheunderground"
  },
  "language_info": {
   "codemirror_mode": {
    "name": "ipython",
    "version": 3
   },
   "file_extension": ".py",
   "mimetype": "text/x-python",
   "name": "python",
   "nbconvert_exporter": "python",
   "pygments_lexer": "ipython3",
   "version": "3.7.3"
  }
 },
 "nbformat": 4,
 "nbformat_minor": 2
}
