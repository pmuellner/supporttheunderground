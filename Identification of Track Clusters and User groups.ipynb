{
 "cells": [
  {
   "cell_type": "code",
   "execution_count": 10,
   "metadata": {},
   "outputs": [],
   "source": [
    "import pandas as pd\n",
    "import numpy as np\n",
    "from sklearn.preprocessing import MinMaxScaler\n",
    "import umap"
   ]
  },
  {
   "cell_type": "markdown",
   "metadata": {},
   "source": [
    "# Prepare Track Data"
   ]
  },
  {
   "cell_type": "code",
   "execution_count": 4,
   "metadata": {},
   "outputs": [
    {
     "data": {
      "text/html": [
       "<div>\n",
       "<style scoped>\n",
       "    .dataframe tbody tr th:only-of-type {\n",
       "        vertical-align: middle;\n",
       "    }\n",
       "\n",
       "    .dataframe tbody tr th {\n",
       "        vertical-align: top;\n",
       "    }\n",
       "\n",
       "    .dataframe thead th {\n",
       "        text-align: right;\n",
       "    }\n",
       "</style>\n",
       "<table border=\"1\" class=\"dataframe\">\n",
       "  <thead>\n",
       "    <tr style=\"text-align: right;\">\n",
       "      <th></th>\n",
       "      <th>genres</th>\n",
       "    </tr>\n",
       "    <tr>\n",
       "      <th>track_id</th>\n",
       "      <th></th>\n",
       "    </tr>\n",
       "  </thead>\n",
       "  <tbody>\n",
       "    <tr>\n",
       "      <th>4868</th>\n",
       "      <td>['soul', 'jazz', 'singersongwriter', 'neosoul'...</td>\n",
       "    </tr>\n",
       "    <tr>\n",
       "      <th>2900</th>\n",
       "      <td>['electronica', 'shoegaze', 'triphop', 'lofi',...</td>\n",
       "    </tr>\n",
       "    <tr>\n",
       "      <th>572665</th>\n",
       "      <td>['soul', 'singersongwriter', 'blues', 'drama']</td>\n",
       "    </tr>\n",
       "    <tr>\n",
       "      <th>2897</th>\n",
       "      <td>['lounge', 'downtempo', 'newwave', 'postpunk',...</td>\n",
       "    </tr>\n",
       "    <tr>\n",
       "      <th>15100</th>\n",
       "      <td>['singersongwriter', 'indiefolk', 'bluegrass',...</td>\n",
       "    </tr>\n",
       "  </tbody>\n",
       "</table>\n",
       "</div>"
      ],
      "text/plain": [
       "                                                     genres\n",
       "track_id                                                   \n",
       "4868      ['soul', 'jazz', 'singersongwriter', 'neosoul'...\n",
       "2900      ['electronica', 'shoegaze', 'triphop', 'lofi',...\n",
       "572665       ['soul', 'singersongwriter', 'blues', 'drama']\n",
       "2897      ['lounge', 'downtempo', 'newwave', 'postpunk',...\n",
       "15100     ['singersongwriter', 'indiefolk', 'bluegrass',..."
      ]
     },
     "execution_count": 4,
     "metadata": {},
     "output_type": "execute_result"
    }
   ],
   "source": [
    "tracks_df = pd.read_csv(\"data/beyms_more_specific_tracks.csv\", index_col=\"track_id\")\n",
    "tracks_df.head()"
   ]
  },
  {
   "cell_type": "code",
   "execution_count": 11,
   "metadata": {},
   "outputs": [
    {
     "name": "stderr",
     "output_type": "stream",
     "text": [
      "C:\\Users\\pmuellner\\AppData\\Local\\Continuum\\anaconda3\\lib\\site-packages\\numpy\\lib\\arraysetops.py:569: FutureWarning: elementwise comparison failed; returning scalar instead, but in the future will perform elementwise comparison\n",
      "  mask |= (ar1 == a)\n"
     ]
    },
    {
     "data": {
      "text/html": [
       "<div>\n",
       "<style scoped>\n",
       "    .dataframe tbody tr th:only-of-type {\n",
       "        vertical-align: middle;\n",
       "    }\n",
       "\n",
       "    .dataframe tbody tr th {\n",
       "        vertical-align: top;\n",
       "    }\n",
       "\n",
       "    .dataframe thead th {\n",
       "        text-align: right;\n",
       "    }\n",
       "</style>\n",
       "<table border=\"1\" class=\"dataframe\">\n",
       "  <thead>\n",
       "    <tr style=\"text-align: right;\">\n",
       "      <th></th>\n",
       "      <th>danceability</th>\n",
       "      <th>energy</th>\n",
       "      <th>key</th>\n",
       "      <th>loudness</th>\n",
       "      <th>mode</th>\n",
       "      <th>speechiness</th>\n",
       "      <th>acousticness</th>\n",
       "      <th>instrumentalness</th>\n",
       "      <th>liveness</th>\n",
       "      <th>valence</th>\n",
       "      <th>tempo</th>\n",
       "    </tr>\n",
       "    <tr>\n",
       "      <th>track_id</th>\n",
       "      <th></th>\n",
       "      <th></th>\n",
       "      <th></th>\n",
       "      <th></th>\n",
       "      <th></th>\n",
       "      <th></th>\n",
       "      <th></th>\n",
       "      <th></th>\n",
       "      <th></th>\n",
       "      <th></th>\n",
       "      <th></th>\n",
       "    </tr>\n",
       "  </thead>\n",
       "  <tbody>\n",
       "    <tr>\n",
       "      <th>4868</th>\n",
       "      <td>0.730731</td>\n",
       "      <td>0.769997</td>\n",
       "      <td>0.727273</td>\n",
       "      <td>0.823780</td>\n",
       "      <td>1.0</td>\n",
       "      <td>0.008760</td>\n",
       "      <td>0.138554</td>\n",
       "      <td>0.000000</td>\n",
       "      <td>0.045372</td>\n",
       "      <td>0.521995</td>\n",
       "      <td>0.419792</td>\n",
       "    </tr>\n",
       "    <tr>\n",
       "      <th>2900</th>\n",
       "      <td>0.607608</td>\n",
       "      <td>0.788997</td>\n",
       "      <td>0.818182</td>\n",
       "      <td>0.767407</td>\n",
       "      <td>0.0</td>\n",
       "      <td>0.006649</td>\n",
       "      <td>0.461847</td>\n",
       "      <td>0.907000</td>\n",
       "      <td>0.126235</td>\n",
       "      <td>0.157992</td>\n",
       "      <td>0.401404</td>\n",
       "    </tr>\n",
       "    <tr>\n",
       "      <th>572665</th>\n",
       "      <td>0.603604</td>\n",
       "      <td>0.669996</td>\n",
       "      <td>0.181818</td>\n",
       "      <td>0.842271</td>\n",
       "      <td>0.0</td>\n",
       "      <td>0.003588</td>\n",
       "      <td>0.004096</td>\n",
       "      <td>0.000002</td>\n",
       "      <td>0.110203</td>\n",
       "      <td>0.450995</td>\n",
       "      <td>0.431980</td>\n",
       "    </tr>\n",
       "    <tr>\n",
       "      <th>2897</th>\n",
       "      <td>0.863864</td>\n",
       "      <td>0.473993</td>\n",
       "      <td>0.363636</td>\n",
       "      <td>0.733892</td>\n",
       "      <td>1.0</td>\n",
       "      <td>0.052454</td>\n",
       "      <td>0.752008</td>\n",
       "      <td>0.183000</td>\n",
       "      <td>0.145273</td>\n",
       "      <td>0.674997</td>\n",
       "      <td>0.496152</td>\n",
       "    </tr>\n",
       "    <tr>\n",
       "      <th>15100</th>\n",
       "      <td>0.517518</td>\n",
       "      <td>0.491993</td>\n",
       "      <td>0.454545</td>\n",
       "      <td>0.779699</td>\n",
       "      <td>1.0</td>\n",
       "      <td>0.006016</td>\n",
       "      <td>0.027610</td>\n",
       "      <td>0.000032</td>\n",
       "      <td>0.085453</td>\n",
       "      <td>0.445994</td>\n",
       "      <td>0.554316</td>\n",
       "    </tr>\n",
       "  </tbody>\n",
       "</table>\n",
       "</div>"
      ],
      "text/plain": [
       "          danceability    energy       key  loudness  mode  speechiness  \\\n",
       "track_id                                                                  \n",
       "4868          0.730731  0.769997  0.727273  0.823780   1.0     0.008760   \n",
       "2900          0.607608  0.788997  0.818182  0.767407   0.0     0.006649   \n",
       "572665        0.603604  0.669996  0.181818  0.842271   0.0     0.003588   \n",
       "2897          0.863864  0.473993  0.363636  0.733892   1.0     0.052454   \n",
       "15100         0.517518  0.491993  0.454545  0.779699   1.0     0.006016   \n",
       "\n",
       "          acousticness  instrumentalness  liveness   valence     tempo  \n",
       "track_id                                                                \n",
       "4868          0.138554          0.000000  0.045372  0.521995  0.419792  \n",
       "2900          0.461847          0.907000  0.126235  0.157992  0.401404  \n",
       "572665        0.004096          0.000002  0.110203  0.450995  0.431980  \n",
       "2897          0.752008          0.183000  0.145273  0.674997  0.496152  \n",
       "15100         0.027610          0.000032  0.085453  0.445994  0.554316  "
      ]
     },
     "execution_count": 11,
     "metadata": {},
     "output_type": "execute_result"
    }
   ],
   "source": [
    "acoustic_features_df = pd.read_csv(\"data/acoustic_features_lfm_id.tsv\", sep=\"\\t\", index_col=\"track_id\")\n",
    "acoustic_features_df = pd.DataFrame(index=acoustic_features_df.index, columns=acoustic_features_df.columns, data=MinMaxScaler().fit_transform(acoustic_features_df))\n",
    "acoustic_features_df = acoustic_features_df.loc[tracks_df.index]\n",
    "acoustic_features_df.head()"
   ]
  },
  {
   "cell_type": "markdown",
   "metadata": {},
   "source": [
    "# Dimensionality Reduction with UMAP"
   ]
  },
  {
   "cell_type": "code",
   "execution_count": null,
   "metadata": {},
   "outputs": [],
   "source": [
    "latent_dimensions_df = pd.DataFrame(index=acoustic_features_df.index, data=umap.UMAP().fit_transform(acoustic_features_df))\n",
    "latent_dimensions_df.head()"
   ]
  },
  {
   "cell_type": "code",
   "execution_count": null,
   "metadata": {},
   "outputs": [],
   "source": []
  }
 ],
 "metadata": {
  "kernelspec": {
   "display_name": "SupportTheUnderground",
   "language": "python",
   "name": "supporttheunderground"
  },
  "language_info": {
   "codemirror_mode": {
    "name": "ipython",
    "version": 3
   },
   "file_extension": ".py",
   "mimetype": "text/x-python",
   "name": "python",
   "nbconvert_exporter": "python",
   "pygments_lexer": "ipython3",
   "version": "3.7.3"
  }
 },
 "nbformat": 4,
 "nbformat_minor": 2
}
