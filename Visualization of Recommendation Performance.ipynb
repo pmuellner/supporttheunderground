{
 "cells": [
  {
   "cell_type": "code",
   "execution_count": 3,
   "metadata": {},
   "outputs": [],
   "source": [
    "import matplotlib.pyplot as plt\n",
    "import numpy as np"
   ]
  },
  {
   "cell_type": "markdown",
   "metadata": {},
   "source": [
    "# Visualize the motivational example and compare BeyMS and MS"
   ]
  },
  {
   "cell_type": "code",
   "execution_count": 46,
   "metadata": {},
   "outputs": [],
   "source": [
    "barwidth=0.25\n",
    "beyms_bars = np.array([71.669, 57.770])\n",
    "ms_bars = np.array([68.489, 55.042])\n",
    "all_bars = np.array([69.896, 56.249])\n",
    "\n",
    "r1 = np.arange(len(beyms_bars))\n",
    "r2 = [p + barwidth for p in r1]"
   ]
  },
  {
   "cell_type": "code",
   "execution_count": 47,
   "metadata": {},
   "outputs": [
    {
     "data": {
      "text/plain": [
       "<matplotlib.legend.Legend at 0x253a76848d0>"
      ]
     },
     "execution_count": 47,
     "metadata": {},
     "output_type": "execute_result"
    }
   ],
   "source": [
    "%matplotlib qt\n",
    "plt.rcParams.update({'font.size': 22})\n",
    "plt.figure(figsize=(10, 4))\n",
    "plt.hlines(y=0, xmin=ms_bars[0], xmax=beyms_bars[0], linewidth=4)\n",
    "plt.scatter(ms_bars[0], 0, color=\"green\", s=500, zorder=2, label=\"Mainstream users\")\n",
    "plt.scatter(beyms_bars[0], 0, color=\"red\", s=500, zorder=2, label=\"Beyond-mainstream users\")\n",
    "plt.scatter(all_bars[0], 0, color=\"black\", marker=\"|\", linewidth=4, s=500, zorder=2, label=\"All users\")\n",
    "\n",
    "plt.hlines(y=1, xmin=ms_bars[1], xmax=beyms_bars[1], linewidth=4)\n",
    "plt.scatter(ms_bars[1], 1, color=\"green\", s=500, zorder=2)\n",
    "plt.scatter(beyms_bars[1], 1, color=\"red\", s=500, zorder=2)\n",
    "plt.scatter(all_bars[1], 1, color=\"black\", marker=\"|\", linewidth=4, s=500, zorder=2)\n",
    "\n",
    "plt.yticks([0, 1], [\"UserKNN\", \"NMF\"])\n",
    "plt.ylim([-.5, 1.5])\n",
    "plt.xlabel(\"Mean Absolute Error\")\n",
    "plt.legend(loc=\"upper right\")"
   ]
  },
  {
   "cell_type": "markdown",
   "metadata": {},
   "source": [
    "# Visualize MAE using NMF for all four user groups"
   ]
  },
  {
   "cell_type": "code",
   "execution_count": 48,
   "metadata": {},
   "outputs": [],
   "source": [
    "barwidth=0.25\n",
    "beyms_bars = np.array([57.770] * 4)\n",
    "ms_bars = np.array([55.0426] * 4)\n",
    "usergroup_bars = np.array([57.227, 59.688, 54.207, 56.620])\n",
    "\n",
    "r1 = np.arange(len(beyms_bars))\n",
    "r2 = [p + barwidth for p in r1]\n",
    "r3 = [p + barwidth for p in r2]\n",
    "r4 = [p + barwidth for p in r3]"
   ]
  },
  {
   "cell_type": "code",
   "execution_count": 49,
   "metadata": {},
   "outputs": [
    {
     "data": {
      "text/plain": [
       "<matplotlib.legend.Legend at 0x253a7492978>"
      ]
     },
     "execution_count": 49,
     "metadata": {},
     "output_type": "execute_result"
    }
   ],
   "source": [
    "plt.rcParams.update({'font.size': 20})\n",
    "plt.figure(figsize=(9, 4))\n",
    "plt.axvline(x=beyms_bars[0], linestyle=\"--\", color=\"black\", linewidth=4, zorder=1, label=r\"$BeyMS$\")\n",
    "plt.axvline(x=ms_bars[0], linestyle=\"--\", color=\"grey\", linewidth=4, zorder=0, label=r\"$MS$\")\n",
    "\n",
    "plt.hlines(y=2, xmin=beyms_bars[1], xmax=usergroup_bars[1], linewidth=4)\n",
    "plt.scatter(usergroup_bars[1], 2, color=\"red\", s=500, zorder=2)\n",
    "\n",
    "plt.hlines(y=3, xmin=beyms_bars[0], xmax=usergroup_bars[0], linewidth=4)\n",
    "plt.scatter(usergroup_bars[0], 3, color=\"orange\", s=500, zorder=2)\n",
    "\n",
    "plt.hlines(y=1, xmin=beyms_bars[2], xmax=usergroup_bars[2], linewidth=4)\n",
    "plt.scatter(usergroup_bars[2], 1, color=\"green\", s=500, zorder=2)\n",
    "\n",
    "plt.hlines(y=0, xmin=beyms_bars[3], xmax=usergroup_bars[3], linewidth=4)\n",
    "plt.scatter(usergroup_bars[3], 0, color=\"green\", s=500, zorder=2)\n",
    "\n",
    "plt.yticks([0, 1, 2, 3], [r\"$U_{elec}$\", r\"$U_{ambi}$\", r\"$U_{hard}$\", r\"$U_{folk}$\"])\n",
    "plt.ylim([-.5, 3.5])\n",
    "plt.xlim([53, 62])\n",
    "plt.xlabel(\"Mean Absolute Error\")\n",
    "plt.legend(loc=\"lower right\")"
   ]
  },
  {
   "cell_type": "code",
   "execution_count": null,
   "metadata": {},
   "outputs": [],
   "source": []
  }
 ],
 "metadata": {
  "kernelspec": {
   "display_name": "SupportTheUnderground",
   "language": "python",
   "name": "supporttheunderground"
  },
  "language_info": {
   "codemirror_mode": {
    "name": "ipython",
    "version": 3
   },
   "file_extension": ".py",
   "mimetype": "text/x-python",
   "name": "python",
   "nbconvert_exporter": "python",
   "pygments_lexer": "ipython3",
   "version": "3.7.3"
  }
 },
 "nbformat": 4,
 "nbformat_minor": 2
}
